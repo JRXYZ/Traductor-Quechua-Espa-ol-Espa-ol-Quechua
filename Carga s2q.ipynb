{
 "cells": [
  {
   "cell_type": "markdown",
   "id": "c9c9c241",
   "metadata": {},
   "source": [
    "<h1 style=\"color:gold; background-color:black; padding:20px; text-align: center\">Importar modelo S2Q</h1>"
   ]
  },
  {
   "cell_type": "markdown",
   "id": "4ebf8d31",
   "metadata": {},
   "source": [
    "<h1>Importar librerías necesarias</h1>"
   ]
  },
  {
   "cell_type": "code",
   "execution_count": null,
   "id": "b4712dc0",
   "metadata": {},
   "outputs": [],
   "source": [
    "import json\n",
    "#import os\n",
    "import pandas as pd\n",
    "\n",
    "import numpy as np\n",
    "import tensorflow as tf"
   ]
  },
  {
   "cell_type": "code",
   "execution_count": null,
   "id": "4c4808b4",
   "metadata": {},
   "outputs": [],
   "source": [
    "#from tensorflow import keras\n",
    "from tensorflow.keras.layers import Input, LSTM, Dense\n",
    "from tensorflow.keras.models import Model, load_model\n",
    "from tensorflow.keras.utils import plot_model"
   ]
  },
  {
   "cell_type": "code",
   "execution_count": null,
   "id": "46514b16",
   "metadata": {},
   "outputs": [],
   "source": [
    "# no cortar el texto en los DataFrames\n",
    "pd.set_option('display.max_columns', None)  "
   ]
  },
  {
   "cell_type": "markdown",
   "id": "cd5ce8eb",
   "metadata": {},
   "source": [
    "<h1>Cargar Modelo</h1>"
   ]
  },
  {
   "cell_type": "markdown",
   "id": "b6755b30",
   "metadata": {},
   "source": [
    "<h3 style=\"color:crimson\">Configuración</h3>"
   ]
  },
  {
   "cell_type": "code",
   "execution_count": null,
   "id": "429eb89c",
   "metadata": {},
   "outputs": [],
   "source": [
    "batch_size = 64 # tamño de los lotes para entrenamiento\n",
    "#epochs = 250 # Número de epochs\n",
    "latent_dim = 256 # dimensión del espacio latente para el encoder\n",
    "#num_samples = 10000\n",
    "data_path = \"./Modelos/s2q_17K_250/\" "
   ]
  },
  {
   "cell_type": "markdown",
   "id": "18eb48d3",
   "metadata": {},
   "source": [
    "<h3 style=\"color:crimson\">Modelo per-sé</h3>"
   ]
  },
  {
   "cell_type": "code",
   "execution_count": null,
   "id": "34c37733",
   "metadata": {},
   "outputs": [],
   "source": [
    "model = load_model(data_path + \"spanish_to_quechua_file.h5\")"
   ]
  },
  {
   "cell_type": "markdown",
   "id": "4499e2ca",
   "metadata": {},
   "source": [
    "<h3 style=\"color:crimson\">Diccionarios</h3>"
   ]
  },
  {
   "cell_type": "code",
   "execution_count": null,
   "id": "b4fb29d5",
   "metadata": {},
   "outputs": [],
   "source": [
    "with open(data_path + \"input_token_index.txt\", \"r\") as f:\n",
    "    input_token_index = json.load(f)"
   ]
  },
  {
   "cell_type": "code",
   "execution_count": null,
   "id": "88fdbff8",
   "metadata": {},
   "outputs": [],
   "source": [
    "with open(data_path + \"target_token_index.txt\", \"r\") as f:\n",
    "    target_token_index = json.load(f)"
   ]
  },
  {
   "cell_type": "markdown",
   "id": "d7bc5b26",
   "metadata": {},
   "source": [
    "<h3 style=\"color:crimson\">Valores puntuales</h3>"
   ]
  },
  {
   "cell_type": "code",
   "execution_count": null,
   "id": "7130a2d7",
   "metadata": {},
   "outputs": [],
   "source": [
    "if \"_17K_250\" in data_path:\n",
    "    num_encoder_tokens = 117\n",
    "    num_decoder_tokens = 109\n",
    "    max_encoder_seq_length = 250\n",
    "    max_decoder_seq_length = 252\n",
    "elif \"_110K_500\" in data_path:\n",
    "    num_encoder_tokens = 0\n",
    "    num_decoder_tokens = 0\n",
    "    max_encoder_seq_length = 0\n",
    "    max_decoder_seq_length = 0"
   ]
  },
  {
   "cell_type": "markdown",
   "id": "c38907a0",
   "metadata": {},
   "source": [
    "<h3 style=\"color:crimson\">Textos de entrada</h3>"
   ]
  },
  {
   "cell_type": "code",
   "execution_count": null,
   "id": "a6a71833",
   "metadata": {},
   "outputs": [],
   "source": [
    "input_texts = [\"ácido\",\"agradable\",\"agrícola\",\n",
    "               \"cero\", \"uno\", \"dos\", \"tres\"]"
   ]
  },
  {
   "cell_type": "markdown",
   "id": "364ad85a",
   "metadata": {},
   "source": [
    "<h1>Ejecutar el modelo</h1>"
   ]
  },
  {
   "cell_type": "code",
   "execution_count": null,
   "id": "5de29b04",
   "metadata": {},
   "outputs": [],
   "source": [
    "encoder_inputs = model.input[0]  # input_1\n",
    "encoder_outputs, state_h_enc, state_c_enc = model.layers[2].output  # lstm_1\n",
    "encoder_states = [state_h_enc, state_c_enc]\n",
    "encoder_model = Model(encoder_inputs, encoder_states)\n",
    "\n",
    "decoder_inputs = model.input[1]  # input_2\n",
    "decoder_state_input_h = Input(shape=(latent_dim,), name=\"input_3\")\n",
    "decoder_state_input_c = Input(shape=(latent_dim,), name=\"input_4\")\n",
    "decoder_states_inputs = [decoder_state_input_h, decoder_state_input_c]\n",
    "\n",
    "decoder_lstm = model.layers[3]\n",
    "decoder_outputs, state_h_dec, state_c_dec = decoder_lstm(\n",
    "    decoder_inputs, initial_state=decoder_states_inputs\n",
    ")\n",
    "decoder_states = [state_h_dec, state_c_dec]\n",
    "\n",
    "decoder_dense = model.layers[4]\n",
    "decoder_outputs = decoder_dense(decoder_outputs)\n",
    "decoder_model = Model(\n",
    "    [decoder_inputs] + decoder_states_inputs, [decoder_outputs] + decoder_states\n",
    ")\n",
    "\n",
    "# Reverse-lookup taken index to decode sequences back to\n",
    "# something readable.\n",
    "reverse_input_char_index = dict((i, char) for char, i in input_token_index.items())\n",
    "reverse_target_char_index = dict((i, char) for char, i in target_token_index.items())"
   ]
  },
  {
   "cell_type": "code",
   "execution_count": null,
   "id": "fc8eac90",
   "metadata": {},
   "outputs": [],
   "source": [
    "def encode_sequence(input_seq):\n",
    "    pass"
   ]
  },
  {
   "cell_type": "code",
   "execution_count": null,
   "id": "14ec8def",
   "metadata": {},
   "outputs": [],
   "source": [
    "def decode_sequence(input_seq):\n",
    "    # Encode the input as state vectors.\n",
    "    states_value = encoder_model.predict(input_seq)\n",
    "\n",
    "    # Generate empty target sequence of length 1.\n",
    "    target_seq = np.zeros((1, 1, num_decoder_tokens))\n",
    "    # Populate the first character of target sequence with the start character.\n",
    "    target_seq[0, 0, target_token_index[\"\\t\"]] = 1.0\n",
    "\n",
    "    # Sampling loop for a batch of sequences\n",
    "    # (to simplify, here we assume a batch of size 1).\n",
    "    stop_condition = False\n",
    "    decoded_sentence = \"\"\n",
    "    while not stop_condition:\n",
    "        output_tokens, h, c = decoder_model.predict([target_seq] + states_value)\n",
    "\n",
    "        # Sample a token\n",
    "        sampled_token_index = np.argmax(output_tokens[0, -1, :])\n",
    "        sampled_char = reverse_target_char_index[sampled_token_index]\n",
    "        decoded_sentence += sampled_char\n",
    "\n",
    "        # Exit condition: either hit max length\n",
    "        # or find stop character.\n",
    "        if sampled_char == \"\\n\" or len(decoded_sentence) > max_decoder_seq_length:\n",
    "            stop_condition = True\n",
    "\n",
    "        # Update the target sequence (of length 1).\n",
    "        target_seq = np.zeros((1, 1, num_decoder_tokens))\n",
    "        target_seq[0, 0, sampled_token_index] = 1.0\n",
    "\n",
    "        # Update states\n",
    "        states_value = [h, c]\n",
    "    return decoded_sentence"
   ]
  },
  {
   "cell_type": "markdown",
   "id": "068d3966",
   "metadata": {},
   "source": [
    "<h1>Validar el Modelo</h1>\n",
    "<p>Con valores de entrenamiento</p>"
   ]
  },
  {
   "cell_type": "code",
   "execution_count": null,
   "id": "cfad2cd8",
   "metadata": {},
   "outputs": [],
   "source": []
  },
  {
   "cell_type": "markdown",
   "id": "971ff94b",
   "metadata": {},
   "source": [
    "<h1>Probar el modelo</h1>\n",
    "<p>Con valores NO vistos en el entrenamiento</p>"
   ]
  },
  {
   "cell_type": "code",
   "execution_count": null,
   "id": "7b99e526",
   "metadata": {},
   "outputs": [],
   "source": [
    "#for seq_index in range(100):4\n",
    "for seq_index in range(len(input_texts)):\n",
    "    # Take one sequence (part of the training set)\n",
    "    # for trying out decoding.\n",
    "    input_seq = encoder_input_data[seq_index : seq_index + 1]\n",
    "    decoded_sentence = decode_sequence(input_seq)\n",
    "    print(\"-\")\n",
    "    print(\"Oración de entrada:\", input_texts[seq_index])\n",
    "    print(\"Oración decodificada:\", decoded_sentence)"
   ]
  }
 ],
 "metadata": {
  "kernelspec": {
   "display_name": "Python 3 (ipykernel)",
   "language": "python",
   "name": "python3"
  },
  "language_info": {
   "codemirror_mode": {
    "name": "ipython",
    "version": 3
   },
   "file_extension": ".py",
   "mimetype": "text/x-python",
   "name": "python",
   "nbconvert_exporter": "python",
   "pygments_lexer": "ipython3",
   "version": "3.9.16"
  }
 },
 "nbformat": 4,
 "nbformat_minor": 5
}
