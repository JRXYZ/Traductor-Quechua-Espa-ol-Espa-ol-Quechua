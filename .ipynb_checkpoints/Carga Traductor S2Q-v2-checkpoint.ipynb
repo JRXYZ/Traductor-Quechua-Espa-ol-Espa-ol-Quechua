{
 "cells": [
  {
   "cell_type": "code",
   "execution_count": 1,
   "id": "57fe0567",
   "metadata": {},
   "outputs": [],
   "source": [
    "PATH = \"./Modelos/s2q_90K_250/\""
   ]
  },
  {
   "cell_type": "markdown",
   "id": "c17febc8",
   "metadata": {},
   "source": [
    "<h1>Importar librerías necesarias</h1>"
   ]
  },
  {
   "cell_type": "code",
   "execution_count": 2,
   "id": "82b20de2",
   "metadata": {},
   "outputs": [
    {
     "data": {
      "text/plain": [
       "\"\\n# 0 - 2 no elimina el verbose\\n# 3 no imprime nada, ni siquiera los print()\\n#os.environ['TF_CPP_MIN_LOG_LEVEL'] = '3'\\n\""
      ]
     },
     "execution_count": 2,
     "metadata": {},
     "output_type": "execute_result"
    }
   ],
   "source": [
    "import os\n",
    "'''\n",
    "# 0 - 2 no elimina el verbose\n",
    "# 3 no imprime nada, ni siquiera los print()\n",
    "#os.environ['TF_CPP_MIN_LOG_LEVEL'] = '3'\n",
    "'''"
   ]
  },
  {
   "cell_type": "code",
   "execution_count": 3,
   "id": "06fdbb7b",
   "metadata": {},
   "outputs": [],
   "source": [
    "import json\n",
    "import pandas as pd\n",
    "\n",
    "import numpy as np\n",
    "import tensorflow as tf"
   ]
  },
  {
   "cell_type": "code",
   "execution_count": 4,
   "id": "9ab28b5d",
   "metadata": {},
   "outputs": [],
   "source": [
    "#from tensorflow import keras\n",
    "from tensorflow.keras.layers import Input, LSTM, Dense\n",
    "from tensorflow.keras.models import Model, load_model\n",
    "from tensorflow.keras.utils import plot_model"
   ]
  },
  {
   "cell_type": "markdown",
   "id": "5c8f1f52",
   "metadata": {},
   "source": [
    "<h1>Cargar Modelo</h1>"
   ]
  },
  {
   "cell_type": "code",
   "execution_count": 5,
   "id": "cfb8df2b",
   "metadata": {},
   "outputs": [],
   "source": [
    "# model.save(path + \"s2s\")\n",
    "model = load_model(PATH + \"spanish_to_quechua\")"
   ]
  },
  {
   "cell_type": "markdown",
   "id": "3c93b6b6",
   "metadata": {},
   "source": [
    "<h1>Modelo de inferencia</h1>"
   ]
  },
  {
   "cell_type": "markdown",
   "id": "18f59c14",
   "metadata": {},
   "source": [
    "<h3 style=\"color:crimson\">Configuración</h3>"
   ]
  },
  {
   "cell_type": "code",
   "execution_count": 6,
   "id": "2e44769f",
   "metadata": {},
   "outputs": [],
   "source": [
    "batch_size = 64 # tamño de los lotes para entrenamiento\n",
    "latent_dim = 256 # dimensión del espacio latente para el encoder"
   ]
  },
  {
   "cell_type": "code",
   "execution_count": 7,
   "id": "50029fa2",
   "metadata": {},
   "outputs": [],
   "source": [
    "if PATH.endswith(\"_10K/\"):\n",
    "    # Versión previa con sólo 10K oraciones\n",
    "    num_encoder_tokens = 69\n",
    "    num_decoder_tokens = 84\n",
    "    max_encoder_seq_length = 16\n",
    "    max_decoder_seq_length = 47\n",
    "else:\n",
    "    # Versión actual con 90K oraciones\n",
    "    num_encoder_tokens = 110\n",
    "    num_decoder_tokens = 104\n",
    "    max_encoder_seq_length = 40\n",
    "    max_decoder_seq_length = 42"
   ]
  },
  {
   "cell_type": "markdown",
   "id": "e3749319",
   "metadata": {},
   "source": [
    "<h3 style=\"color:crimson\">Carga diccionarios</h3>"
   ]
  },
  {
   "cell_type": "code",
   "execution_count": 8,
   "id": "77e34158",
   "metadata": {},
   "outputs": [],
   "source": [
    "with open(PATH + \"input_token_index.txt\", \"r\") as f:\n",
    "    input_token_index = json.load(f)\n",
    "    \n",
    "with open(PATH + \"target_token_index.txt\", \"r\") as f:\n",
    "    target_token_index = json.load(f)"
   ]
  },
  {
   "cell_type": "markdown",
   "id": "d74b4ecd",
   "metadata": {},
   "source": [
    "<h1>Construir modelo</h1>"
   ]
  },
  {
   "cell_type": "code",
   "execution_count": 9,
   "id": "17df1909",
   "metadata": {},
   "outputs": [],
   "source": [
    "encoder_inputs = model.input[0]  # input_1\n",
    "encoder_outputs, state_h_enc, state_c_enc = model.layers[2].output  # lstm_1\n",
    "encoder_states = [state_h_enc, state_c_enc]\n",
    "encoder_model = Model(encoder_inputs, encoder_states)\n",
    "\n",
    "decoder_inputs = model.input[1]  # input_2\n",
    "decoder_state_input_h = Input(shape=(latent_dim,), name=\"input_3\")\n",
    "decoder_state_input_c = Input(shape=(latent_dim,), name=\"input_4\")\n",
    "decoder_states_inputs = [decoder_state_input_h, decoder_state_input_c]\n",
    "\n",
    "decoder_lstm = model.layers[3]\n",
    "decoder_outputs, state_h_dec, state_c_dec = decoder_lstm(\n",
    "    decoder_inputs, initial_state=decoder_states_inputs\n",
    ")\n",
    "decoder_states = [state_h_dec, state_c_dec]\n",
    "\n",
    "decoder_dense = model.layers[4]\n",
    "decoder_outputs = decoder_dense(decoder_outputs)\n",
    "decoder_model = Model(\n",
    "    [decoder_inputs] + decoder_states_inputs, [decoder_outputs] + decoder_states\n",
    ")\n",
    "\n",
    "# Reverse-lookup taken index to decode sequences back to\n",
    "# something readable.\n",
    "reverse_input_char_index = dict((i, char) for char, i in input_token_index.items())\n",
    "reverse_target_char_index = dict((i, char) for char, i in target_token_index.items())"
   ]
  },
  {
   "cell_type": "markdown",
   "id": "12b052f3",
   "metadata": {},
   "source": [
    "<h3 style=\"color:crimson\">Longitud Máxima del input_text</h3>"
   ]
  },
  {
   "cell_type": "code",
   "execution_count": 10,
   "id": "6cec6032",
   "metadata": {},
   "outputs": [
    {
     "name": "stdout",
     "output_type": "stream",
     "text": [
      "Max length for the sentences: 40\n"
     ]
    }
   ],
   "source": [
    "def eliminar_muy_largos(arr_frases):\n",
    "    pass\n",
    "\n",
    "\n",
    "print(\"Max length for the sentences: {}\".format(max_encoder_seq_length))\n",
    "#for oracion in input_texts:\n",
    "#    if len(oracion) > max_encoder_seq_length:\n",
    "#        print(\"{} - Len: {}\".format(oracion, len(oracion) ))"
   ]
  },
  {
   "cell_type": "markdown",
   "id": "ef2b325f",
   "metadata": {},
   "source": [
    "<h3 style=\"color:crimson\">Codificar secuencia</h3>"
   ]
  },
  {
   "cell_type": "code",
   "execution_count": 11,
   "id": "f54fdc7c",
   "metadata": {},
   "outputs": [],
   "source": [
    "def codificar_secuencia(input_text):\n",
    "    \n",
    "    encoder_input_data = np.zeros( (1, max_encoder_seq_length, num_encoder_tokens), dtype=\"float32\")\n",
    "    \n",
    "    for t, char in enumerate(input_text):\n",
    "        encoder_input_data[0, t, input_token_index[char]] = 1.0\n",
    "    encoder_input_data[0, t + 1 :, input_token_index[\" \"]] = 1.0\n",
    "        \n",
    "    return encoder_input_data"
   ]
  },
  {
   "cell_type": "markdown",
   "id": "6ed018e3",
   "metadata": {},
   "source": [
    "<h3 style=\"color:crimson\">Decodificar secuencia</h3>"
   ]
  },
  {
   "cell_type": "code",
   "execution_count": 12,
   "id": "ffae3562",
   "metadata": {},
   "outputs": [],
   "source": [
    "def decode_sequence(input_seq):\n",
    "    # Encode the input as state vectors.\n",
    "    states_value = encoder_model.predict(input_seq)\n",
    "\n",
    "    # Generate empty target sequence of length 1.\n",
    "    target_seq = np.zeros((1, 1, num_decoder_tokens))\n",
    "    # Populate the first character of target sequence with the start character.\n",
    "    target_seq[0, 0, target_token_index[\"\\t\"]] = 1.0\n",
    "\n",
    "    # Sampling loop for a batch of sequences\n",
    "    # (to simplify, here we assume a batch of size 1).\n",
    "    stop_condition = False\n",
    "    decoded_sentence = \"\"\n",
    "    while not stop_condition:\n",
    "        output_tokens, h, c = decoder_model.predict([target_seq] + states_value)\n",
    "\n",
    "        # Sample a token\n",
    "        sampled_token_index = np.argmax(output_tokens[0, -1, :])\n",
    "        sampled_char = reverse_target_char_index[sampled_token_index]\n",
    "        decoded_sentence += sampled_char\n",
    "\n",
    "        # Exit condition: either hit max length\n",
    "        # or find stop character.\n",
    "        if sampled_char == \"\\n\" or len(decoded_sentence) > max_decoder_seq_length:\n",
    "            stop_condition = True\n",
    "\n",
    "        # Update the target sequence (of length 1).\n",
    "        target_seq = np.zeros((1, 1, num_decoder_tokens))\n",
    "        target_seq[0, 0, sampled_token_index] = 1.0\n",
    "\n",
    "        # Update states\n",
    "        states_value = [h, c]\n",
    "    return decoded_sentence"
   ]
  },
  {
   "cell_type": "markdown",
   "id": "668e09e1",
   "metadata": {},
   "source": [
    "<h1>Probar el modelo</h1>"
   ]
  },
  {
   "cell_type": "code",
   "execution_count": 13,
   "id": "cf71d651",
   "metadata": {},
   "outputs": [],
   "source": [
    "def traductor_s2q(arr_frases):\n",
    "    for frase in arr_frases:\n",
    "        input_seq = codificar_secuencia(frase)\n",
    "        decoded_sentence = decode_sequence(input_seq)\n",
    "                \n",
    "        print(\"Oración de entrada: \", frase)\n",
    "        print(\"Oración decodificada: \", decoded_sentence)\n",
    "        print(\"-\" * 100)"
   ]
  },
  {
   "cell_type": "markdown",
   "id": "3ed215a6",
   "metadata": {},
   "source": [
    "<h3 style=\"color:crimson\">Frases y palabras usadas en el entrenamiento</h3>"
   ]
  },
  {
   "cell_type": "code",
   "execution_count": 14,
   "id": "833a56c2",
   "metadata": {},
   "outputs": [
    {
     "name": "stdout",
     "output_type": "stream",
     "text": [
      "1/1 [==============================] - 1s 973ms/step\n",
      "1/1 [==============================] - 1s 834ms/step\n",
      "1/1 [==============================] - 0s 27ms/step\n",
      "1/1 [==============================] - 0s 27ms/step\n",
      "1/1 [==============================] - 0s 24ms/step\n",
      "1/1 [==============================] - 0s 25ms/step\n",
      "1/1 [==============================] - 0s 26ms/step\n",
      "1/1 [==============================] - 0s 28ms/step\n",
      "1/1 [==============================] - 0s 27ms/step\n",
      "1/1 [==============================] - 0s 28ms/step\n",
      "1/1 [==============================] - 0s 27ms/step\n",
      "1/1 [==============================] - 0s 28ms/step\n",
      "1/1 [==============================] - 0s 27ms/step\n",
      "1/1 [==============================] - 0s 28ms/step\n",
      "Oración de entrada:  Hola.\n",
      "Oración decodificada:  Allinllachu.\n",
      "\n",
      "----------------------------------------------------------------------------------------------------\n",
      "1/1 [==============================] - 0s 26ms/step\n",
      "1/1 [==============================] - 0s 29ms/step\n",
      "1/1 [==============================] - 0s 30ms/step\n",
      "1/1 [==============================] - 0s 30ms/step\n",
      "1/1 [==============================] - 0s 32ms/step\n",
      "1/1 [==============================] - 0s 29ms/step\n",
      "1/1 [==============================] - 0s 28ms/step\n",
      "1/1 [==============================] - 0s 27ms/step\n",
      "Oración de entrada:  ¡Corre!\n",
      "Oración decodificada:  ¡Runa!\n",
      "\n",
      "----------------------------------------------------------------------------------------------------\n",
      "1/1 [==============================] - 0s 25ms/step\n",
      "1/1 [==============================] - 0s 26ms/step\n",
      "1/1 [==============================] - 0s 28ms/step\n",
      "1/1 [==============================] - 0s 25ms/step\n",
      "1/1 [==============================] - 0s 26ms/step\n",
      "Oración de entrada:  ¿Quién?\n",
      "Oración decodificada:  Pi?\n",
      "\n",
      "----------------------------------------------------------------------------------------------------\n",
      "1/1 [==============================] - 0s 23ms/step\n",
      "1/1 [==============================] - 0s 25ms/step\n",
      "1/1 [==============================] - 0s 26ms/step\n",
      "1/1 [==============================] - 0s 26ms/step\n",
      "1/1 [==============================] - 0s 25ms/step\n",
      "1/1 [==============================] - 0s 24ms/step\n",
      "1/1 [==============================] - 0s 25ms/step\n",
      "1/1 [==============================] - 0s 25ms/step\n",
      "1/1 [==============================] - 0s 26ms/step\n",
      "1/1 [==============================] - 0s 25ms/step\n",
      "Oración de entrada:  ¡Ayuda!\n",
      "Oración decodificada:  Yanapay!\n",
      "\n",
      "----------------------------------------------------------------------------------------------------\n",
      "1/1 [==============================] - 0s 21ms/step\n",
      "1/1 [==============================] - 0s 24ms/step\n",
      "1/1 [==============================] - 0s 24ms/step\n",
      "1/1 [==============================] - 0s 25ms/step\n",
      "1/1 [==============================] - 0s 24ms/step\n",
      "1/1 [==============================] - 0s 25ms/step\n",
      "1/1 [==============================] - 0s 25ms/step\n",
      "1/1 [==============================] - 0s 26ms/step\n",
      "Oración de entrada:  ¡Salta!\n",
      "Oración decodificada:  paway!\n",
      "\n",
      "----------------------------------------------------------------------------------------------------\n",
      "1/1 [==============================] - 0s 22ms/step\n",
      "1/1 [==============================] - 0s 24ms/step\n",
      "1/1 [==============================] - 0s 25ms/step\n",
      "1/1 [==============================] - 0s 24ms/step\n",
      "1/1 [==============================] - 0s 25ms/step\n",
      "1/1 [==============================] - 0s 25ms/step\n",
      "1/1 [==============================] - 0s 25ms/step\n",
      "1/1 [==============================] - 0s 25ms/step\n",
      "1/1 [==============================] - 0s 25ms/step\n",
      "1/1 [==============================] - 0s 25ms/step\n",
      "1/1 [==============================] - 0s 25ms/step\n",
      "1/1 [==============================] - 0s 24ms/step\n",
      "1/1 [==============================] - 0s 24ms/step\n",
      "1/1 [==============================] - 0s 25ms/step\n",
      "1/1 [==============================] - 0s 25ms/step\n",
      "1/1 [==============================] - 0s 25ms/step\n",
      "1/1 [==============================] - 0s 25ms/step\n",
      "1/1 [==============================] - 0s 25ms/step\n",
      "1/1 [==============================] - 0s 25ms/step\n",
      "Oración de entrada:  Yo lo sé.\n",
      "Oración decodificada:  Chaytaqa yachani.\n",
      "\n",
      "----------------------------------------------------------------------------------------------------\n",
      "1/1 [==============================] - 0s 22ms/step\n",
      "1/1 [==============================] - 0s 25ms/step\n",
      "1/1 [==============================] - 0s 24ms/step\n",
      "1/1 [==============================] - 0s 25ms/step\n",
      "1/1 [==============================] - 0s 24ms/step\n",
      "1/1 [==============================] - 0s 26ms/step\n",
      "1/1 [==============================] - 0s 25ms/step\n",
      "1/1 [==============================] - 0s 26ms/step\n",
      "1/1 [==============================] - 0s 26ms/step\n",
      "1/1 [==============================] - 0s 25ms/step\n",
      "1/1 [==============================] - 0s 28ms/step\n",
      "1/1 [==============================] - 0s 27ms/step\n",
      "1/1 [==============================] - 0s 25ms/step\n",
      "1/1 [==============================] - 0s 26ms/step\n",
      "1/1 [==============================] - 0s 25ms/step\n",
      "1/1 [==============================] - 0s 25ms/step\n",
      "1/1 [==============================] - 0s 25ms/step\n",
      "1/1 [==============================] - 0s 25ms/step\n",
      "1/1 [==============================] - 0s 25ms/step\n",
      "1/1 [==============================] - 0s 24ms/step\n",
      "1/1 [==============================] - 0s 24ms/step\n",
      "Oración de entrada:  Me preocupo.\n",
      "Oración decodificada:  Llakisqam kachkani.\n",
      "\n",
      "----------------------------------------------------------------------------------------------------\n",
      "1/1 [==============================] - 0s 24ms/step\n",
      "1/1 [==============================] - 0s 24ms/step\n",
      "1/1 [==============================] - 0s 25ms/step\n",
      "1/1 [==============================] - 0s 25ms/step\n",
      "1/1 [==============================] - 0s 31ms/step\n",
      "1/1 [==============================] - 0s 33ms/step\n",
      "1/1 [==============================] - 0s 31ms/step\n",
      "1/1 [==============================] - 0s 29ms/step\n",
      "1/1 [==============================] - 0s 30ms/step\n",
      "1/1 [==============================] - 0s 30ms/step\n",
      "1/1 [==============================] - 0s 29ms/step\n",
      "1/1 [==============================] - 0s 30ms/step\n",
      "1/1 [==============================] - 0s 29ms/step\n",
      "1/1 [==============================] - 0s 30ms/step\n",
      "Oración de entrada:  He vuelto.\n",
      "Oración decodificada:  Kutimuniñam.\n",
      "\n",
      "----------------------------------------------------------------------------------------------------\n"
     ]
    }
   ],
   "source": [
    "input_texts = [\"Hola.\",\"¡Corre!\", \"¿Quién?\", \"¡Ayuda!\", \"¡Salta!\",\n",
    "               \"Yo lo sé.\", \"Me preocupo.\", \"He vuelto.\"]\n",
    "\n",
    "traductor_s2q(input_texts)"
   ]
  },
  {
   "cell_type": "markdown",
   "id": "2b3082ad",
   "metadata": {},
   "source": [
    "<h3 style=\"color:crimson\">Oraciones completamente nuevas</h3>"
   ]
  },
  {
   "cell_type": "code",
   "execution_count": 15,
   "id": "1b2418d5",
   "metadata": {},
   "outputs": [
    {
     "name": "stdout",
     "output_type": "stream",
     "text": [
      "1/1 [==============================] - 0s 27ms/step\n",
      "1/1 [==============================] - 0s 33ms/step\n",
      "1/1 [==============================] - 0s 26ms/step\n",
      "1/1 [==============================] - 0s 30ms/step\n",
      "1/1 [==============================] - 0s 32ms/step\n",
      "1/1 [==============================] - 0s 29ms/step\n",
      "1/1 [==============================] - 0s 29ms/step\n",
      "1/1 [==============================] - 0s 32ms/step\n",
      "1/1 [==============================] - 0s 33ms/step\n",
      "1/1 [==============================] - 0s 28ms/step\n",
      "1/1 [==============================] - 0s 26ms/step\n",
      "1/1 [==============================] - 0s 26ms/step\n",
      "1/1 [==============================] - 0s 24ms/step\n",
      "1/1 [==============================] - 0s 33ms/step\n",
      "1/1 [==============================] - 0s 49ms/step\n",
      "1/1 [==============================] - 0s 34ms/step\n",
      "1/1 [==============================] - 0s 33ms/step\n",
      "1/1 [==============================] - 0s 35ms/step\n",
      "1/1 [==============================] - 0s 27ms/step\n",
      "1/1 [==============================] - 0s 28ms/step\n",
      "1/1 [==============================] - 0s 27ms/step\n",
      "1/1 [==============================] - 0s 26ms/step\n",
      "1/1 [==============================] - 0s 29ms/step\n",
      "1/1 [==============================] - 0s 32ms/step\n",
      "1/1 [==============================] - 0s 36ms/step\n",
      "1/1 [==============================] - 0s 31ms/step\n",
      "1/1 [==============================] - 0s 33ms/step\n",
      "1/1 [==============================] - 0s 31ms/step\n",
      "1/1 [==============================] - 0s 37ms/step\n",
      "1/1 [==============================] - 0s 32ms/step\n",
      "1/1 [==============================] - 0s 33ms/step\n",
      "1/1 [==============================] - 0s 29ms/step\n",
      "1/1 [==============================] - 0s 29ms/step\n",
      "1/1 [==============================] - 0s 73ms/step\n",
      "1/1 [==============================] - 0s 33ms/step\n",
      "1/1 [==============================] - 0s 28ms/step\n",
      "Oración de entrada:  Ahora oraciones nuevas\n",
      "Oración decodificada:  Kunanqa estudiaykipaqmi tusuy kay.\n",
      "\n",
      "----------------------------------------------------------------------------------------------------\n",
      "1/1 [==============================] - 0s 25ms/step\n",
      "1/1 [==============================] - 0s 28ms/step\n",
      "1/1 [==============================] - 0s 31ms/step\n",
      "1/1 [==============================] - 0s 29ms/step\n",
      "1/1 [==============================] - 0s 30ms/step\n",
      "1/1 [==============================] - 0s 29ms/step\n",
      "1/1 [==============================] - 0s 32ms/step\n",
      "1/1 [==============================] - 0s 36ms/step\n",
      "1/1 [==============================] - 0s 28ms/step\n",
      "1/1 [==============================] - 0s 30ms/step\n",
      "1/1 [==============================] - 0s 29ms/step\n",
      "1/1 [==============================] - 0s 28ms/step\n",
      "1/1 [==============================] - 0s 26ms/step\n",
      "1/1 [==============================] - 0s 35ms/step\n",
      "1/1 [==============================] - 0s 31ms/step\n",
      "Oración de entrada:  Mi nombre es Alexander\n",
      "Oración decodificada:  Allquymi kan.\n",
      "\n",
      "----------------------------------------------------------------------------------------------------\n",
      "1/1 [==============================] - 0s 27ms/step\n",
      "1/1 [==============================] - 0s 33ms/step\n",
      "1/1 [==============================] - 0s 33ms/step\n",
      "1/1 [==============================] - 0s 30ms/step\n",
      "1/1 [==============================] - 0s 31ms/step\n",
      "1/1 [==============================] - 0s 29ms/step\n",
      "1/1 [==============================] - 0s 29ms/step\n",
      "1/1 [==============================] - 0s 35ms/step\n",
      "1/1 [==============================] - 0s 34ms/step\n",
      "1/1 [==============================] - 0s 29ms/step\n",
      "1/1 [==============================] - 0s 28ms/step\n",
      "1/1 [==============================] - 0s 32ms/step\n",
      "1/1 [==============================] - 0s 104ms/step\n",
      "1/1 [==============================] - 0s 33ms/step\n",
      "1/1 [==============================] - 0s 34ms/step\n",
      "1/1 [==============================] - 0s 31ms/step\n",
      "1/1 [==============================] - 0s 28ms/step\n",
      "1/1 [==============================] - 0s 33ms/step\n",
      "1/1 [==============================] - 0s 32ms/step\n",
      "1/1 [==============================] - 0s 30ms/step\n",
      "1/1 [==============================] - 0s 29ms/step\n",
      "1/1 [==============================] - 0s 30ms/step\n",
      "1/1 [==============================] - 0s 28ms/step\n",
      "1/1 [==============================] - 0s 34ms/step\n",
      "1/1 [==============================] - 0s 34ms/step\n",
      "1/1 [==============================] - 0s 33ms/step\n",
      "1/1 [==============================] - 0s 33ms/step\n",
      "1/1 [==============================] - 0s 31ms/step\n",
      "1/1 [==============================] - 0s 37ms/step\n",
      "1/1 [==============================] - 0s 32ms/step\n",
      "1/1 [==============================] - 0s 32ms/step\n",
      "1/1 [==============================] - 0s 30ms/step\n",
      "1/1 [==============================] - 0s 29ms/step\n",
      "1/1 [==============================] - 0s 29ms/step\n",
      "1/1 [==============================] - 0s 32ms/step\n",
      "1/1 [==============================] - 0s 26ms/step\n",
      "1/1 [==============================] - 0s 26ms/step\n",
      "1/1 [==============================] - 0s 27ms/step\n",
      "1/1 [==============================] - 0s 28ms/step\n",
      "Oración de entrada:  Hoy es nuestra presentación\n",
      "Oración decodificada:  Kunan punchawqa achkatam llamk'achin.\n",
      "\n",
      "----------------------------------------------------------------------------------------------------\n",
      "1/1 [==============================] - 0s 27ms/step\n",
      "1/1 [==============================] - 0s 26ms/step\n",
      "1/1 [==============================] - 0s 26ms/step\n",
      "1/1 [==============================] - 0s 27ms/step\n",
      "1/1 [==============================] - 0s 28ms/step\n",
      "1/1 [==============================] - 0s 33ms/step\n",
      "1/1 [==============================] - 0s 34ms/step\n",
      "1/1 [==============================] - 0s 31ms/step\n",
      "1/1 [==============================] - 0s 36ms/step\n",
      "1/1 [==============================] - 0s 35ms/step\n",
      "1/1 [==============================] - 0s 31ms/step\n",
      "1/1 [==============================] - 0s 29ms/step\n",
      "1/1 [==============================] - 0s 27ms/step\n",
      "1/1 [==============================] - 0s 26ms/step\n",
      "1/1 [==============================] - 0s 26ms/step\n",
      "1/1 [==============================] - 0s 26ms/step\n",
      "1/1 [==============================] - 0s 47ms/step\n",
      "1/1 [==============================] - 0s 35ms/step\n",
      "1/1 [==============================] - 0s 33ms/step\n",
      "1/1 [==============================] - 0s 33ms/step\n",
      "1/1 [==============================] - 0s 28ms/step\n",
      "1/1 [==============================] - 0s 29ms/step\n",
      "1/1 [==============================] - 0s 27ms/step\n",
      "1/1 [==============================] - 0s 27ms/step\n",
      "Oración de entrada:  Hemos aprendido bastante\n",
      "Oración decodificada:  Allintam sayarirqayku.\n",
      "\n",
      "----------------------------------------------------------------------------------------------------\n"
     ]
    },
    {
     "ename": "KeyError",
     "evalue": "'´'",
     "output_type": "error",
     "traceback": [
      "\u001b[1;31m---------------------------------------------------------------------------\u001b[0m",
      "\u001b[1;31mKeyError\u001b[0m                                  Traceback (most recent call last)",
      "Cell \u001b[1;32mIn[15], line 6\u001b[0m\n\u001b[0;32m      1\u001b[0m input_texts \u001b[38;5;241m=\u001b[39m [\u001b[38;5;124m\"\u001b[39m\u001b[38;5;124mAhora oraciones nuevas\u001b[39m\u001b[38;5;124m\"\u001b[39m, \u001b[38;5;124m\"\u001b[39m\u001b[38;5;124mMi nombre es Alexander\u001b[39m\u001b[38;5;124m\"\u001b[39m, \n\u001b[0;32m      2\u001b[0m                \u001b[38;5;124m\"\u001b[39m\u001b[38;5;124mHoy es nuestra presentación\u001b[39m\u001b[38;5;124m\"\u001b[39m, \u001b[38;5;124m\"\u001b[39m\u001b[38;5;124mHemos aprendido bastante\u001b[39m\u001b[38;5;124m\"\u001b[39m, \n\u001b[0;32m      3\u001b[0m                \u001b[38;5;124m\"\u001b[39m\u001b[38;5;124mProbando el ´codigo\u001b[39m\u001b[38;5;124m\"\u001b[39m, \u001b[38;5;124m\"\u001b[39m\u001b[38;5;124mEste es una prueba mejorada\u001b[39m\u001b[38;5;124m\"\u001b[39m\n\u001b[0;32m      4\u001b[0m                ]\n\u001b[1;32m----> 6\u001b[0m \u001b[43mtraductor_s2q\u001b[49m\u001b[43m(\u001b[49m\u001b[43minput_texts\u001b[49m\u001b[43m)\u001b[49m\n",
      "Cell \u001b[1;32mIn[13], line 3\u001b[0m, in \u001b[0;36mtraductor_s2q\u001b[1;34m(arr_frases)\u001b[0m\n\u001b[0;32m      1\u001b[0m \u001b[38;5;28;01mdef\u001b[39;00m \u001b[38;5;21mtraductor_s2q\u001b[39m(arr_frases):\n\u001b[0;32m      2\u001b[0m     \u001b[38;5;28;01mfor\u001b[39;00m frase \u001b[38;5;129;01min\u001b[39;00m arr_frases:\n\u001b[1;32m----> 3\u001b[0m         input_seq \u001b[38;5;241m=\u001b[39m \u001b[43mcodificar_secuencia\u001b[49m\u001b[43m(\u001b[49m\u001b[43mfrase\u001b[49m\u001b[43m)\u001b[49m\n\u001b[0;32m      4\u001b[0m         decoded_sentence \u001b[38;5;241m=\u001b[39m decode_sequence(input_seq)\n\u001b[0;32m      6\u001b[0m         \u001b[38;5;28mprint\u001b[39m(\u001b[38;5;124m\"\u001b[39m\u001b[38;5;124mOración de entrada: \u001b[39m\u001b[38;5;124m\"\u001b[39m, frase)\n",
      "Cell \u001b[1;32mIn[11], line 6\u001b[0m, in \u001b[0;36mcodificar_secuencia\u001b[1;34m(input_text)\u001b[0m\n\u001b[0;32m      3\u001b[0m encoder_input_data \u001b[38;5;241m=\u001b[39m np\u001b[38;5;241m.\u001b[39mzeros( (\u001b[38;5;241m1\u001b[39m, max_encoder_seq_length, num_encoder_tokens), dtype\u001b[38;5;241m=\u001b[39m\u001b[38;5;124m\"\u001b[39m\u001b[38;5;124mfloat32\u001b[39m\u001b[38;5;124m\"\u001b[39m)\n\u001b[0;32m      5\u001b[0m \u001b[38;5;28;01mfor\u001b[39;00m t, char \u001b[38;5;129;01min\u001b[39;00m \u001b[38;5;28menumerate\u001b[39m(input_text):\n\u001b[1;32m----> 6\u001b[0m     encoder_input_data[\u001b[38;5;241m0\u001b[39m, t, \u001b[43minput_token_index\u001b[49m\u001b[43m[\u001b[49m\u001b[43mchar\u001b[49m\u001b[43m]\u001b[49m] \u001b[38;5;241m=\u001b[39m \u001b[38;5;241m1.0\u001b[39m\n\u001b[0;32m      7\u001b[0m encoder_input_data[\u001b[38;5;241m0\u001b[39m, t \u001b[38;5;241m+\u001b[39m \u001b[38;5;241m1\u001b[39m :, input_token_index[\u001b[38;5;124m\"\u001b[39m\u001b[38;5;124m \u001b[39m\u001b[38;5;124m\"\u001b[39m]] \u001b[38;5;241m=\u001b[39m \u001b[38;5;241m1.0\u001b[39m\n\u001b[0;32m      9\u001b[0m \u001b[38;5;28;01mreturn\u001b[39;00m encoder_input_data\n",
      "\u001b[1;31mKeyError\u001b[0m: '´'"
     ]
    }
   ],
   "source": [
    "input_texts = [\"Ahora oraciones nuevas\", \"Mi nombre es Alexander\", \n",
    "               \"Hoy es nuestra presentación\", \"Hemos aprendido bastante\", \n",
    "               \"Probando el ´codigo\", \"Este es una prueba mejorada\"\n",
    "               ]\n",
    "\n",
    "traductor_s2q(input_texts)"
   ]
  }
 ],
 "metadata": {
  "kernelspec": {
   "display_name": "Python 3 (ipykernel)",
   "language": "python",
   "name": "python3"
  },
  "language_info": {
   "codemirror_mode": {
    "name": "ipython",
    "version": 3
   },
   "file_extension": ".py",
   "mimetype": "text/x-python",
   "name": "python",
   "nbconvert_exporter": "python",
   "pygments_lexer": "ipython3",
   "version": "3.9.16"
  }
 },
 "nbformat": 4,
 "nbformat_minor": 5
}
