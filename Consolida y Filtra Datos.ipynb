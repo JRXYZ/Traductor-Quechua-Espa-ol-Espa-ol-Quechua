{
 "cells": [
  {
   "cell_type": "markdown",
   "id": "699aae87",
   "metadata": {},
   "source": [
    "<h1 style=\"color:gold; background-color:black; padding:20px; text-align: center; font-size:40px\">Consolida y Filtra Datos</h1>"
   ]
  },
  {
   "cell_type": "markdown",
   "id": "5dd781ca",
   "metadata": {},
   "source": [
    "<h1>Importar librerías necesarias</h1>"
   ]
  },
  {
   "cell_type": "code",
   "execution_count": 1,
   "id": "704347d5",
   "metadata": {},
   "outputs": [],
   "source": [
    "import os\n",
    "import pandas as pd\n",
    "from time import strftime"
   ]
  },
  {
   "cell_type": "markdown",
   "id": "8cac8ead",
   "metadata": {},
   "source": [
    "<h1>Implementar lógica del proyecto</h1>"
   ]
  },
  {
   "cell_type": "markdown",
   "id": "774ea57b",
   "metadata": {},
   "source": [
    "<h3 style=\"color:crimson\">Crear DF vacío</h3>"
   ]
  },
  {
   "cell_type": "code",
   "execution_count": 2,
   "id": "bd281829",
   "metadata": {},
   "outputs": [
    {
     "data": {
      "text/html": [
       "<div>\n",
       "<style scoped>\n",
       "    .dataframe tbody tr th:only-of-type {\n",
       "        vertical-align: middle;\n",
       "    }\n",
       "\n",
       "    .dataframe tbody tr th {\n",
       "        vertical-align: top;\n",
       "    }\n",
       "\n",
       "    .dataframe thead th {\n",
       "        text-align: right;\n",
       "    }\n",
       "</style>\n",
       "<table border=\"1\" class=\"dataframe\">\n",
       "  <thead>\n",
       "    <tr style=\"text-align: right;\">\n",
       "      <th></th>\n",
       "      <th>español</th>\n",
       "      <th>quechua</th>\n",
       "    </tr>\n",
       "  </thead>\n",
       "  <tbody>\n",
       "  </tbody>\n",
       "</table>\n",
       "</div>"
      ],
      "text/plain": [
       "Empty DataFrame\n",
       "Columns: [español, quechua]\n",
       "Index: []"
      ]
     },
     "execution_count": 2,
     "metadata": {},
     "output_type": "execute_result"
    }
   ],
   "source": [
    "# Crear un dataframe vació que almacenará las traducciones (translations)\n",
    "df_trans = pd.DataFrame(columns=[\"español\",\"quechua\"])\n",
    "df_trans"
   ]
  },
  {
   "cell_type": "markdown",
   "id": "50326419",
   "metadata": {},
   "source": [
    "<h3 style=\"color:crimson\">Importa y consolida datos</h3>"
   ]
  },
  {
   "cell_type": "code",
   "execution_count": 3,
   "id": "c6529d6d",
   "metadata": {},
   "outputs": [],
   "source": [
    "sub_paths = [\"./Datos/oraciones/\"\n",
    "             , \"./Datos/palabras/\"\n",
    "             , \"./Datos/grupos/\"\n",
    "             , \"./Datos/libros/\"\n",
    "            ]\n",
    "             \n",
    "\n",
    "for sub_path in sub_paths:\n",
    "    arr_category = os.listdir(sub_path)\n",
    "\n",
    "    for item in arr_category:\n",
    "        if item[-4:] == \".csv\":\n",
    "            file = \"{}{}\".format(sub_path, item)\n",
    "            df_temp = pd.read_csv(file, encoding=\"utf-8\", sep=\"\\t\")\n",
    "            \n",
    "            df_trans = pd.concat([df_trans, df_temp]\n",
    "                                 , ignore_index = True)"
   ]
  },
  {
   "cell_type": "code",
   "execution_count": 4,
   "id": "084b4134",
   "metadata": {},
   "outputs": [
    {
     "data": {
      "text/html": [
       "<div>\n",
       "<style scoped>\n",
       "    .dataframe tbody tr th:only-of-type {\n",
       "        vertical-align: middle;\n",
       "    }\n",
       "\n",
       "    .dataframe tbody tr th {\n",
       "        vertical-align: top;\n",
       "    }\n",
       "\n",
       "    .dataframe thead th {\n",
       "        text-align: right;\n",
       "    }\n",
       "</style>\n",
       "<table border=\"1\" class=\"dataframe\">\n",
       "  <thead>\n",
       "    <tr style=\"text-align: right;\">\n",
       "      <th></th>\n",
       "      <th>español</th>\n",
       "      <th>quechua</th>\n",
       "    </tr>\n",
       "  </thead>\n",
       "  <tbody>\n",
       "    <tr>\n",
       "      <th>0</th>\n",
       "      <td>Ve.</td>\n",
       "      <td>Riy.</td>\n",
       "    </tr>\n",
       "    <tr>\n",
       "      <th>1</th>\n",
       "      <td>Vete.</td>\n",
       "      <td>Lluqsiy.</td>\n",
       "    </tr>\n",
       "    <tr>\n",
       "      <th>2</th>\n",
       "      <td>Vaya.</td>\n",
       "      <td>Waw.</td>\n",
       "    </tr>\n",
       "    <tr>\n",
       "      <th>3</th>\n",
       "      <td>Váyase.</td>\n",
       "      <td>Lluqsiy.</td>\n",
       "    </tr>\n",
       "    <tr>\n",
       "      <th>4</th>\n",
       "      <td>Hola.</td>\n",
       "      <td>Allinllachu.</td>\n",
       "    </tr>\n",
       "    <tr>\n",
       "      <th>...</th>\n",
       "      <td>...</td>\n",
       "      <td>...</td>\n",
       "    </tr>\n",
       "    <tr>\n",
       "      <th>152576</th>\n",
       "      <td>que aumenten sus fatigas tu tesoro;</td>\n",
       "      <td>qhapaq kayniyki llank’ayninkuta yapachun;</td>\n",
       "    </tr>\n",
       "    <tr>\n",
       "      <th>152577</th>\n",
       "      <td>y cambia horas de espuma por divinas.</td>\n",
       "      <td>hinaspa horas de espuma cambiay divinopaq.</td>\n",
       "    </tr>\n",
       "    <tr>\n",
       "      <th>152578</th>\n",
       "      <td>Sé rica adentro, en vez de serlo afuera.</td>\n",
       "      <td>Hawamanta qhapaq kaymantaqa, ukhupi qhapaq kay.</td>\n",
       "    </tr>\n",
       "    <tr>\n",
       "      <th>152579</th>\n",
       "      <td>Devora tú a la Muerte y no la nutras,</td>\n",
       "      <td>Wañuytaqa mikhunkichis, manataq mikhuchinkich...</td>\n",
       "    </tr>\n",
       "    <tr>\n",
       "      <th>152580</th>\n",
       "      <td>pues si ella muere, no podrás morir.</td>\n",
       "      <td>Bueno, wañuptinqa manam wañuwaqchu.</td>\n",
       "    </tr>\n",
       "  </tbody>\n",
       "</table>\n",
       "<p>152581 rows × 2 columns</p>\n",
       "</div>"
      ],
      "text/plain": [
       "                                         español  \\\n",
       "0                                            Ve.   \n",
       "1                                          Vete.   \n",
       "2                                          Vaya.   \n",
       "3                                        Váyase.   \n",
       "4                                          Hola.   \n",
       "...                                          ...   \n",
       "152576       que aumenten sus fatigas tu tesoro;   \n",
       "152577     y cambia horas de espuma por divinas.   \n",
       "152578  Sé rica adentro, en vez de serlo afuera.   \n",
       "152579     Devora tú a la Muerte y no la nutras,   \n",
       "152580      pues si ella muere, no podrás morir.   \n",
       "\n",
       "                                                  quechua  \n",
       "0                                                    Riy.  \n",
       "1                                                Lluqsiy.  \n",
       "2                                                    Waw.  \n",
       "3                                                Lluqsiy.  \n",
       "4                                            Allinllachu.  \n",
       "...                                                   ...  \n",
       "152576          qhapaq kayniyki llank’ayninkuta yapachun;  \n",
       "152577         hinaspa horas de espuma cambiay divinopaq.  \n",
       "152578    Hawamanta qhapaq kaymantaqa, ukhupi qhapaq kay.  \n",
       "152579   Wañuytaqa mikhunkichis, manataq mikhuchinkich...  \n",
       "152580                Bueno, wañuptinqa manam wañuwaqchu.  \n",
       "\n",
       "[152581 rows x 2 columns]"
      ]
     },
     "execution_count": 4,
     "metadata": {},
     "output_type": "execute_result"
    }
   ],
   "source": [
    "# muestra DF sin filtrar\n",
    "df_trans"
   ]
  },
  {
   "cell_type": "markdown",
   "id": "214aa1db",
   "metadata": {},
   "source": [
    "<h3 style=\"color:crimson\">Solicita parámetros de filtrado</h3>"
   ]
  },
  {
   "cell_type": "code",
   "execution_count": 5,
   "id": "35c2b63d",
   "metadata": {},
   "outputs": [
    {
     "name": "stdout",
     "output_type": "stream",
     "text": [
      "Ingree longitud máxima en español: 40\n",
      "Ingree longitud máxima en quechua: 60\n"
     ]
    }
   ],
   "source": [
    "MAX_ES = int(input(\"Ingree longitud máxima en español: \"))\n",
    "MAX_QU = int(input(\"Ingree longitud máxima en quechua: \"))"
   ]
  },
  {
   "cell_type": "markdown",
   "id": "0c500307",
   "metadata": {},
   "source": [
    "<h3 style=\"color:crimson\">Verifica si ya existe esa configuración de longitud</h3>"
   ]
  },
  {
   "cell_type": "code",
   "execution_count": 6,
   "id": "20696074",
   "metadata": {},
   "outputs": [
    {
     "name": "stdout",
     "output_type": "stream",
     "text": [
      "Folder creado correctamente\n"
     ]
    }
   ],
   "source": [
    "folder_name = \"./Datos/consolidado_{}_{}\".format(MAX_ES, MAX_QU)\n",
    "if os.path.exists(folder_name):\n",
    "    print(\"Ya existía folder\")\n",
    "    rpta = input(\"¿Desea continuar? [Y/N]\").upper()\n",
    "else:    \n",
    "    os.mkdir(folder_name)\n",
    "    print(\"Folder creado correctamente\")\n",
    "    rpta = \"Y\""
   ]
  },
  {
   "cell_type": "markdown",
   "id": "b199899c",
   "metadata": {},
   "source": [
    "<h3 style=\"color:crimson\">Filtra los datos según lo indicado por el usuario</h3>"
   ]
  },
  {
   "cell_type": "code",
   "execution_count": 7,
   "id": "061709fa",
   "metadata": {},
   "outputs": [
    {
     "name": "stdout",
     "output_type": "stream",
     "text": [
      "Analizando fila 0 \t- 2023-06-19 14:31:20\n",
      "Analizando fila 5,000 \t- 2023-06-19 14:31:20\n",
      "Analizando fila 10,000 \t- 2023-06-19 14:31:20\n",
      "Analizando fila 15,000 \t- 2023-06-19 14:31:20\n",
      "Analizando fila 20,000 \t- 2023-06-19 14:31:20\n",
      "Analizando fila 25,000 \t- 2023-06-19 14:31:20\n",
      "Analizando fila 30,000 \t- 2023-06-19 14:31:20\n",
      "Analizando fila 35,000 \t- 2023-06-19 14:31:21\n",
      "Analizando fila 40,000 \t- 2023-06-19 14:31:21\n",
      "Analizando fila 45,000 \t- 2023-06-19 14:31:21\n",
      "Analizando fila 50,000 \t- 2023-06-19 14:31:22\n",
      "Analizando fila 55,000 \t- 2023-06-19 14:31:22\n",
      "Analizando fila 60,000 \t- 2023-06-19 14:31:23\n",
      "Analizando fila 65,000 \t- 2023-06-19 14:31:24\n",
      "Analizando fila 70,000 \t- 2023-06-19 14:31:26\n",
      "Analizando fila 75,000 \t- 2023-06-19 14:31:27\n",
      "Analizando fila 80,000 \t- 2023-06-19 14:31:30\n",
      "Analizando fila 85,000 \t- 2023-06-19 14:31:34\n",
      "Analizando fila 90,000 \t- 2023-06-19 14:31:39\n",
      "Analizando fila 95,000 \t- 2023-06-19 14:31:45\n",
      "Analizando fila 100,000 \t- 2023-06-19 14:31:54\n",
      "Analizando fila 105,000 \t- 2023-06-19 14:32:06\n",
      "Analizando fila 110,000 \t- 2023-06-19 14:32:21\n",
      "Analizando fila 115,000 \t- 2023-06-19 14:32:40\n",
      "Analizando fila 120,000 \t- 2023-06-19 14:33:02\n",
      "Analizando fila 125,000 \t- 2023-06-19 14:33:27\n",
      "Analizando fila 130,000 \t- 2023-06-19 14:33:55\n",
      "Analizando fila 135,000 \t- 2023-06-19 14:34:24\n",
      "Analizando fila 140,000 \t- 2023-06-19 14:34:41\n",
      "Analizando fila 145,000 \t- 2023-06-19 14:34:58\n",
      "Analizando fila 150,000 \t- 2023-06-19 14:35:18\n"
     ]
    }
   ],
   "source": [
    "if rpta == \"Y\":\n",
    "    for index, registro in df_trans.iterrows():\n",
    "        txt_es = registro[0]\n",
    "        txt_qu = registro[1]\n",
    "\n",
    "        if (len(txt_es) > MAX_ES) or (len(txt_qu) > MAX_QU):\n",
    "            #print(\"registro eliminado\")\n",
    "            df_trans = df_trans.drop(index)\n",
    "            \n",
    "        if index % 5000 == 0:\n",
    "            current_time = strftime(\"%Y-%m-%d %H:%M:%S\")\n",
    "            print(\"Analizando fila {:,} \\t- {}\".format(index, current_time))\n",
    "else:\n",
    "    print(\"Operación cancelada por el usuario\")"
   ]
  },
  {
   "cell_type": "markdown",
   "id": "85c87840",
   "metadata": {},
   "source": [
    "<h1>Guarda el resultado</h1>"
   ]
  },
  {
   "cell_type": "code",
   "execution_count": 8,
   "id": "6630fdce",
   "metadata": {},
   "outputs": [
    {
     "data": {
      "text/plain": [
       "112955"
      ]
     },
     "execution_count": 8,
     "metadata": {},
     "output_type": "execute_result"
    }
   ],
   "source": [
    "len(df_trans)"
   ]
  },
  {
   "cell_type": "code",
   "execution_count": 9,
   "id": "48ba2a48",
   "metadata": {},
   "outputs": [
    {
     "data": {
      "text/html": [
       "<div>\n",
       "<style scoped>\n",
       "    .dataframe tbody tr th:only-of-type {\n",
       "        vertical-align: middle;\n",
       "    }\n",
       "\n",
       "    .dataframe tbody tr th {\n",
       "        vertical-align: top;\n",
       "    }\n",
       "\n",
       "    .dataframe thead th {\n",
       "        text-align: right;\n",
       "    }\n",
       "</style>\n",
       "<table border=\"1\" class=\"dataframe\">\n",
       "  <thead>\n",
       "    <tr style=\"text-align: right;\">\n",
       "      <th></th>\n",
       "      <th>español</th>\n",
       "      <th>quechua</th>\n",
       "    </tr>\n",
       "  </thead>\n",
       "  <tbody>\n",
       "    <tr>\n",
       "      <th>0</th>\n",
       "      <td>Ve.</td>\n",
       "      <td>Riy.</td>\n",
       "    </tr>\n",
       "    <tr>\n",
       "      <th>1</th>\n",
       "      <td>Vete.</td>\n",
       "      <td>Lluqsiy.</td>\n",
       "    </tr>\n",
       "    <tr>\n",
       "      <th>2</th>\n",
       "      <td>Vaya.</td>\n",
       "      <td>Waw.</td>\n",
       "    </tr>\n",
       "    <tr>\n",
       "      <th>3</th>\n",
       "      <td>Váyase.</td>\n",
       "      <td>Lluqsiy.</td>\n",
       "    </tr>\n",
       "    <tr>\n",
       "      <th>4</th>\n",
       "      <td>Hola.</td>\n",
       "      <td>Allinllachu.</td>\n",
       "    </tr>\n",
       "    <tr>\n",
       "      <th>...</th>\n",
       "      <td>...</td>\n",
       "      <td>...</td>\n",
       "    </tr>\n",
       "    <tr>\n",
       "      <th>152576</th>\n",
       "      <td>que aumenten sus fatigas tu tesoro;</td>\n",
       "      <td>qhapaq kayniyki llank’ayninkuta yapachun;</td>\n",
       "    </tr>\n",
       "    <tr>\n",
       "      <th>152577</th>\n",
       "      <td>y cambia horas de espuma por divinas.</td>\n",
       "      <td>hinaspa horas de espuma cambiay divinopaq.</td>\n",
       "    </tr>\n",
       "    <tr>\n",
       "      <th>152578</th>\n",
       "      <td>Sé rica adentro, en vez de serlo afuera.</td>\n",
       "      <td>Hawamanta qhapaq kaymantaqa, ukhupi qhapaq kay.</td>\n",
       "    </tr>\n",
       "    <tr>\n",
       "      <th>152579</th>\n",
       "      <td>Devora tú a la Muerte y no la nutras,</td>\n",
       "      <td>Wañuytaqa mikhunkichis, manataq mikhuchinkich...</td>\n",
       "    </tr>\n",
       "    <tr>\n",
       "      <th>152580</th>\n",
       "      <td>pues si ella muere, no podrás morir.</td>\n",
       "      <td>Bueno, wañuptinqa manam wañuwaqchu.</td>\n",
       "    </tr>\n",
       "  </tbody>\n",
       "</table>\n",
       "<p>112955 rows × 2 columns</p>\n",
       "</div>"
      ],
      "text/plain": [
       "                                         español  \\\n",
       "0                                            Ve.   \n",
       "1                                          Vete.   \n",
       "2                                          Vaya.   \n",
       "3                                        Váyase.   \n",
       "4                                          Hola.   \n",
       "...                                          ...   \n",
       "152576       que aumenten sus fatigas tu tesoro;   \n",
       "152577     y cambia horas de espuma por divinas.   \n",
       "152578  Sé rica adentro, en vez de serlo afuera.   \n",
       "152579     Devora tú a la Muerte y no la nutras,   \n",
       "152580      pues si ella muere, no podrás morir.   \n",
       "\n",
       "                                                  quechua  \n",
       "0                                                    Riy.  \n",
       "1                                                Lluqsiy.  \n",
       "2                                                    Waw.  \n",
       "3                                                Lluqsiy.  \n",
       "4                                            Allinllachu.  \n",
       "...                                                   ...  \n",
       "152576          qhapaq kayniyki llank’ayninkuta yapachun;  \n",
       "152577         hinaspa horas de espuma cambiay divinopaq.  \n",
       "152578    Hawamanta qhapaq kaymantaqa, ukhupi qhapaq kay.  \n",
       "152579   Wañuytaqa mikhunkichis, manataq mikhuchinkich...  \n",
       "152580                Bueno, wañuptinqa manam wañuwaqchu.  \n",
       "\n",
       "[112955 rows x 2 columns]"
      ]
     },
     "execution_count": 9,
     "metadata": {},
     "output_type": "execute_result"
    }
   ],
   "source": [
    "df_trans"
   ]
  },
  {
   "cell_type": "code",
   "execution_count": 10,
   "id": "8d2cd443",
   "metadata": {},
   "outputs": [],
   "source": [
    "if rpta == \"Y\":\n",
    "    batch_size = 30000\n",
    "    cant_archivos = (len(df_trans) // batch_size) \n",
    "    \n",
    "    # Crear un archivo para los datos sobrantes en caso sea necesario\n",
    "    if len(df_trans) % batch_size != 0:\n",
    "        cant_archivos += 1\n",
    "    \n",
    "    for index in range(cant_archivos):\n",
    "        lim_i = batch_size * index\n",
    "        # No es necesario poner min(), Pandas se encarga de ello\n",
    "        lim_s = batch_size * (index + 1) - 1 \n",
    "        \n",
    "        file_name = folder_name + \"/consolidado_p{}.csv\".format(index+1)\n",
    "        df_trans[lim_i: lim_s].to_csv(file_name, index=False, encoding=\"utf-8\", sep=\"\\t\")\n",
    "        \n",
    "        \n",
    "else:\n",
    "    print(\"Operación cancelada por el usuario\")"
   ]
  },
  {
   "cell_type": "markdown",
   "id": "21792eee",
   "metadata": {},
   "source": [
    "<h1>Guardar información adicional</h1>"
   ]
  },
  {
   "cell_type": "code",
   "execution_count": null,
   "id": "40b01a5d",
   "metadata": {},
   "outputs": [],
   "source": []
  }
 ],
 "metadata": {
  "kernelspec": {
   "display_name": "Python 3 (ipykernel)",
   "language": "python",
   "name": "python3"
  },
  "language_info": {
   "codemirror_mode": {
    "name": "ipython",
    "version": 3
   },
   "file_extension": ".py",
   "mimetype": "text/x-python",
   "name": "python",
   "nbconvert_exporter": "python",
   "pygments_lexer": "ipython3",
   "version": "3.9.16"
  }
 },
 "nbformat": 4,
 "nbformat_minor": 5
}
