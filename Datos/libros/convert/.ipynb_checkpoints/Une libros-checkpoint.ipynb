{
 "cells": [
  {
   "cell_type": "markdown",
   "id": "3d8245d3",
   "metadata": {},
   "source": [
    "<h1 style=\"color:gold; background-color:black; padding:20px\">Generar archivos CSV a partir de los libros en formato XLSX</h1>"
   ]
  },
  {
   "cell_type": "markdown",
   "id": "d525b194",
   "metadata": {},
   "source": [
    "<h1>Importar librerías necesarias</h1>"
   ]
  },
  {
   "cell_type": "code",
   "execution_count": 1,
   "id": "ecb3405d",
   "metadata": {},
   "outputs": [],
   "source": [
    "import os\n",
    "import pandas as pd\n",
    "import openpyxl"
   ]
  },
  {
   "cell_type": "markdown",
   "id": "aa3e3751",
   "metadata": {},
   "source": [
    "<h1>Obtener lista de archivos</h1>"
   ]
  },
  {
   "cell_type": "code",
   "execution_count": 2,
   "id": "e90722d6",
   "metadata": {},
   "outputs": [],
   "source": [
    "def quita_idioma(txt):\n",
    "    txt = txt.replace(\"_esp.xlsx\",\"\").replace(\"_que.xlsx\",\"\")\n",
    "    return txt\n"
   ]
  },
  {
   "cell_type": "code",
   "execution_count": 3,
   "id": "676d9445",
   "metadata": {},
   "outputs": [
    {
     "name": "stdout",
     "output_type": "stream",
     "text": [
      "Antoine De Saint-Exupéry - El principito\n",
      "Friedrich Nietzsche - El anticristo\n",
      "Charles Perrault - Cuentos\n",
      "Francis Bacon - La nueva Atlántida\n",
      "Charles Darwin - El origen de las especies\n",
      "Fedor Dostoiewski - Noches Blancas\n",
      "Tomas Moro - Utopía\n",
      "Charles Dickens - Oliver Twist\n",
      "Federico García Lorca - Poemas\n",
      "Emilio Zola - Yo acuso\n",
      "Carl Marx y F. Engels - Manifiesto del partido comunista\n",
      "Anónimo - Robin Hood\n",
      "Franz Kafka - La metamosfosis\n",
      "Gibrán Khalil Gibrán - Los secretos de corazón\n",
      "René Descartes - Discurso del método\n",
      "William Shakespeare - Sonetos de amor\n",
      "Sun Tzu - El arte de la guerra\n",
      "Anónimo - Lazarillo de Tormes\n",
      "Gibrán Khalil Gibrán - El loco\n",
      "Friedrich Nietzsche - Cómo se filosofa a martillazos\n"
     ]
    }
   ],
   "source": [
    "arr_files = os.listdir(\"./xlsx/\")\n",
    "\n",
    "arr_files = map(quita_idioma,\n",
    "                arr_files)\n",
    "\n",
    "arr_files = list(set(arr_files))\n",
    "\n",
    "for item in arr_files:\n",
    "    print(item)"
   ]
  },
  {
   "cell_type": "markdown",
   "id": "fd331ed9",
   "metadata": {},
   "source": [
    "<h1>Definir funciones auxiliares</h1>"
   ]
  },
  {
   "cell_type": "code",
   "execution_count": null,
   "id": "5ce3531d",
   "metadata": {},
   "outputs": [],
   "source": []
  },
  {
   "cell_type": "code",
   "execution_count": null,
   "id": "97290dc9",
   "metadata": {},
   "outputs": [],
   "source": []
  },
  {
   "cell_type": "code",
   "execution_count": null,
   "id": "5ae41623",
   "metadata": {},
   "outputs": [],
   "source": []
  },
  {
   "cell_type": "markdown",
   "id": "65d58cf6",
   "metadata": {},
   "source": [
    "<h1>Crear loop principal</h1>"
   ]
  },
  {
   "cell_type": "code",
   "execution_count": 4,
   "id": "96f26291",
   "metadata": {},
   "outputs": [
    {
     "ename": "AttributeError",
     "evalue": "'ReadOnlyWorksheet' object has no attribute 'iter_cols'",
     "output_type": "error",
     "traceback": [
      "\u001b[1;31m---------------------------------------------------------------------------\u001b[0m",
      "\u001b[1;31mAttributeError\u001b[0m                            Traceback (most recent call last)",
      "Cell \u001b[1;32mIn[4], line 9\u001b[0m\n\u001b[0;32m      7\u001b[0m wb_es \u001b[38;5;241m=\u001b[39m openpyxl\u001b[38;5;241m.\u001b[39mload_workbook(path_es, read_only\u001b[38;5;241m=\u001b[39m\u001b[38;5;28;01mTrue\u001b[39;00m)\n\u001b[0;32m      8\u001b[0m ws_es \u001b[38;5;241m=\u001b[39m wb_es\u001b[38;5;241m.\u001b[39mactive\n\u001b[1;32m----> 9\u001b[0m len_es \u001b[38;5;241m=\u001b[39m \u001b[38;5;28mlen\u001b[39m(\u001b[43mws_es\u001b[49m\u001b[43m[\u001b[49m\u001b[38;5;124;43m'\u001b[39;49m\u001b[38;5;124;43mA\u001b[39;49m\u001b[38;5;124;43m'\u001b[39;49m\u001b[43m]\u001b[49m)\n\u001b[0;32m     11\u001b[0m path_qu \u001b[38;5;241m=\u001b[39m \u001b[38;5;124m\"\u001b[39m\u001b[38;5;124m./xlsx/\u001b[39m\u001b[38;5;132;01m{}\u001b[39;00m\u001b[38;5;124m_que.xlsx\u001b[39m\u001b[38;5;124m\"\u001b[39m\u001b[38;5;241m.\u001b[39mformat(libro)\n\u001b[0;32m     12\u001b[0m wb_qu \u001b[38;5;241m=\u001b[39m openpyxl\u001b[38;5;241m.\u001b[39mload_workbook(path_qu, read_only\u001b[38;5;241m=\u001b[39m\u001b[38;5;28;01mTrue\u001b[39;00m)\n",
      "File \u001b[1;32m~\\.conda\\envs\\ProyectoNLP\\lib\\site-packages\\openpyxl\\worksheet\\worksheet.py:301\u001b[0m, in \u001b[0;36mWorksheet.__getitem__\u001b[1;34m(self, key)\u001b[0m\n\u001b[0;32m    298\u001b[0m     \u001b[38;5;28;01mraise\u001b[39;00m \u001b[38;5;167;01mIndexError\u001b[39;00m(\u001b[38;5;124m\"\u001b[39m\u001b[38;5;132;01m{0}\u001b[39;00m\u001b[38;5;124m is not a valid coordinate or range\u001b[39m\u001b[38;5;124m\"\u001b[39m\u001b[38;5;241m.\u001b[39mformat(key))\n\u001b[0;32m    300\u001b[0m \u001b[38;5;28;01mif\u001b[39;00m min_row \u001b[38;5;129;01mis\u001b[39;00m \u001b[38;5;28;01mNone\u001b[39;00m:\n\u001b[1;32m--> 301\u001b[0m     cols \u001b[38;5;241m=\u001b[39m \u001b[38;5;28mtuple\u001b[39m(\u001b[38;5;28;43mself\u001b[39;49m\u001b[38;5;241;43m.\u001b[39;49m\u001b[43miter_cols\u001b[49m(min_col, max_col))\n\u001b[0;32m    302\u001b[0m     \u001b[38;5;28;01mif\u001b[39;00m min_col \u001b[38;5;241m==\u001b[39m max_col:\n\u001b[0;32m    303\u001b[0m         cols \u001b[38;5;241m=\u001b[39m cols[\u001b[38;5;241m0\u001b[39m]\n",
      "\u001b[1;31mAttributeError\u001b[0m: 'ReadOnlyWorksheet' object has no attribute 'iter_cols'"
     ]
    }
   ],
   "source": [
    "for libro in arr_files:\n",
    "    arr_temp = []\n",
    "    row_num = 1\n",
    "    \n",
    "    # Abrir ambos archivos \n",
    "    path_es = \"./xlsx/{}_esp.xlsx\".format(libro)\n",
    "    wb_es = openpyxl.load_workbook(path_es, read_only=True)\n",
    "    ws_es = wb_es.active\n",
    "        \n",
    "    path_qu = \"./xlsx/{}_que.xlsx\".format(libro)\n",
    "    wb_qu = openpyxl.load_workbook(path_qu, read_only=True)\n",
    "    ws_qu = wb_qu.active\n",
    "            \n",
    "    \n",
    "    '''\n",
    "    # Verifica si ambos tienen la misma cantidad de líneas. Se implementará \n",
    "    # más adelante debido a que el modo read-only NO soporta 'iter_cols'\n",
    "    len_es = len(ws_es['A'])\n",
    "    len_qu = len(ws_qu['A'])\n",
    "    \n",
    "    if len_es != len_qu:\n",
    "        print(\"Error fatal en {} \\t no coincide número de filas\".format(libro))\n",
    "    '''\n",
    "    \n",
    "    # Se validó previamente de que no hubiera líneas en blanco en medio\n",
    "    # de las oraciones\n",
    "    while( ws_es['A'+str(i)].value != \"\"):\n",
    "        txt_es = ws_es['A'+str(i)].value\n",
    "        txt_qu = ws_qu['A'+str(i)].value\n",
    "        \n",
    "        # Leer línea por línea y verificar si en algún caso está ´resente\n",
    "        # el caracter tabulación \\t. De ser así, ignorar esa línea.\n",
    "        tab_es = (txt_es.find(\"\\t\") == -1)\n",
    "        tab_qu = (txt_qu.find(\"\\t\") == -1)\n",
    "        \n",
    "        if tab_es and tab_qu:\n",
    "            arr_temp.append([txt_es, txt_qu]) \n",
    "        \n",
    "        i += 1\n",
    "     \n",
    "    # Crea DataFrame\n",
    "    df_temp = pd.DataFrame(arr_temp, columns=[\"español\", \"quechua\"])\n",
    "    \n",
    "    # Guardar el archivo\n",
    "    new_file = \"../../\" + libro.replace(\".xlsx\", \".csv\")    \n",
    "    df_temp.to_csv(new_file, encoding=\"utf-8\", sep=\"\\t\", index=False)    \n",
    "        \n",
    "    # Cerrar los libros que se abrieron en esta iteración\n",
    "    wb_es.close()\n",
    "    wb_qu.close()\n",
    "    "
   ]
  },
  {
   "cell_type": "code",
   "execution_count": null,
   "id": "09f80bf1",
   "metadata": {},
   "outputs": [],
   "source": []
  },
  {
   "cell_type": "code",
   "execution_count": null,
   "id": "cf3b22fa",
   "metadata": {},
   "outputs": [],
   "source": []
  },
  {
   "cell_type": "markdown",
   "id": "6ebd1a28",
   "metadata": {},
   "source": [
    "<h1 style=\"color:green\">Ejemplos y pruebas de uso</h1>"
   ]
  },
  {
   "cell_type": "code",
   "execution_count": null,
   "id": "0227bdb0",
   "metadata": {},
   "outputs": [],
   "source": [
    "abc = \"Antoine De Saint-Exupéry - El principito.xlsx\"\n",
    "abc[:-5]"
   ]
  },
  {
   "cell_type": "code",
   "execution_count": null,
   "id": "fd6e0ede",
   "metadata": {},
   "outputs": [],
   "source": [
    "defg = (abc.find(\"\\t\") == -1)\n",
    "defg"
   ]
  },
  {
   "cell_type": "code",
   "execution_count": null,
   "id": "631f2745",
   "metadata": {},
   "outputs": [],
   "source": [
    "#wb = openpyxl.Workbook()\n",
    "wb = openpyxl.load_workbook(\"./xlsx/Tomas Moro - Utopía_esp.xlsx\")\n",
    "\n",
    "# grab the active worksheet\n",
    "ws = wb.active"
   ]
  },
  {
   "cell_type": "code",
   "execution_count": null,
   "id": "00846674",
   "metadata": {},
   "outputs": [],
   "source": [
    "print(ws['A2'].value)"
   ]
  },
  {
   "cell_type": "code",
   "execution_count": null,
   "id": "95b5ffee",
   "metadata": {},
   "outputs": [],
   "source": [
    "print(len(ws['A']))"
   ]
  }
 ],
 "metadata": {
  "kernelspec": {
   "display_name": "Python 3 (ipykernel)",
   "language": "python",
   "name": "python3"
  },
  "language_info": {
   "codemirror_mode": {
    "name": "ipython",
    "version": 3
   },
   "file_extension": ".py",
   "mimetype": "text/x-python",
   "name": "python",
   "nbconvert_exporter": "python",
   "pygments_lexer": "ipython3",
   "version": "3.9.16"
  }
 },
 "nbformat": 4,
 "nbformat_minor": 5
}
