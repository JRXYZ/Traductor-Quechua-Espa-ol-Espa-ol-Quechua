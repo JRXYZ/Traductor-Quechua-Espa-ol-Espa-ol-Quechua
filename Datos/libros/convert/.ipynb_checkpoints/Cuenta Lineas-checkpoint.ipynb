{
 "cells": [
  {
   "cell_type": "markdown",
   "id": "aa7b5975",
   "metadata": {},
   "source": [
    "<h1 style=\"color:gold; background-color:black; padding:20px\">Analiza la cantidad de oraciones en cuentos</h1>"
   ]
  },
  {
   "cell_type": "markdown",
   "id": "93acf5f0",
   "metadata": {},
   "source": [
    "<h1>Importar librerías necesarias</h1>"
   ]
  },
  {
   "cell_type": "code",
   "execution_count": 1,
   "id": "c9a095bc",
   "metadata": {},
   "outputs": [],
   "source": [
    "import os\n",
    "import re\n",
    "import subprocess as sp\n",
    "import pandas as pd"
   ]
  },
  {
   "cell_type": "markdown",
   "id": "2f5f70f2",
   "metadata": {},
   "source": [
    "<h1>Configuración del dataframe</h1>"
   ]
  },
  {
   "cell_type": "code",
   "execution_count": 2,
   "id": "88a774a5",
   "metadata": {},
   "outputs": [],
   "source": [
    "pd.set_option('display.max_colwidth', None)"
   ]
  },
  {
   "cell_type": "markdown",
   "id": "a3cf1df5",
   "metadata": {},
   "source": [
    "<h1>Funciones auxiliares</h1>"
   ]
  },
  {
   "cell_type": "code",
   "execution_count": null,
   "id": "337cbb6b",
   "metadata": {},
   "outputs": [],
   "source": [
    "# Barra de carga"
   ]
  },
  {
   "cell_type": "markdown",
   "id": "6b157e98",
   "metadata": {},
   "source": [
    "<h1>Lógica del proyecto</h1>"
   ]
  },
  {
   "cell_type": "markdown",
   "id": "61b2f9e1",
   "metadata": {},
   "source": [
    "<h3 style=\"color:crimson\">Crea tabla</h3>"
   ]
  },
  {
   "cell_type": "code",
   "execution_count": 3,
   "id": "385662d4",
   "metadata": {},
   "outputs": [],
   "source": [
    "archivos = os.listdir()"
   ]
  },
  {
   "cell_type": "code",
   "execution_count": 4,
   "id": "32ecebbe",
   "metadata": {},
   "outputs": [],
   "source": [
    "arr_archivos = []\n",
    "\n",
    "for archivo in archivos:\n",
    "    if archivo[-4:] == \".txt\":\n",
    "        command = \"cat '.\\{}' | measure-object\".format(archivo)\n",
    "        txt = sp.run([\"powershell\", \"-Command\", command], capture_output=True)\n",
    "        txt = str(txt)\n",
    "        \n",
    "        #Corta la cadena, quedándose únicamente con \"Count: \"\n",
    "        i = txt.find(\"Count\")\n",
    "        f = txt.find(\"Average\")        \n",
    "        txt = txt[i:f]\n",
    "        \n",
    "        # Extrae únicamnete el número        \n",
    "        txt = re.findall(r'\\d+', txt)[0]\n",
    "        \n",
    "        arr_archivos.append([archivo, txt])"
   ]
  },
  {
   "cell_type": "code",
   "execution_count": 5,
   "id": "59f14309",
   "metadata": {},
   "outputs": [],
   "source": [
    "df_archivos = pd.DataFrame(arr_archivos, columns=[\"Archivo\", \"Q oraciones\"])"
   ]
  },
  {
   "cell_type": "markdown",
   "id": "89baf839",
   "metadata": {},
   "source": [
    "<h3 style=\"color:crimson\">Muestra resultado</h3>"
   ]
  },
  {
   "cell_type": "code",
   "execution_count": 6,
   "id": "b848e1b0",
   "metadata": {},
   "outputs": [
    {
     "data": {
      "text/html": [
       "<div>\n",
       "<style scoped>\n",
       "    .dataframe tbody tr th:only-of-type {\n",
       "        vertical-align: middle;\n",
       "    }\n",
       "\n",
       "    .dataframe tbody tr th {\n",
       "        vertical-align: top;\n",
       "    }\n",
       "\n",
       "    .dataframe thead th {\n",
       "        text-align: right;\n",
       "    }\n",
       "</style>\n",
       "<table border=\"1\" class=\"dataframe\">\n",
       "  <thead>\n",
       "    <tr style=\"text-align: right;\">\n",
       "      <th></th>\n",
       "      <th>Archivo</th>\n",
       "      <th>Q oraciones</th>\n",
       "    </tr>\n",
       "  </thead>\n",
       "  <tbody>\n",
       "    <tr>\n",
       "      <th>0</th>\n",
       "      <td>Antoine De Saint-Exupéry - El principito.txt</td>\n",
       "      <td>1414</td>\n",
       "    </tr>\n",
       "    <tr>\n",
       "      <th>1</th>\n",
       "      <td>Anónimo - Lazarillo de Tormes.txt</td>\n",
       "      <td>944</td>\n",
       "    </tr>\n",
       "    <tr>\n",
       "      <th>2</th>\n",
       "      <td>Anónimo - Robin Hood.txt</td>\n",
       "      <td>1271</td>\n",
       "    </tr>\n",
       "    <tr>\n",
       "      <th>3</th>\n",
       "      <td>Carl Marx y F. Engels - Manifiesto del partido comunista.txt</td>\n",
       "      <td>467</td>\n",
       "    </tr>\n",
       "    <tr>\n",
       "      <th>4</th>\n",
       "      <td>Charles Darwin - El origen de las especies.txt</td>\n",
       "      <td>793</td>\n",
       "    </tr>\n",
       "    <tr>\n",
       "      <th>5</th>\n",
       "      <td>Charles Dickens - Oliver Twist.txt</td>\n",
       "      <td>1480</td>\n",
       "    </tr>\n",
       "    <tr>\n",
       "      <th>6</th>\n",
       "      <td>Charles Perrault - Cuentos.txt</td>\n",
       "      <td>709</td>\n",
       "    </tr>\n",
       "    <tr>\n",
       "      <th>7</th>\n",
       "      <td>Emilio Zola - Yo acuso.txt</td>\n",
       "      <td>1218</td>\n",
       "    </tr>\n",
       "    <tr>\n",
       "      <th>8</th>\n",
       "      <td>Federico García Lorca - Poemas.txt</td>\n",
       "      <td>975</td>\n",
       "    </tr>\n",
       "    <tr>\n",
       "      <th>9</th>\n",
       "      <td>Fedor Dostoiewski - Noches Blancas.txt</td>\n",
       "      <td>1533</td>\n",
       "    </tr>\n",
       "    <tr>\n",
       "      <th>10</th>\n",
       "      <td>Francis Bacon - La nueva Atlántida.txt</td>\n",
       "      <td>464</td>\n",
       "    </tr>\n",
       "    <tr>\n",
       "      <th>11</th>\n",
       "      <td>Franz Kafka - La metamosfosis.txt</td>\n",
       "      <td>730</td>\n",
       "    </tr>\n",
       "    <tr>\n",
       "      <th>12</th>\n",
       "      <td>Friedrich Nietzsche - Cómo se filosofa a martillazos.txt</td>\n",
       "      <td>1225</td>\n",
       "    </tr>\n",
       "    <tr>\n",
       "      <th>13</th>\n",
       "      <td>Friedrich Nietzsche - El anticristo.txt</td>\n",
       "      <td>970</td>\n",
       "    </tr>\n",
       "    <tr>\n",
       "      <th>14</th>\n",
       "      <td>Gibrán Khalil Gibrán - El loco.txt</td>\n",
       "      <td>513</td>\n",
       "    </tr>\n",
       "    <tr>\n",
       "      <th>15</th>\n",
       "      <td>Gibrán Khalil Gibrán - Los secretos de corazón.txt</td>\n",
       "      <td>608</td>\n",
       "    </tr>\n",
       "    <tr>\n",
       "      <th>16</th>\n",
       "      <td>René Descartes - Discurso del método.txt</td>\n",
       "      <td>522</td>\n",
       "    </tr>\n",
       "    <tr>\n",
       "      <th>17</th>\n",
       "      <td>Sun Tzu - El arte de la guerra.txt</td>\n",
       "      <td>771</td>\n",
       "    </tr>\n",
       "    <tr>\n",
       "      <th>18</th>\n",
       "      <td>Tomas Moro - Utopía.txt</td>\n",
       "      <td>849</td>\n",
       "    </tr>\n",
       "    <tr>\n",
       "      <th>19</th>\n",
       "      <td>William Shakespeare - Sonetos de amor.txt</td>\n",
       "      <td>689</td>\n",
       "    </tr>\n",
       "  </tbody>\n",
       "</table>\n",
       "</div>"
      ],
      "text/plain": [
       "                                                         Archivo Q oraciones\n",
       "0                   Antoine De Saint-Exupéry - El principito.txt        1414\n",
       "1                              Anónimo - Lazarillo de Tormes.txt         944\n",
       "2                                       Anónimo - Robin Hood.txt        1271\n",
       "3   Carl Marx y F. Engels - Manifiesto del partido comunista.txt         467\n",
       "4                 Charles Darwin - El origen de las especies.txt         793\n",
       "5                             Charles Dickens - Oliver Twist.txt        1480\n",
       "6                                 Charles Perrault - Cuentos.txt         709\n",
       "7                                     Emilio Zola - Yo acuso.txt        1218\n",
       "8                             Federico García Lorca - Poemas.txt         975\n",
       "9                         Fedor Dostoiewski - Noches Blancas.txt        1533\n",
       "10                        Francis Bacon - La nueva Atlántida.txt         464\n",
       "11                             Franz Kafka - La metamosfosis.txt         730\n",
       "12      Friedrich Nietzsche - Cómo se filosofa a martillazos.txt        1225\n",
       "13                       Friedrich Nietzsche - El anticristo.txt         970\n",
       "14                            Gibrán Khalil Gibrán - El loco.txt         513\n",
       "15            Gibrán Khalil Gibrán - Los secretos de corazón.txt         608\n",
       "16                      René Descartes - Discurso del método.txt         522\n",
       "17                            Sun Tzu - El arte de la guerra.txt         771\n",
       "18                                       Tomas Moro - Utopía.txt         849\n",
       "19                     William Shakespeare - Sonetos de amor.txt         689"
      ]
     },
     "execution_count": 6,
     "metadata": {},
     "output_type": "execute_result"
    }
   ],
   "source": [
    "df_archivos"
   ]
  },
  {
   "cell_type": "code",
   "execution_count": 7,
   "id": "f3cc3e79",
   "metadata": {},
   "outputs": [
    {
     "name": "stdout",
     "output_type": "stream",
     "text": [
      "Total de oraciones: 18,145\n"
     ]
    }
   ],
   "source": [
    "total = 0\n",
    "\n",
    "for index, ar in df_archivos.iterrows():\n",
    "    total += int(ar[1])\n",
    "    \n",
    "print(\"Total de oraciones: {:,}\".format(total))"
   ]
  }
 ],
 "metadata": {
  "kernelspec": {
   "display_name": "Python 3 (ipykernel)",
   "language": "python",
   "name": "python3"
  },
  "language_info": {
   "codemirror_mode": {
    "name": "ipython",
    "version": 3
   },
   "file_extension": ".py",
   "mimetype": "text/x-python",
   "name": "python",
   "nbconvert_exporter": "python",
   "pygments_lexer": "ipython3",
   "version": "3.9.16"
  }
 },
 "nbformat": 4,
 "nbformat_minor": 5
}
