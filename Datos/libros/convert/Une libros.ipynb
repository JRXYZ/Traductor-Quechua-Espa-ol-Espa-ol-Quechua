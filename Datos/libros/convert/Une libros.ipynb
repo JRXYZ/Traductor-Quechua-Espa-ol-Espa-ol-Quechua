{
 "cells": [
  {
   "cell_type": "markdown",
   "id": "3d8245d3",
   "metadata": {},
   "source": [
    "<h1 style=\"color:gold; background-color:black; padding:20px\">Generar archivos CSV a partir de los libros en formato XLSX</h1>"
   ]
  },
  {
   "cell_type": "markdown",
   "id": "d525b194",
   "metadata": {},
   "source": [
    "<h1>Importar librerías necesarias</h1>"
   ]
  },
  {
   "cell_type": "code",
   "execution_count": 1,
   "id": "ecb3405d",
   "metadata": {},
   "outputs": [],
   "source": [
    "import os\n",
    "import pandas as pd\n",
    "import openpyxl"
   ]
  },
  {
   "cell_type": "markdown",
   "id": "aa3e3751",
   "metadata": {},
   "source": [
    "<h1>Obtener lista de archivos</h1>"
   ]
  },
  {
   "cell_type": "code",
   "execution_count": 2,
   "id": "e90722d6",
   "metadata": {},
   "outputs": [],
   "source": [
    "def quita_idioma(txt):\n",
    "    txt = txt.replace(\"_esp.xlsx\",\"\").replace(\"_que.xlsx\",\"\")\n",
    "    return txt\n"
   ]
  },
  {
   "cell_type": "code",
   "execution_count": 3,
   "id": "676d9445",
   "metadata": {},
   "outputs": [
    {
     "name": "stdout",
     "output_type": "stream",
     "text": [
      "Friedrich Nietzsche - El anticristo\n",
      "Fedor Dostoiewski - Noches Blancas\n",
      "Antoine De Saint-Exupéry - El principito\n",
      "Gibrán Khalil Gibrán - El loco\n",
      "Anónimo - Robin Hood\n",
      "Emilio Zola - Yo acuso\n",
      "Anónimo - Lazarillo de Tormes\n",
      "Franz Kafka - La metamosfosis\n",
      "Charles Dickens - Oliver Twist\n",
      "Francis Bacon - La nueva Atlántida\n",
      "Charles Perrault - Cuentos\n",
      "Gibrán Khalil Gibrán - Los secretos de corazón\n",
      "Charles Darwin - El origen de las especies\n",
      "Tomas Moro - Utopía\n",
      "Carl Marx y F. Engels - Manifiesto del partido comunista\n",
      "Federico García Lorca - Poemas\n",
      "René Descartes - Discurso del método\n",
      "Sun Tzu - El arte de la guerra\n",
      "Friedrich Nietzsche - Cómo se filosofa a martillazos\n",
      "William Shakespeare - Sonetos de amor\n"
     ]
    }
   ],
   "source": [
    "arr_files = os.listdir(\"./xlsx/\")\n",
    "\n",
    "arr_files = map(quita_idioma,\n",
    "                arr_files)\n",
    "\n",
    "arr_files = list(set(arr_files))\n",
    "\n",
    "for item in arr_files:\n",
    "    print(item)"
   ]
  },
  {
   "cell_type": "markdown",
   "id": "fd331ed9",
   "metadata": {},
   "source": [
    "<h1>Definir funciones auxiliares</h1>"
   ]
  },
  {
   "cell_type": "markdown",
   "id": "185cc42a",
   "metadata": {},
   "source": [
    "<h3 style=\"color:crimson\">Barra de progreso</h3>"
   ]
  },
  {
   "cell_type": "code",
   "execution_count": null,
   "id": "97290dc9",
   "metadata": {},
   "outputs": [],
   "source": []
  },
  {
   "cell_type": "code",
   "execution_count": null,
   "id": "5ae41623",
   "metadata": {},
   "outputs": [],
   "source": []
  },
  {
   "cell_type": "markdown",
   "id": "65d58cf6",
   "metadata": {},
   "source": [
    "<h1>Crear loop principal</h1>"
   ]
  },
  {
   "cell_type": "code",
   "execution_count": 4,
   "id": "96f26291",
   "metadata": {},
   "outputs": [
    {
     "name": "stdout",
     "output_type": "stream",
     "text": [
      "Analizando: Friedrich Nietzsche - El anticristo\n",
      "Guardando libro\n",
      "\n",
      "Analizando: Fedor Dostoiewski - Noches Blancas\n",
      "Guardando libro\n",
      "\n",
      "Analizando: Antoine De Saint-Exupéry - El principito\n",
      "Guardando libro\n",
      "\n",
      "Analizando: Gibrán Khalil Gibrán - El loco\n",
      "Guardando libro\n",
      "\n",
      "Analizando: Anónimo - Robin Hood\n",
      "Guardando libro\n",
      "\n",
      "Analizando: Emilio Zola - Yo acuso\n",
      "Guardando libro\n",
      "\n",
      "Analizando: Anónimo - Lazarillo de Tormes\n",
      "Guardando libro\n",
      "\n",
      "Analizando: Franz Kafka - La metamosfosis\n",
      "Guardando libro\n",
      "\n",
      "Analizando: Charles Dickens - Oliver Twist\n",
      "Guardando libro\n",
      "\n",
      "Analizando: Francis Bacon - La nueva Atlántida\n",
      "Guardando libro\n",
      "\n",
      "Analizando: Charles Perrault - Cuentos\n",
      "Guardando libro\n",
      "\n",
      "Analizando: Gibrán Khalil Gibrán - Los secretos de corazón\n",
      "Guardando libro\n",
      "\n",
      "Analizando: Charles Darwin - El origen de las especies\n",
      "Guardando libro\n",
      "\n",
      "Analizando: Tomas Moro - Utopía\n",
      "Guardando libro\n",
      "\n",
      "Analizando: Carl Marx y F. Engels - Manifiesto del partido comunista\n",
      "Guardando libro\n",
      "\n",
      "Analizando: Federico García Lorca - Poemas\n",
      "Guardando libro\n",
      "\n",
      "Analizando: René Descartes - Discurso del método\n",
      "Guardando libro\n",
      "\n",
      "Analizando: Sun Tzu - El arte de la guerra\n",
      "Guardando libro\n",
      "\n",
      "Analizando: Friedrich Nietzsche - Cómo se filosofa a martillazos\n",
      "Guardando libro\n",
      "\n",
      "Analizando: William Shakespeare - Sonetos de amor\n",
      "Guardando libro\n",
      "\n"
     ]
    }
   ],
   "source": [
    "for libro in arr_files:\n",
    "    print(\"Analizando: \" + libro)\n",
    "    \n",
    "    arr_temp = []\n",
    "    row_num = 1\n",
    "    \n",
    "    # Abrir ambos archivos \n",
    "    path_es = \"./xlsx/{}_esp.xlsx\".format(libro)\n",
    "    wb_es = openpyxl.load_workbook(path_es, read_only=True)\n",
    "    ws_es = wb_es.active\n",
    "        \n",
    "    path_qu = \"./xlsx/{}_que.xlsx\".format(libro)\n",
    "    wb_qu = openpyxl.load_workbook(path_qu, read_only=True)\n",
    "    ws_qu = wb_qu.active\n",
    "            \n",
    "    \n",
    "    '''\n",
    "    # Verifica si ambos tienen la misma cantidad de líneas. Se implementará \n",
    "    # más adelante debido a que el modo read-only NO soporta 'iter_cols'\n",
    "    len_es = len(ws_es['A'])\n",
    "    len_qu = len(ws_qu['A'])\n",
    "    \n",
    "    if len_es != len_qu:\n",
    "        print(\"Error fatal en {} \\t no coincide número de filas\".format(libro))\n",
    "    '''\n",
    "    \n",
    "    # Se validó previamente de que no hubiera líneas en blanco en medio\n",
    "    # de las oraciones\n",
    "    while( ws_es['A'+str(row_num)].value is not None):\n",
    "        \n",
    "        txt_es = str(ws_es['A'+str(row_num)].value)\n",
    "        txt_qu = str(ws_qu['A'+str(row_num)].value)\n",
    "        \n",
    "        # Leer línea por línea y verificar si en algún caso está ´resente\n",
    "        # el caracter tabulación \\t. De ser así, ignorar esa línea.\n",
    "        tab_es = (txt_es.find(\"\\t\") == -1)\n",
    "        tab_qu = (txt_qu.find(\"\\t\") == -1)\n",
    "        \n",
    "        if tab_es and tab_qu:\n",
    "            arr_temp.append([txt_es, txt_qu]) \n",
    "        \n",
    "        row_num += 1\n",
    "     \n",
    "    # Crea DataFrame\n",
    "    df_temp = pd.DataFrame(arr_temp, columns=[\"español\", \"quechua\"])\n",
    "    \n",
    "    # Guardar el archivo\n",
    "    new_file = \"../{}.csv\".format(libro)\n",
    "    df_temp.to_csv(new_file, encoding=\"utf-8\", sep=\"\\t\", index=False)    \n",
    "    print(\"Guardando libro\\n\")\n",
    "    \n",
    "    # Cerrar los libros que se abrieron en esta iteración\n",
    "    wb_es.close()\n",
    "    wb_qu.close()\n",
    "    "
   ]
  },
  {
   "cell_type": "code",
   "execution_count": null,
   "id": "09f80bf1",
   "metadata": {},
   "outputs": [],
   "source": []
  },
  {
   "cell_type": "code",
   "execution_count": null,
   "id": "f289bae2",
   "metadata": {},
   "outputs": [],
   "source": []
  },
  {
   "cell_type": "markdown",
   "id": "864f699c",
   "metadata": {},
   "source": [
    "<h1 style=\"color:green\">Ejemplos y pruebas de uso</h1>"
   ]
  },
  {
   "cell_type": "code",
   "execution_count": null,
   "id": "ccab6858",
   "metadata": {},
   "outputs": [],
   "source": []
  },
  {
   "cell_type": "code",
   "execution_count": null,
   "id": "319b20ef",
   "metadata": {},
   "outputs": [],
   "source": []
  },
  {
   "cell_type": "code",
   "execution_count": null,
   "id": "032c0562",
   "metadata": {},
   "outputs": [],
   "source": []
  }
 ],
 "metadata": {
  "kernelspec": {
   "display_name": "Python 3 (ipykernel)",
   "language": "python",
   "name": "python3"
  },
  "language_info": {
   "codemirror_mode": {
    "name": "ipython",
    "version": 3
   },
   "file_extension": ".py",
   "mimetype": "text/x-python",
   "name": "python",
   "nbconvert_exporter": "python",
   "pygments_lexer": "ipython3",
   "version": "3.9.16"
  }
 },
 "nbformat": 4,
 "nbformat_minor": 5
}
