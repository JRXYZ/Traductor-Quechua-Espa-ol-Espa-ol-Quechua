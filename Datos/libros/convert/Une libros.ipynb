{
 "cells": [
  {
   "cell_type": "markdown",
   "id": "3d8245d3",
   "metadata": {},
   "source": [
    "<h1 style=\"color:gold; background-color:black; padding:20px\">Generar archivos CSV a partir de los libros en formato XLSX</h1>"
   ]
  },
  {
   "cell_type": "markdown",
   "id": "d525b194",
   "metadata": {},
   "source": [
    "<h1>Importar librerías necesarias</h1>"
   ]
  },
  {
   "cell_type": "code",
   "execution_count": 2,
   "id": "ecb3405d",
   "metadata": {},
   "outputs": [],
   "source": [
    "import os\n",
    "import pandas as pd\n",
    "import openpyxl"
   ]
  },
  {
   "cell_type": "markdown",
   "id": "aa3e3751",
   "metadata": {},
   "source": [
    "<h1>Obtener lista de archivos</h1>"
   ]
  },
  {
   "cell_type": "code",
   "execution_count": 8,
   "id": "e90722d6",
   "metadata": {},
   "outputs": [],
   "source": [
    "def quita_idioma(txt):\n",
    "    txt = txt.replace(\"_esp\",\"\").replace(\"_que\",\"\")\n",
    "    return txt\n"
   ]
  },
  {
   "cell_type": "code",
   "execution_count": 12,
   "id": "676d9445",
   "metadata": {},
   "outputs": [
    {
     "name": "stdout",
     "output_type": "stream",
     "text": [
      "Anónimo - Robin Hood.xlsx\n",
      "Gibrán Khalil Gibrán - El loco.xlsx\n",
      "Friedrich Nietzsche - El anticristo.xlsx\n",
      "Tomas Moro - Utopía.xlsx\n",
      "William Shakespeare - Sonetos de amor.xlsx\n",
      "Friedrich Nietzsche - Cómo se filosofa a martillazos.xlsx\n",
      "Sun Tzu - El arte de la guerra.xlsx\n",
      "Franz Kafka - La metamosfosis.xlsx\n",
      "Gibrán Khalil Gibrán - Los secretos de corazón.xlsx\n",
      "René Descartes - Discurso del método.xlsx\n",
      "Anónimo - Lazarillo de Tormes.xlsx\n"
     ]
    }
   ],
   "source": [
    "arr_files = os.listdir(\"./xlsx/\")\n",
    "\n",
    "arr_files = map(quita_idioma,\n",
    "                arr_files)\n",
    "\n",
    "arr_files = list(set(arr_files))\n",
    "\n",
    "for item in arr_files:\n",
    "    print(item)"
   ]
  },
  {
   "cell_type": "markdown",
   "id": "fd331ed9",
   "metadata": {},
   "source": [
    "<h1>Definir funciones auxiliares</h1>"
   ]
  },
  {
   "cell_type": "code",
   "execution_count": null,
   "id": "5ce3531d",
   "metadata": {},
   "outputs": [],
   "source": []
  },
  {
   "cell_type": "code",
   "execution_count": null,
   "id": "97290dc9",
   "metadata": {},
   "outputs": [],
   "source": []
  },
  {
   "cell_type": "code",
   "execution_count": null,
   "id": "5ae41623",
   "metadata": {},
   "outputs": [],
   "source": []
  },
  {
   "cell_type": "markdown",
   "id": "65d58cf6",
   "metadata": {},
   "source": [
    "<h1>Crear loop principal</h1>"
   ]
  },
  {
   "cell_type": "code",
   "execution_count": null,
   "id": "96f26291",
   "metadata": {},
   "outputs": [],
   "source": [
    "for libro in arr_files:\n",
    "    arr_temp = []\n",
    "    # Abrir ambos archivos \n",
    "    \n",
    "    \n",
    "    # Verifica si ambos tienen la misma cantidad de líneas\n",
    "    \n",
    "    \n",
    "    # Leer línea por línea y verificar si en algún caso está ´resente\n",
    "    # el caracter tabulación \\t. De ser así, ignorar esa línea.\n",
    "    \n",
    "    \n",
    "    \n",
    "    # Crea DataFrame\n",
    "    df_temp = pd.DataFrame(arr_temp, columns=[\"español\", \"quechua\"])\n",
    "    \n",
    "    # Guardar el archivo\n",
    "    new_file = \"../../\" + libro.replace(\".xlsx\", \".csv\")    \n",
    "    df_temp.to_csv(new_file, encoding=\"utf-8\", sep=\"\\t\", index=False)    \n",
    "    \n",
    "    pass\n",
    "    "
   ]
  },
  {
   "cell_type": "code",
   "execution_count": null,
   "id": "09f80bf1",
   "metadata": {},
   "outputs": [],
   "source": []
  }
 ],
 "metadata": {
  "kernelspec": {
   "display_name": "Python 3 (ipykernel)",
   "language": "python",
   "name": "python3"
  },
  "language_info": {
   "codemirror_mode": {
    "name": "ipython",
    "version": 3
   },
   "file_extension": ".py",
   "mimetype": "text/x-python",
   "name": "python",
   "nbconvert_exporter": "python",
   "pygments_lexer": "ipython3",
   "version": "3.9.16"
  }
 },
 "nbformat": 4,
 "nbformat_minor": 5
}
