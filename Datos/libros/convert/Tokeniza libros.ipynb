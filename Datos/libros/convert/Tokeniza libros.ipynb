{
 "cells": [
  {
   "cell_type": "markdown",
   "id": "87efec56",
   "metadata": {},
   "source": [
    "<h1 style=\"color:gold; background-color:black; padding:20px\">Convierte libros DOC DataFrames</h1>"
   ]
  },
  {
   "cell_type": "markdown",
   "id": "9a5530a8",
   "metadata": {},
   "source": [
    "<p>Tokeniza por oraciones utilizando NLTK</p>\n",
    "<p>El txt resultante será traducido al quechua</p>"
   ]
  },
  {
   "cell_type": "markdown",
   "id": "484f85e6",
   "metadata": {},
   "source": [
    "<h1>Importar librerías necesarias</h1>"
   ]
  },
  {
   "cell_type": "code",
   "execution_count": 1,
   "id": "671831e5",
   "metadata": {},
   "outputs": [],
   "source": [
    "import docx\n",
    "import os\n",
    "\n",
    "from nltk.tokenize import sent_tokenize"
   ]
  },
  {
   "cell_type": "markdown",
   "id": "a50264ac",
   "metadata": {},
   "source": [
    "<h1>Implementar lógica del proyecto</h1>"
   ]
  },
  {
   "cell_type": "markdown",
   "id": "fc704db2",
   "metadata": {},
   "source": [
    "<h3 style=\"color:crimson\">Listar los documentos disponibles</h3>"
   ]
  },
  {
   "cell_type": "code",
   "execution_count": 2,
   "id": "af4a461e",
   "metadata": {},
   "outputs": [
    {
     "name": "stdout",
     "output_type": "stream",
     "text": [
      "Archivos DOCX\n",
      "René Descartes - Discurso del método.docx\n",
      "\n",
      "\n",
      "Archivos TXT\n",
      "Antoine De Saint-Exupéry - El principito.txt\n",
      "Anónimo - Lazarillo de Tormes.txt\n",
      "Anónimo - Robin Hood.txt\n",
      "Carl Marx y F. Engels - Manifiesto del partido comunista.txt\n",
      "Charles Darwin - El origen de las especies.txt\n",
      "Charles Dickens - Oliver Twist.txt\n",
      "Charles Perrault - Cuentos.txt\n",
      "Emilio Zola - Yo acuso.txt\n",
      "Federico García Lorca - Poemas.txt\n",
      "Fedor Dostoiewski - Noches Blancas.txt\n",
      "Francis Bacon - La nueva Atlántida.txt\n",
      "Franz Kafka - La metamosfosis.txt\n",
      "Friedrich Nietzsche - Cómo se filosofa a martillazos.txt\n",
      "Friedrich Nietzsche - El anticristo.txt\n",
      "Gibrán Khalil Gibrán - El loco.txt\n",
      "Gibrán Khalil Gibrán - Los secretos de corazón.txt\n",
      "Sun Tzu - El arte de la guerra.txt\n",
      "Tomas Moro - Utopía.txt\n",
      "William Shakespeare - Sonetos de amor.txt\n"
     ]
    }
   ],
   "source": [
    "archivos = os.listdir()\n",
    "\n",
    "print(\"Archivos DOCX\")\n",
    "for archivo in archivos:\n",
    "    if archivo[-5:] == \".docx\":\n",
    "        print(archivo)\n",
    "        \n",
    "print(\"\\n\\nArchivos TXT\")\n",
    "for archivo in archivos:\n",
    "    if archivo[-4:] == \".txt\":\n",
    "        print(archivo)"
   ]
  },
  {
   "cell_type": "markdown",
   "id": "6c95c9fb",
   "metadata": {},
   "source": [
    "<h3 style=\"color:crimson\">Definir libro a convertir</h3>"
   ]
  },
  {
   "cell_type": "code",
   "execution_count": 3,
   "id": "80e24976",
   "metadata": {},
   "outputs": [
    {
     "name": "stdout",
     "output_type": "stream",
     "text": [
      "Ingrese el nombre del archivo: René Descartes - Discurso del método.docx\n"
     ]
    }
   ],
   "source": [
    "existe = False\n",
    "\n",
    "while not existe:\n",
    "    doc_path = '.\\\\' + input(\"Ingrese el nombre del archivo: \")\n",
    "    \n",
    "    if doc_path[2:].replace(\".docx\", \".txt\") in archivos:\n",
    "        print(\"Ya existe archivo. Intente nuevamente\")\n",
    "    else:\n",
    "        existe = True"
   ]
  },
  {
   "cell_type": "markdown",
   "id": "f08e2963",
   "metadata": {},
   "source": [
    "<h3 style=\"color:crimson\">Convertir el documento</h3>"
   ]
  },
  {
   "cell_type": "code",
   "execution_count": 4,
   "id": "8fd1c1f8",
   "metadata": {},
   "outputs": [],
   "source": [
    "doc = docx.Document(doc_path)"
   ]
  },
  {
   "cell_type": "code",
   "execution_count": 5,
   "id": "be90f018",
   "metadata": {},
   "outputs": [],
   "source": [
    "text = []\n",
    "for para in doc.paragraphs:    \n",
    "    for sentence in sent_tokenize(para.text, language=\"spanish\"):\n",
    "        sentence = sentence.strip()\n",
    "        \n",
    "        if sentence[0] in [\"—\", \"-\"]:\n",
    "            sentence = sentence[1:]\n",
    "        \n",
    "        sentence = sentence.replace(\"...\", \". \").replace(\"—\", \" — \").replace(\"-\", \" - \").strip()\n",
    "        \n",
    "        # ELiminar los números de capítulo\n",
    "        if len(sentence) > 3:            \n",
    "            text.append(sentence)\n",
    "            text.append(\"\\n\")"
   ]
  },
  {
   "cell_type": "code",
   "execution_count": 6,
   "id": "2b78fb18",
   "metadata": {},
   "outputs": [],
   "source": [
    "with open(doc_path.replace(\"docx\",\"txt\"), \"w\") as f:\n",
    "    f.writelines(text)"
   ]
  }
 ],
 "metadata": {
  "kernelspec": {
   "display_name": "Python 3 (ipykernel)",
   "language": "python",
   "name": "python3"
  },
  "language_info": {
   "codemirror_mode": {
    "name": "ipython",
    "version": 3
   },
   "file_extension": ".py",
   "mimetype": "text/x-python",
   "name": "python",
   "nbconvert_exporter": "python",
   "pygments_lexer": "ipython3",
   "version": "3.9.16"
  }
 },
 "nbformat": 4,
 "nbformat_minor": 5
}
