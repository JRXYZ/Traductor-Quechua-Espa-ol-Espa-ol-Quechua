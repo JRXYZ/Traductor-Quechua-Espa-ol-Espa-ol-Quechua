{
 "cells": [
  {
   "cell_type": "markdown",
   "id": "d0aa1033",
   "metadata": {},
   "source": [
    "<h1 style=\"color:gold; background-color:black; padding:20px\">Convierte libros DOC DataFrames</h1>"
   ]
  },
  {
   "cell_type": "markdown",
   "id": "c04317c9",
   "metadata": {},
   "source": [
    "<p>Tokeniza por oraciones utilizando NLTK</p>\n",
    "<p>El txt resultante será traducido al quechua</p>"
   ]
  },
  {
   "cell_type": "markdown",
   "id": "179fa4d5",
   "metadata": {},
   "source": [
    "<h1>Importar librerías necesarias</h1>"
   ]
  },
  {
   "cell_type": "code",
   "execution_count": 1,
   "id": "fde6cc5f",
   "metadata": {},
   "outputs": [],
   "source": [
    "import docx\n",
    "import os\n",
    "\n",
    "from nltk.tokenize import sent_tokenize"
   ]
  },
  {
   "cell_type": "markdown",
   "id": "2704a9ed",
   "metadata": {},
   "source": [
    "<h1>Implementar lógica del proyecto</h1>"
   ]
  },
  {
   "cell_type": "markdown",
   "id": "0a0da9e5",
   "metadata": {},
   "source": [
    "<h3 style=\"color:crimson\">Listar los documentos disponibles</h3>"
   ]
  },
  {
   "cell_type": "code",
   "execution_count": 2,
   "id": "888daa70",
   "metadata": {},
   "outputs": [
    {
     "name": "stdout",
     "output_type": "stream",
     "text": [
      "Archivos DOCX\n",
      "Anónimo - Robin Hood.docx\n",
      "\n",
      "\n",
      "Archivos TXT\n",
      "Antoine De Saint-Exupéry - El principito.txt\n",
      "Anónimo - Lazarillo de Tormes.txt\n",
      "Anónimo - Robin Hood.txt\n"
     ]
    }
   ],
   "source": [
    "archivos = os.listdir()\n",
    "\n",
    "print(\"Archivos DOCX\")\n",
    "for archivo in archivos:\n",
    "    if archivo[-5:] == \".docx\":\n",
    "        print(archivo)\n",
    "        \n",
    "print(\"\\n\\nArchivos TXT\")\n",
    "for archivo in archivos:\n",
    "    if archivo[-4:] == \".txt\":\n",
    "        print(archivo)"
   ]
  },
  {
   "cell_type": "markdown",
   "id": "9f6c6921",
   "metadata": {},
   "source": [
    "<h3 style=\"color:crimson\">Definir libro a convertir</h3>"
   ]
  },
  {
   "cell_type": "code",
   "execution_count": 3,
   "id": "b1a92b53",
   "metadata": {},
   "outputs": [
    {
     "name": "stdout",
     "output_type": "stream",
     "text": [
      "Ingrese el nombre del archivo: Anónimo - Robin Hood.docx\n"
     ]
    }
   ],
   "source": [
    "doc_path = '.\\\\' + input(\"Ingrese el nombre del archivo: \")"
   ]
  },
  {
   "cell_type": "markdown",
   "id": "d35c9aba",
   "metadata": {},
   "source": [
    "<h3 style=\"color:crimson\">Convertir el documento</h3>"
   ]
  },
  {
   "cell_type": "code",
   "execution_count": 4,
   "id": "3869f6ea",
   "metadata": {},
   "outputs": [],
   "source": [
    "doc = docx.Document(doc_path)"
   ]
  },
  {
   "cell_type": "code",
   "execution_count": 5,
   "id": "c886b710",
   "metadata": {},
   "outputs": [],
   "source": [
    "text = []\n",
    "for para in doc.paragraphs:    \n",
    "    for sentence in sent_tokenize(para.text, language=\"spanish\"):\n",
    "        if sentence[0] == \"—\":\n",
    "            sentence = sentence[1:]\n",
    "        \n",
    "        sentence = sentence.replace(\"...\", \". \").replace(\"—\", \" — \").strip()\n",
    "        \n",
    "        # ELiminar los números de capítulo\n",
    "        if len(sentence) > 3:            \n",
    "            text.append(sentence)\n",
    "            text.append(\"\\n\")"
   ]
  },
  {
   "cell_type": "code",
   "execution_count": 6,
   "id": "42dde994",
   "metadata": {},
   "outputs": [],
   "source": [
    "with open(doc_path.replace(\"docx\",\"txt\"), \"w\") as f:\n",
    "    f.writelines(text)"
   ]
  }
 ],
 "metadata": {
  "kernelspec": {
   "display_name": "Python 3 (ipykernel)",
   "language": "python",
   "name": "python3"
  },
  "language_info": {
   "codemirror_mode": {
    "name": "ipython",
    "version": 3
   },
   "file_extension": ".py",
   "mimetype": "text/x-python",
   "name": "python",
   "nbconvert_exporter": "python",
   "pygments_lexer": "ipython3",
   "version": "3.9.16"
  }
 },
 "nbformat": 4,
 "nbformat_minor": 5
}
