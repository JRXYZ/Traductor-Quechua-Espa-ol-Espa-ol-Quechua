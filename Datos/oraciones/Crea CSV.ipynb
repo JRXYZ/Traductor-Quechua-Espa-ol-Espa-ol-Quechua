{
 "cells": [
  {
   "cell_type": "markdown",
   "id": "4dc28ddc",
   "metadata": {},
   "source": [
    "<h1 style=\"color:gold; background-color:black; padding:20px; font-size:36px;text-align: center\">Une las oraciones paralelas en un único archivo CSV</h1>"
   ]
  },
  {
   "cell_type": "markdown",
   "id": "250aa53e",
   "metadata": {},
   "source": [
    "<h1>Definir variables globales</h1>"
   ]
  },
  {
   "cell_type": "code",
   "execution_count": 1,
   "id": "536b62c8",
   "metadata": {},
   "outputs": [],
   "source": [
    "PATH = \"./to_merge/oraciones p{}_{}.xlsx\""
   ]
  },
  {
   "cell_type": "markdown",
   "id": "d960370a",
   "metadata": {},
   "source": [
    "<h1>Importar librerías necesarias</h1>"
   ]
  },
  {
   "cell_type": "code",
   "execution_count": 2,
   "id": "51e7ebd7",
   "metadata": {},
   "outputs": [],
   "source": [
    "import os\n",
    "import pandas as pd\n",
    "\n",
    "import openpyxl\n",
    "from openpyxl import Workbook"
   ]
  },
  {
   "cell_type": "code",
   "execution_count": 3,
   "id": "724c50d7",
   "metadata": {},
   "outputs": [
    {
     "name": "stdout",
     "output_type": "stream",
     "text": [
      "Leyendo libro 1\n",
      "Fila 5000\n",
      "Fila 10000\n",
      "Fila 15000\n",
      "Cerrando libro 1\n",
      "\n",
      "Leyendo libro 2\n",
      "Fila 5000\n",
      "Fila 10000\n",
      "Fila 15000\n",
      "Cerrando libro 2\n",
      "\n",
      "Leyendo libro 3\n",
      "Fila 5000\n",
      "Fila 10000\n",
      "Fila 15000\n",
      "Cerrando libro 3\n",
      "\n",
      "Leyendo libro 4\n",
      "Fila 5000\n",
      "Fila 10000\n",
      "Fila 15000\n",
      "Cerrando libro 4\n",
      "\n",
      "Leyendo libro 5\n",
      "Fila 5000\n",
      "Fila 10000\n",
      "Fila 15000\n",
      "Cerrando libro 5\n",
      "\n",
      "Leyendo libro 6\n",
      "Fila 5000\n",
      "Fila 10000\n",
      "Fila 15000\n",
      "Cerrando libro 6\n",
      "\n",
      "Leyendo libro 7\n",
      "Fila 5000\n",
      "Fila 10000\n",
      "Fila 15000\n",
      "Cerrando libro 7\n",
      "\n",
      "Leyendo libro 8\n",
      "Fila 5000\n",
      "Fila 10000\n",
      "Fila 15000\n",
      "Cerrando libro 8\n",
      "\n",
      "Leyendo libro 9\n",
      "Fila 5000\n",
      "Fila 10000\n",
      "Fila 15000\n",
      "Cerrando libro 9\n",
      "\n"
     ]
    }
   ],
   "source": [
    "for index in range(1,9+1):\n",
    "    arr_palabras = []\n",
    "    \n",
    "    # Abrir los libros de Excel\n",
    "    wb_es = openpyxl.load_workbook(PATH.format(index, \"esp\"))\n",
    "    wb_qu = openpyxl.load_workbook(PATH.format(index, \"que\"))\n",
    "    \n",
    "    # Dirigirse a la única hoja activa\n",
    "    ws_es = wb_es.active\n",
    "    ws_qu = wb_qu.active\n",
    "    \n",
    "    print(\"Leyendo libro {}\".format(index))\n",
    "    # Recorrer las 15K líneas del libro Excel actual\n",
    "    for row_number in range(1,15000+1):\n",
    "        if row_number % 5000 == 0:\n",
    "            print(\"Fila {}\".format(row_number))\n",
    "        \n",
    "        txt_es = ws_es['A' + str(row_number)].value\n",
    "        txt_qu = ws_qu['A' + str(row_number)].value\n",
    "        \n",
    "        # Verificar la no-presencia de tabs\n",
    "        tab_es = (txt_es.find(\"\\t\") == -1)\n",
    "        tab_qu = (txt_qu.find(\"\\t\") == -1)\n",
    "        \n",
    "        # Sólo appendear si no hay tabs en ninguno de los dos textos\n",
    "        if tab_es and tab_qu:\n",
    "            arr_palabras.append([txt_es, txt_qu]) \n",
    "    \n",
    "    # Cerrar los libros de Excel        \n",
    "    print(\"Cerrando libro {}\\n\".format(index))\n",
    "    wb_es.close()\n",
    "    wb_qu.close()\n",
    "    \n",
    "    # Crear un DataFrame con el array populado y guardarlo como CSV\n",
    "    df_temp = pd.DataFrame(arr_palabras, columns=[\"español\", \"quechua\"])\n",
    "    \n",
    "    file_name = \"./oraciones p{}.csv\".format(index)\n",
    "    df_temp.to_csv(file_name, encoding=\"utf-8\", sep=\"\\t\", index=False)    "
   ]
  },
  {
   "cell_type": "code",
   "execution_count": null,
   "id": "00570251",
   "metadata": {},
   "outputs": [],
   "source": []
  }
 ],
 "metadata": {
  "kernelspec": {
   "display_name": "Python 3 (ipykernel)",
   "language": "python",
   "name": "python3"
  },
  "language_info": {
   "codemirror_mode": {
    "name": "ipython",
    "version": 3
   },
   "file_extension": ".py",
   "mimetype": "text/x-python",
   "name": "python",
   "nbconvert_exporter": "python",
   "pygments_lexer": "ipython3",
   "version": "3.9.16"
  }
 },
 "nbformat": 4,
 "nbformat_minor": 5
}
