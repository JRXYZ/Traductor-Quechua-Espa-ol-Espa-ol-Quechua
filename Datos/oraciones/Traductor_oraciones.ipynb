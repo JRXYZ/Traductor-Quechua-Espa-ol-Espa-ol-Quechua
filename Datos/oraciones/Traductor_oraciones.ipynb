{
 "cells": [
  {
   "cell_type": "markdown",
   "id": "b0fa436f",
   "metadata": {},
   "source": [
    "<h1 style=\"color:gold; background-color:black; padding:20px\">Generar oracione sparalelas</h1>"
   ]
  },
  {
   "cell_type": "markdown",
   "id": "16f7402b",
   "metadata": {},
   "source": [
    "<p>A partir de los archivos con las oraciones en español se agregará una segunda columna que contenga las traducciones al quechua</p>"
   ]
  },
  {
   "cell_type": "markdown",
   "id": "a80487f0",
   "metadata": {},
   "source": [
    "<h1>Importar librerías necesarias</h1>"
   ]
  },
  {
   "cell_type": "code",
   "execution_count": 1,
   "id": "4a3e5bad",
   "metadata": {},
   "outputs": [],
   "source": [
    "import googletrans\n",
    "import pandas as pd"
   ]
  },
  {
   "cell_type": "code",
   "execution_count": 2,
   "id": "26e3d9d1",
   "metadata": {},
   "outputs": [],
   "source": [
    "from googletrans import Translator"
   ]
  },
  {
   "cell_type": "markdown",
   "id": "7a5063da",
   "metadata": {},
   "source": [
    "<h1>Definir funciones auxiliares</h1>"
   ]
  },
  {
   "cell_type": "code",
   "execution_count": 3,
   "id": "52fb4dcd",
   "metadata": {},
   "outputs": [
    {
     "name": "stdout",
     "output_type": "stream",
     "text": [
      "af - afrikaans\n",
      "sq - albanian\n",
      "am - amharic\n",
      "ar - arabic\n",
      "hy - armenian\n",
      "az - azerbaijani\n",
      "eu - basque\n",
      "be - belarusian\n",
      "bn - bengali\n",
      "bs - bosnian\n",
      "bg - bulgarian\n",
      "ca - catalan\n",
      "ceb - cebuano\n",
      "ny - chichewa\n",
      "zh-cn - chinese (simplified)\n",
      "zh-tw - chinese (traditional)\n",
      "co - corsican\n",
      "hr - croatian\n",
      "cs - czech\n",
      "da - danish\n",
      "nl - dutch\n",
      "en - english\n",
      "eo - esperanto\n",
      "et - estonian\n",
      "tl - filipino\n",
      "fi - finnish\n",
      "fr - french\n",
      "fy - frisian\n",
      "gl - galician\n",
      "ka - georgian\n",
      "de - german\n",
      "el - greek\n",
      "gu - gujarati\n",
      "ht - haitian creole\n",
      "ha - hausa\n",
      "haw - hawaiian\n",
      "iw - hebrew\n",
      "he - hebrew\n",
      "hi - hindi\n",
      "hmn - hmong\n",
      "hu - hungarian\n",
      "is - icelandic\n",
      "ig - igbo\n",
      "id - indonesian\n",
      "ga - irish\n",
      "it - italian\n",
      "ja - japanese\n",
      "jw - javanese\n",
      "kn - kannada\n",
      "kk - kazakh\n",
      "km - khmer\n",
      "ko - korean\n",
      "ku - kurdish (kurmanji)\n",
      "ky - kyrgyz\n",
      "lo - lao\n",
      "la - latin\n",
      "lv - latvian\n",
      "lt - lithuanian\n",
      "lb - luxembourgish\n",
      "mk - macedonian\n",
      "mg - malagasy\n",
      "ms - malay\n",
      "ml - malayalam\n",
      "mt - maltese\n",
      "mi - maori\n",
      "mr - marathi\n",
      "mn - mongolian\n",
      "my - myanmar (burmese)\n",
      "ne - nepali\n",
      "no - norwegian\n",
      "or - odia\n",
      "ps - pashto\n",
      "fa - persian\n",
      "pl - polish\n",
      "pt - portuguese\n",
      "pa - punjabi\n",
      "ro - romanian\n",
      "ru - russian\n",
      "sm - samoan\n",
      "gd - scots gaelic\n",
      "sr - serbian\n",
      "st - sesotho\n",
      "sn - shona\n",
      "sd - sindhi\n",
      "si - sinhala\n",
      "sk - slovak\n",
      "sl - slovenian\n",
      "so - somali\n",
      "es - spanish\n",
      "su - sundanese\n",
      "sw - swahili\n",
      "sv - swedish\n",
      "tg - tajik\n",
      "ta - tamil\n",
      "te - telugu\n",
      "th - thai\n",
      "tr - turkish\n",
      "uk - ukrainian\n",
      "ur - urdu\n",
      "ug - uyghur\n",
      "uz - uzbek\n",
      "vi - vietnamese\n",
      "cy - welsh\n",
      "xh - xhosa\n",
      "yi - yiddish\n",
      "yo - yoruba\n",
      "zu - zulu\n"
     ]
    }
   ],
   "source": [
    "idiomas = googletrans.LANGUAGES\n",
    "\n",
    "for key, value in idiomas.items():\n",
    "    print(\"{} - {}\".format(key, value))"
   ]
  },
  {
   "cell_type": "markdown",
   "id": "5c88dd3c",
   "metadata": {},
   "source": [
    "<h1>Importar archivos base</h1>"
   ]
  },
  {
   "cell_type": "code",
   "execution_count": null,
   "id": "e1c12247",
   "metadata": {},
   "outputs": [],
   "source": []
  },
  {
   "cell_type": "markdown",
   "id": "11501834",
   "metadata": {},
   "source": [
    "<h1>Generar archivos</h1>"
   ]
  },
  {
   "cell_type": "code",
   "execution_count": null,
   "id": "09c7b2a4",
   "metadata": {},
   "outputs": [],
   "source": []
  },
  {
   "cell_type": "code",
   "execution_count": null,
   "id": "d903412d",
   "metadata": {
    "scrolled": true
   },
   "outputs": [],
   "source": []
  },
  {
   "cell_type": "code",
   "execution_count": null,
   "id": "6c0e4e19",
   "metadata": {},
   "outputs": [],
   "source": []
  },
  {
   "cell_type": "code",
   "execution_count": null,
   "id": "bfcf73db",
   "metadata": {},
   "outputs": [],
   "source": []
  },
  {
   "cell_type": "code",
   "execution_count": null,
   "id": "e83b267c",
   "metadata": {},
   "outputs": [],
   "source": []
  },
  {
   "cell_type": "code",
   "execution_count": null,
   "id": "ac6ed8e6",
   "metadata": {},
   "outputs": [],
   "source": []
  },
  {
   "cell_type": "code",
   "execution_count": null,
   "id": "b1837b82",
   "metadata": {},
   "outputs": [],
   "source": []
  },
  {
   "cell_type": "markdown",
   "id": "9b9a2276",
   "metadata": {},
   "source": [
    "<h1>Guardar archivos</h1>"
   ]
  },
  {
   "cell_type": "code",
   "execution_count": null,
   "id": "3cbe9d35",
   "metadata": {},
   "outputs": [],
   "source": []
  },
  {
   "cell_type": "code",
   "execution_count": null,
   "id": "ef313923",
   "metadata": {},
   "outputs": [],
   "source": []
  },
  {
   "cell_type": "markdown",
   "id": "b5ef553c",
   "metadata": {},
   "source": [
    "<h1 style=\"color:green\">Ejemplos de uso</h1>"
   ]
  },
  {
   "cell_type": "markdown",
   "id": "572c7bea",
   "metadata": {},
   "source": [
    "<p>Solución al problema detectado en la versión 3</p>\n",
    "<a>https://github.com/ssut/py-googletrans/issues/234#issuecomment-742460612</a>"
   ]
  },
  {
   "cell_type": "markdown",
   "id": "cdece4ba",
   "metadata": {},
   "source": [
    "<h3>Francés --&gt Inglés</h3>"
   ]
  },
  {
   "cell_type": "code",
   "execution_count": 17,
   "id": "f5cfca33",
   "metadata": {},
   "outputs": [],
   "source": [
    "translator = Translator(service_urls=['translate.google.com'])\n",
    "#translator = Translator()"
   ]
  },
  {
   "cell_type": "code",
   "execution_count": 5,
   "id": "e207f7a5",
   "metadata": {},
   "outputs": [
    {
     "name": "stdout",
     "output_type": "stream",
     "text": [
      "Detected(lang=fr, confidence=None)\n"
     ]
    }
   ],
   "source": [
    "text1 = \"Je ne sais quoi manger\"\n",
    "print(translator.detect(text1))"
   ]
  },
  {
   "cell_type": "code",
   "execution_count": 6,
   "id": "929acc4d",
   "metadata": {},
   "outputs": [
    {
     "name": "stdout",
     "output_type": "stream",
     "text": [
      "I don't know what to eat\n"
     ]
    }
   ],
   "source": [
    "text1_en = translator.translate(text1, src=\"fr\", dest=\"en\")\n",
    "print(text1_en.text)"
   ]
  },
  {
   "cell_type": "markdown",
   "id": "4870034e",
   "metadata": {},
   "source": [
    "<h3>Español --&gt Quechua</h3>"
   ]
  },
  {
   "cell_type": "code",
   "execution_count": 18,
   "id": "4aea3bd8",
   "metadata": {},
   "outputs": [
    {
     "name": "stdout",
     "output_type": "stream",
     "text": [
      "Detected(lang=qu, confidence=None)\n"
     ]
    }
   ],
   "source": [
    "# Confirmar si el código para quechua es \"qu\"\n",
    "text2 = \"ama hina kaspa ama qella kaychu\"\n",
    "print(translator.detect(text2))"
   ]
  },
  {
   "cell_type": "code",
   "execution_count": 12,
   "id": "7d5b2b53",
   "metadata": {
    "scrolled": true
   },
   "outputs": [
    {
     "ename": "ValueError",
     "evalue": "invalid destination language",
     "output_type": "error",
     "traceback": [
      "\u001b[1;31m---------------------------------------------------------------------------\u001b[0m",
      "\u001b[1;31mValueError\u001b[0m                                Traceback (most recent call last)",
      "Cell \u001b[1;32mIn[12], line 2\u001b[0m\n\u001b[0;32m      1\u001b[0m text3 \u001b[38;5;241m=\u001b[39m \u001b[38;5;124m\"\u001b[39m\u001b[38;5;124mAlianza Lima le ganó 2-0 a Cienciano por la fecha 10 de la Liga 1 Betsson y es puntero\u001b[39m\u001b[38;5;124m\"\u001b[39m\n\u001b[1;32m----> 2\u001b[0m text3_api \u001b[38;5;241m=\u001b[39m \u001b[43mtranslator\u001b[49m\u001b[38;5;241;43m.\u001b[39;49m\u001b[43mtranslate\u001b[49m\u001b[43m(\u001b[49m\u001b[43mtext3\u001b[49m\u001b[43m,\u001b[49m\u001b[43m \u001b[49m\u001b[43msrc\u001b[49m\u001b[38;5;241;43m=\u001b[39;49m\u001b[38;5;124;43m\"\u001b[39;49m\u001b[38;5;124;43mes\u001b[39;49m\u001b[38;5;124;43m\"\u001b[39;49m\u001b[43m,\u001b[49m\u001b[43m \u001b[49m\u001b[43mdest\u001b[49m\u001b[38;5;241;43m=\u001b[39;49m\u001b[38;5;124;43m\"\u001b[39;49m\u001b[38;5;124;43mqu\u001b[39;49m\u001b[38;5;124;43m\"\u001b[39;49m\u001b[43m)\u001b[49m\n\u001b[0;32m      4\u001b[0m \u001b[38;5;28mprint\u001b[39m(\u001b[38;5;124m\"\u001b[39m\u001b[38;5;124mEl texto traducido por Google Translator es: Alianza Lima Ciencianota 2-0 atiparqan Liga 1 Betssonpa 10 p\u001b[39m\u001b[38;5;124m'\u001b[39m\u001b[38;5;124munchawninpi, chaymantataqmi huk puntero\u001b[39m\u001b[38;5;124m\"\u001b[39m)\n\u001b[0;32m      6\u001b[0m \u001b[38;5;28mprint\u001b[39m(\u001b[38;5;124m\"\u001b[39m\u001b[38;5;130;01m\\n\u001b[39;00m\u001b[38;5;124m El texto traducido por la API es: \u001b[39m\u001b[38;5;132;01m{}\u001b[39;00m\u001b[38;5;124m\"\u001b[39m\u001b[38;5;241m.\u001b[39mformat(text3_api\u001b[38;5;241m.\u001b[39mtext))\n",
      "File \u001b[1;32m~\\.conda\\envs\\ProyectoNLP\\lib\\site-packages\\googletrans\\client.py:191\u001b[0m, in \u001b[0;36mTranslator.translate\u001b[1;34m(self, text, dest, src)\u001b[0m\n\u001b[0;32m    189\u001b[0m         dest \u001b[38;5;241m=\u001b[39m LANGCODES[dest]\n\u001b[0;32m    190\u001b[0m     \u001b[38;5;28;01melse\u001b[39;00m:\n\u001b[1;32m--> 191\u001b[0m         \u001b[38;5;28;01mraise\u001b[39;00m \u001b[38;5;167;01mValueError\u001b[39;00m(\u001b[38;5;124m'\u001b[39m\u001b[38;5;124minvalid destination language\u001b[39m\u001b[38;5;124m'\u001b[39m)\n\u001b[0;32m    193\u001b[0m origin \u001b[38;5;241m=\u001b[39m text\n\u001b[0;32m    194\u001b[0m data, response \u001b[38;5;241m=\u001b[39m \u001b[38;5;28mself\u001b[39m\u001b[38;5;241m.\u001b[39m_translate(text, dest, src)\n",
      "\u001b[1;31mValueError\u001b[0m: invalid destination language"
     ]
    }
   ],
   "source": [
    "text3 = \"Alianza Lima le ganó 2-0 a Cienciano por la fecha 10 de la Liga 1 Betsson y es puntero\"\n",
    "text3_api = translator.translate(text3, src=\"es\", dest=\"qu\")\n",
    "\n",
    "print(\"El texto traducido por Google Translator es: Alianza Lima Ciencianota 2-0 atiparqan Liga 1 Betssonpa 10 p'unchawninpi, chaymantataqmi huk puntero\")\n",
    "\n",
    "print(\"\\n El texto traducido por la API es: {}\".format(text3_api.text))"
   ]
  }
 ],
 "metadata": {
  "kernelspec": {
   "display_name": "Python 3 (ipykernel)",
   "language": "python",
   "name": "python3"
  },
  "language_info": {
   "codemirror_mode": {
    "name": "ipython",
    "version": 3
   },
   "file_extension": ".py",
   "mimetype": "text/x-python",
   "name": "python",
   "nbconvert_exporter": "python",
   "pygments_lexer": "ipython3",
   "version": "3.9.16"
  }
 },
 "nbformat": 4,
 "nbformat_minor": 5
}
