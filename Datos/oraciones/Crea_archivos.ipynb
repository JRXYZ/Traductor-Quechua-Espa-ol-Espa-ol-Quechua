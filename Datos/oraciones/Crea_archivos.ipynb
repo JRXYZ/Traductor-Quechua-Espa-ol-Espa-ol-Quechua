{
 "cells": [
  {
   "cell_type": "markdown",
   "id": "13d54344",
   "metadata": {},
   "source": [
    "<h1 style=\"color:gold; background-color:black; padding:20px; font-size:36px;text-align: center\">Partir el TXT gigante en varios XLSX</h1>"
   ]
  },
  {
   "cell_type": "markdown",
   "id": "52e74d7c",
   "metadata": {},
   "source": [
    "<p>De 15K oraciones cada uno</p>"
   ]
  },
  {
   "cell_type": "markdown",
   "id": "82bbde87",
   "metadata": {},
   "source": [
    "<h1>Importar librerías necesarias</h1>"
   ]
  },
  {
   "cell_type": "code",
   "execution_count": 1,
   "id": "41effea4",
   "metadata": {},
   "outputs": [],
   "source": [
    "import pandas as pd\n",
    "\n",
    "import openpyxl\n",
    "from openpyxl import Workbook"
   ]
  },
  {
   "cell_type": "markdown",
   "id": "fc7f71ff",
   "metadata": {},
   "source": [
    "<h1>Importar archivos de trabajo</h1>"
   ]
  },
  {
   "cell_type": "code",
   "execution_count": 2,
   "id": "030c91a5",
   "metadata": {},
   "outputs": [],
   "source": [
    "file_name = \"../../../../Classes/Datos/spa-eng/spa.txt\"\n",
    "file_count = 0\n",
    "arr_words = []"
   ]
  },
  {
   "cell_type": "code",
   "execution_count": 3,
   "id": "ddc08289",
   "metadata": {},
   "outputs": [
    {
     "name": "stdout",
     "output_type": "stream",
     "text": [
      "Grabando libro 1\n",
      "Grabando libro 2\n",
      "Grabando libro 3\n",
      "Grabando libro 4\n",
      "Grabando libro 5\n",
      "Grabando libro 6\n",
      "Grabando libro 7\n",
      "Grabando libro 8\n",
      "Grabando libro 9\n"
     ]
    }
   ],
   "source": [
    "with open(file_name, mode=\"r\", encoding=\"utf-8\") as f:\n",
    "    for line_count in range(135000):\n",
    "        txt_eng, txt_esp, _ = f.readline().split(\"\\t\")        \n",
    "        lc = line_count % 15000\n",
    "        \n",
    "        # cada archivo tendrá como máximo 15K líneas\n",
    "        if lc == 0:\n",
    "            # Guardar el libro anterior\n",
    "            if file_count != 0:\n",
    "                print(\"Grabando libro {}\".format(file_count))\n",
    "                wb.save(\"./oraciones p{}_esp.xlsx\".format(file_count))\n",
    "                wb.close()\n",
    "            \n",
    "            wb = Workbook()        \n",
    "            ws = wb.active          \n",
    "            file_count += 1\n",
    "            \n",
    "        ws['A'+str(lc+1)] = txt_esp\n",
    "\n",
    "# Grabar el último libro\n",
    "print(\"Grabando libro {}\".format(file_count))\n",
    "wb.save(\"./oraciones p{}_esp.xlsx\".format(file_count))"
   ]
  }
 ],
 "metadata": {
  "kernelspec": {
   "display_name": "Python 3 (ipykernel)",
   "language": "python",
   "name": "python3"
  },
  "language_info": {
   "codemirror_mode": {
    "name": "ipython",
    "version": 3
   },
   "file_extension": ".py",
   "mimetype": "text/x-python",
   "name": "python",
   "nbconvert_exporter": "python",
   "pygments_lexer": "ipython3",
   "version": "3.9.16"
  }
 },
 "nbformat": 4,
 "nbformat_minor": 5
}
