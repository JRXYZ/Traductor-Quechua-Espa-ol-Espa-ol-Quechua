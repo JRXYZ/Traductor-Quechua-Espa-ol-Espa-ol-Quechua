{
 "cells": [
  {
   "cell_type": "markdown",
   "id": "b0fa436f",
   "metadata": {},
   "source": [
    "<h1 style=\"color:gold; background-color:black; padding:20px\">Generar oracione sparalelas</h1>"
   ]
  },
  {
   "cell_type": "markdown",
   "id": "16f7402b",
   "metadata": {},
   "source": [
    "<p>A partir de los archivos con las oraciones en español se agregará una segunda columna que contenga las traducciones al quechua</p>"
   ]
  },
  {
   "cell_type": "markdown",
   "id": "a80487f0",
   "metadata": {},
   "source": [
    "<h1>Importar librerías necesarias</h1>"
   ]
  },
  {
   "cell_type": "code",
   "execution_count": 3,
   "id": "4a3e5bad",
   "metadata": {},
   "outputs": [],
   "source": [
    "import googletrans\n",
    "import pandas as pd"
   ]
  },
  {
   "cell_type": "code",
   "execution_count": 4,
   "id": "26e3d9d1",
   "metadata": {},
   "outputs": [],
   "source": [
    "from googletrans import Translator"
   ]
  },
  {
   "cell_type": "markdown",
   "id": "7a5063da",
   "metadata": {},
   "source": [
    "<h1>Definir funciones auxiliares</h1>"
   ]
  },
  {
   "cell_type": "code",
   "execution_count": 13,
   "id": "52fb4dcd",
   "metadata": {},
   "outputs": [
    {
     "name": "stdout",
     "output_type": "stream",
     "text": [
      "af - afrikaans\n",
      "sq - albanian\n",
      "am - amharic\n",
      "ar - arabic\n",
      "hy - armenian\n",
      "az - azerbaijani\n",
      "eu - basque\n",
      "be - belarusian\n",
      "bn - bengali\n",
      "bs - bosnian\n",
      "bg - bulgarian\n",
      "ca - catalan\n",
      "ceb - cebuano\n",
      "ny - chichewa\n",
      "zh-cn - chinese (simplified)\n",
      "zh-tw - chinese (traditional)\n",
      "co - corsican\n",
      "hr - croatian\n",
      "cs - czech\n",
      "da - danish\n",
      "nl - dutch\n",
      "en - english\n",
      "eo - esperanto\n",
      "et - estonian\n",
      "tl - filipino\n",
      "fi - finnish\n",
      "fr - french\n",
      "fy - frisian\n",
      "gl - galician\n",
      "ka - georgian\n",
      "de - german\n",
      "el - greek\n",
      "gu - gujarati\n",
      "ht - haitian creole\n",
      "ha - hausa\n",
      "haw - hawaiian\n",
      "iw - hebrew\n",
      "he - hebrew\n",
      "hi - hindi\n",
      "hmn - hmong\n",
      "hu - hungarian\n",
      "is - icelandic\n",
      "ig - igbo\n",
      "id - indonesian\n",
      "ga - irish\n",
      "it - italian\n",
      "ja - japanese\n",
      "jw - javanese\n",
      "kn - kannada\n",
      "kk - kazakh\n",
      "km - khmer\n",
      "ko - korean\n",
      "ku - kurdish (kurmanji)\n",
      "ky - kyrgyz\n",
      "lo - lao\n",
      "la - latin\n",
      "lv - latvian\n",
      "lt - lithuanian\n",
      "lb - luxembourgish\n",
      "mk - macedonian\n",
      "mg - malagasy\n",
      "ms - malay\n",
      "ml - malayalam\n",
      "mt - maltese\n",
      "mi - maori\n",
      "mr - marathi\n",
      "mn - mongolian\n",
      "my - myanmar (burmese)\n",
      "ne - nepali\n",
      "no - norwegian\n",
      "or - odia\n",
      "ps - pashto\n",
      "fa - persian\n",
      "pl - polish\n",
      "pt - portuguese\n",
      "pa - punjabi\n",
      "ro - romanian\n",
      "ru - russian\n",
      "sm - samoan\n",
      "gd - scots gaelic\n",
      "sr - serbian\n",
      "st - sesotho\n",
      "sn - shona\n",
      "sd - sindhi\n",
      "si - sinhala\n",
      "sk - slovak\n",
      "sl - slovenian\n",
      "so - somali\n",
      "es - spanish\n",
      "su - sundanese\n",
      "sw - swahili\n",
      "sv - swedish\n",
      "tg - tajik\n",
      "ta - tamil\n",
      "te - telugu\n",
      "th - thai\n",
      "tr - turkish\n",
      "uk - ukrainian\n",
      "ur - urdu\n",
      "ug - uyghur\n",
      "uz - uzbek\n",
      "vi - vietnamese\n",
      "cy - welsh\n",
      "xh - xhosa\n",
      "yi - yiddish\n",
      "yo - yoruba\n",
      "zu - zulu\n"
     ]
    }
   ],
   "source": [
    "idiomas = googletrans.LANGUAGES\n",
    "\n",
    "for key, value in idiomas.items():\n",
    "    print(\"{} - {}\".format(key, value))"
   ]
  },
  {
   "cell_type": "markdown",
   "id": "5c88dd3c",
   "metadata": {},
   "source": [
    "<h1>Importar archivos base</h1>"
   ]
  },
  {
   "cell_type": "code",
   "execution_count": null,
   "id": "e1c12247",
   "metadata": {},
   "outputs": [],
   "source": []
  },
  {
   "cell_type": "markdown",
   "id": "11501834",
   "metadata": {},
   "source": [
    "<h1>Generar archivos</h1>"
   ]
  },
  {
   "cell_type": "code",
   "execution_count": null,
   "id": "59ec3658",
   "metadata": {},
   "outputs": [],
   "source": []
  },
  {
   "cell_type": "code",
   "execution_count": null,
   "id": "78fdf56f",
   "metadata": {},
   "outputs": [],
   "source": []
  },
  {
   "cell_type": "markdown",
   "id": "9b9a2276",
   "metadata": {},
   "source": [
    "<h1>Guardar archivos</h1>"
   ]
  },
  {
   "cell_type": "code",
   "execution_count": null,
   "id": "3cbe9d35",
   "metadata": {},
   "outputs": [],
   "source": []
  }
 ],
 "metadata": {
  "kernelspec": {
   "display_name": "Python 3 (ipykernel)",
   "language": "python",
   "name": "python3"
  },
  "language_info": {
   "codemirror_mode": {
    "name": "ipython",
    "version": 3
   },
   "file_extension": ".py",
   "mimetype": "text/x-python",
   "name": "python",
   "nbconvert_exporter": "python",
   "pygments_lexer": "ipython3",
   "version": "3.9.16"
  }
 },
 "nbformat": 4,
 "nbformat_minor": 5
}
