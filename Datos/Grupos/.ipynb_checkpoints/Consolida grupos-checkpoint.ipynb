{
 "cells": [
  {
   "cell_type": "markdown",
   "id": "a6179ccc",
   "metadata": {},
   "source": [
    "<h1 style=\"color:gold; background-color:black; padding:20px\">Consolidar los archivos XLSX en un solo CSV</h1>"
   ]
  },
  {
   "cell_type": "markdown",
   "id": "f8867c57",
   "metadata": {},
   "source": [
    "<h1>Importar librerías necesarias</h1>"
   ]
  },
  {
   "cell_type": "code",
   "execution_count": 1,
   "id": "40f3bc71",
   "metadata": {},
   "outputs": [],
   "source": [
    "import os\n",
    "import openpyxl\n",
    "import pandas as pd"
   ]
  },
  {
   "cell_type": "markdown",
   "id": "2d052b8d",
   "metadata": {},
   "source": [
    "<h1>Implementar lógica del proyecto</h1>"
   ]
  },
  {
   "cell_type": "code",
   "execution_count": 13,
   "id": "60ff4c7e",
   "metadata": {},
   "outputs": [],
   "source": [
    "arr_palabras = []\n",
    "\n",
    "arr_files = os.listdir()\n",
    "arr_files.sort()"
   ]
  },
  {
   "cell_type": "markdown",
   "id": "49e07f87",
   "metadata": {},
   "source": [
    "<h3 style=\"color:crimson\">Poblar DataFrame</h3>"
   ]
  },
  {
   "cell_type": "code",
   "execution_count": 14,
   "id": "bc3550c2",
   "metadata": {},
   "outputs": [
    {
     "name": "stdout",
     "output_type": "stream",
     "text": [
      "Analizando 01-Frases-I.xlsx\n",
      "Analizando 02-Mediciones-Operaciones.xlsx\n",
      "Analizando 03-Numeros-01.xlsx\n",
      "Analizando 04-SobreElTiempo.xlsx\n",
      "Analizando 05-Espacio.xlsx\n",
      "Analizando 06-Meses.xlsx\n",
      "Analizando 07-Dias.xlsx\n",
      "Analizando 08-PuntosCardinales.xlsx\n",
      "Analizando 09-Colores.xlsx\n",
      "Analizando 10-CabezaRostro.xlsx\n",
      "Analizando 11-PartesCuerpoHumano.xlsx\n",
      "Analizando 12-Medicina-Enfermedad.xlsx\n",
      "Analizando 13-FamiliaRelaciones.xlsx\n",
      "Analizando 14-ComercioTrabajo.xlsx\n"
     ]
    }
   ],
   "source": [
    "for file in arr_files:\n",
    "    row = 3 #las palabras SIEMPRE empiezan en la fila 3\n",
    "    \n",
    "    if file.endswith(\".xlsx\"):\n",
    "        print(\"Analizando {}\".format(file))\n",
    "        \n",
    "        wb = openpyxl.load_workbook(\"./\"+file)\n",
    "        ws = wb.active       \n",
    "        \n",
    "        while( ws['B'+str(row)].value is not None):\n",
    "            # Notar orden inverso de las columnas\n",
    "            txt_es = ws['C'+str(row)].value\n",
    "            txt_qu = ws['B'+str(row)].value\n",
    "            \n",
    "            \n",
    "            # Verificar la no-presencia de tabs\n",
    "            tab_es = (txt_es.find(\"\\t\") == -1)\n",
    "            tab_qu = (txt_qu.find(\"\\t\") == -1)\n",
    "        \n",
    "            if tab_es and tab_qu:\n",
    "                arr_palabras.append([txt_es, txt_qu]) \n",
    "            \n",
    "            row += 1\n",
    "                       \n",
    "        wb.close()"
   ]
  },
  {
   "cell_type": "markdown",
   "id": "64ddafb8",
   "metadata": {},
   "source": [
    "<h3 style=\"color:crimson\">Crear DataFrame</h3>"
   ]
  },
  {
   "cell_type": "code",
   "execution_count": 15,
   "id": "70af9474",
   "metadata": {},
   "outputs": [
    {
     "data": {
      "text/html": [
       "<div>\n",
       "<style scoped>\n",
       "    .dataframe tbody tr th:only-of-type {\n",
       "        vertical-align: middle;\n",
       "    }\n",
       "\n",
       "    .dataframe tbody tr th {\n",
       "        vertical-align: top;\n",
       "    }\n",
       "\n",
       "    .dataframe thead th {\n",
       "        text-align: right;\n",
       "    }\n",
       "</style>\n",
       "<table border=\"1\" class=\"dataframe\">\n",
       "  <thead>\n",
       "    <tr style=\"text-align: right;\">\n",
       "      <th></th>\n",
       "      <th>español</th>\n",
       "      <th>quechua</th>\n",
       "    </tr>\n",
       "  </thead>\n",
       "  <tbody>\n",
       "    <tr>\n",
       "      <th>0</th>\n",
       "      <td>¿Cuánto vale esto?</td>\n",
       "      <td>Hayk’an valin kay?</td>\n",
       "    </tr>\n",
       "    <tr>\n",
       "      <th>1</th>\n",
       "      <td>Vale 150 pesos</td>\n",
       "      <td>Chayqa 150 pesosmi</td>\n",
       "    </tr>\n",
       "    <tr>\n",
       "      <th>2</th>\n",
       "      <td>¿Cuántos años tienes?</td>\n",
       "      <td>Hayk’an watayoq kanki?</td>\n",
       "    </tr>\n",
       "    <tr>\n",
       "      <th>3</th>\n",
       "      <td>Tengo 8 años</td>\n",
       "      <td>Pusaq watayoqmi kani</td>\n",
       "    </tr>\n",
       "    <tr>\n",
       "      <th>4</th>\n",
       "      <td>¿Cuántas horas tiene un día?</td>\n",
       "      <td>Hayk’a pachan ch’isiyaq p’unchawpi kan?</td>\n",
       "    </tr>\n",
       "    <tr>\n",
       "      <th>...</th>\n",
       "      <td>...</td>\n",
       "      <td>...</td>\n",
       "    </tr>\n",
       "    <tr>\n",
       "      <th>436</th>\n",
       "      <td>yerno</td>\n",
       "      <td>qatay</td>\n",
       "    </tr>\n",
       "    <tr>\n",
       "      <th>437</th>\n",
       "      <td>¿Quién es tu cuñado?</td>\n",
       "      <td>Pin masaniyki?</td>\n",
       "    </tr>\n",
       "    <tr>\n",
       "      <th>438</th>\n",
       "      <td>Juan, el hermano de mi novia</td>\n",
       "      <td>Juanmi, yanaypa turan</td>\n",
       "    </tr>\n",
       "    <tr>\n",
       "      <th>439</th>\n",
       "      <td>¿Paula es tu prima?</td>\n",
       "      <td>Paula sispa ñañayki?</td>\n",
       "    </tr>\n",
       "    <tr>\n",
       "      <th>440</th>\n",
       "      <td>No, ella es mi tía</td>\n",
       "      <td>Mana, payqa ipaymi</td>\n",
       "    </tr>\n",
       "  </tbody>\n",
       "</table>\n",
       "<p>441 rows × 2 columns</p>\n",
       "</div>"
      ],
      "text/plain": [
       "                          español                                  quechua\n",
       "0              ¿Cuánto vale esto?                       Hayk’an valin kay?\n",
       "1                  Vale 150 pesos                       Chayqa 150 pesosmi\n",
       "2           ¿Cuántos años tienes?                   Hayk’an watayoq kanki?\n",
       "3                    Tengo 8 años                     Pusaq watayoqmi kani\n",
       "4    ¿Cuántas horas tiene un día?  Hayk’a pachan ch’isiyaq p’unchawpi kan?\n",
       "..                            ...                                      ...\n",
       "436                         yerno                                    qatay\n",
       "437          ¿Quién es tu cuñado?                           Pin masaniyki?\n",
       "438  Juan, el hermano de mi novia                    Juanmi, yanaypa turan\n",
       "439           ¿Paula es tu prima?                     Paula sispa ñañayki?\n",
       "440            No, ella es mi tía                       Mana, payqa ipaymi\n",
       "\n",
       "[441 rows x 2 columns]"
      ]
     },
     "execution_count": 15,
     "metadata": {},
     "output_type": "execute_result"
    }
   ],
   "source": [
    "df_grupos = pd.DataFrame(arr_palabras, columns=[\"español\", \"quechua\"])\n",
    "df_grupos"
   ]
  },
  {
   "cell_type": "markdown",
   "id": "76bb0623",
   "metadata": {},
   "source": [
    "<h3 style=\"color:crimson\">Guardar DataFrame</h3>"
   ]
  },
  {
   "cell_type": "code",
   "execution_count": 16,
   "id": "0be05652",
   "metadata": {},
   "outputs": [],
   "source": [
    "df_grupos.to_csv(\"Grupos.csv\", encoding=\"utf-8\", sep=\"\\t\", index=False)"
   ]
  }
 ],
 "metadata": {
  "kernelspec": {
   "display_name": "Python 3 (ipykernel)",
   "language": "python",
   "name": "python3"
  },
  "language_info": {
   "codemirror_mode": {
    "name": "ipython",
    "version": 3
   },
   "file_extension": ".py",
   "mimetype": "text/x-python",
   "name": "python",
   "nbconvert_exporter": "python",
   "pygments_lexer": "ipython3",
   "version": "3.9.16"
  }
 },
 "nbformat": 4,
 "nbformat_minor": 5
}
