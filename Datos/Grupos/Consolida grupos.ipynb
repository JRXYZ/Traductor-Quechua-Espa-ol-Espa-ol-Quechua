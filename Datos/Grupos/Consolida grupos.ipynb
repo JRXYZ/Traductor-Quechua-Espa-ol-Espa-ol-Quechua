{
 "cells": [
  {
   "cell_type": "markdown",
   "id": "442c82db",
   "metadata": {},
   "source": [
    "<h1 style=\"color:gold; background-color:black; padding:20px\">Consolidar los archivos XLSX en un solo CSV</h1>"
   ]
  },
  {
   "cell_type": "markdown",
   "id": "ebba46c2",
   "metadata": {},
   "source": [
    "<h1>Importar librerías necesarias</h1>"
   ]
  },
  {
   "cell_type": "code",
   "execution_count": 1,
   "id": "efef3c7f",
   "metadata": {},
   "outputs": [],
   "source": [
    "import os\n",
    "import openpyxl\n",
    "import pandas as pd"
   ]
  },
  {
   "cell_type": "markdown",
   "id": "93f5a170",
   "metadata": {},
   "source": [
    "<h1>Implementar lógica del proyecto</h1>"
   ]
  },
  {
   "cell_type": "code",
   "execution_count": 3,
   "id": "a67a2d74",
   "metadata": {},
   "outputs": [],
   "source": [
    "arr_palabras = []\n",
    "arr_files = os.listdir()"
   ]
  },
  {
   "cell_type": "code",
   "execution_count": 6,
   "id": "f422692b",
   "metadata": {},
   "outputs": [
    {
     "name": "stdout",
     "output_type": "stream",
     "text": [
      "01-Frases-I.xlsx\n",
      "02-Mediciones-Operaciones.xlsx\n",
      "03-Numeros-01.xlsx\n",
      "04-SobreElTiempo.xlsx\n",
      "05-Espacio.xlsx\n",
      "06-Meses.xlsx\n",
      "07-Dias.xlsx\n",
      "08-PuntosCardinales.xlsx\n",
      "09-Colores.xlsx\n",
      "10-CabezaRostro.xlsx\n",
      "11-PartesCuerpoHumano.xlsx\n",
      "12-Medicina-Enfermedad.xlsx\n",
      "13-FamiliaRelaciones.xlsx\n",
      "14-ComercioTrabajo.xlsx\n"
     ]
    }
   ],
   "source": [
    "for file in arr_files:\n",
    "    if file.endswith(\".xlsx\"):\n",
    "        print(file)"
   ]
  },
  {
   "cell_type": "markdown",
   "id": "92c57766",
   "metadata": {},
   "source": [
    "<h1>Guardar DataFrame</h1>"
   ]
  },
  {
   "cell_type": "code",
   "execution_count": null,
   "id": "85638ae2",
   "metadata": {},
   "outputs": [],
   "source": []
  }
 ],
 "metadata": {
  "kernelspec": {
   "display_name": "Python 3 (ipykernel)",
   "language": "python",
   "name": "python3"
  },
  "language_info": {
   "codemirror_mode": {
    "name": "ipython",
    "version": 3
   },
   "file_extension": ".py",
   "mimetype": "text/x-python",
   "name": "python",
   "nbconvert_exporter": "python",
   "pygments_lexer": "ipython3",
   "version": "3.9.16"
  }
 },
 "nbformat": 4,
 "nbformat_minor": 5
}
