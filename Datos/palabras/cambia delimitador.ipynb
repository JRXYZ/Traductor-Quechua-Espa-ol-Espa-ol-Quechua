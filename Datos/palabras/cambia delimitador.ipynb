{
 "cells": [
  {
   "cell_type": "markdown",
   "id": "40e55da9",
   "metadata": {},
   "source": [
    "<h1 style=\"color:gold; background-color:black; padding:20px\">Modificar el caracter separador de los archivos CSV</h1>"
   ]
  },
  {
   "cell_type": "markdown",
   "id": "6c121788",
   "metadata": {},
   "source": [
    "<h1>Importar librerías necesarias</h1>"
   ]
  },
  {
   "cell_type": "code",
   "execution_count": 1,
   "id": "4a6fdd39",
   "metadata": {},
   "outputs": [],
   "source": [
    "import os\n",
    "import pandas as pd"
   ]
  },
  {
   "cell_type": "markdown",
   "id": "31a00c63",
   "metadata": {},
   "source": [
    "<h1>Importar y guardar archivo</h1>"
   ]
  },
  {
   "cell_type": "code",
   "execution_count": null,
   "id": "10b22c95",
   "metadata": {},
   "outputs": [],
   "source": [
    "arr_paths = [\"./\", \"../Grupos/\"]\n",
    "\n",
    "for arr_path in arr_paths:    \n",
    "    arr_archivos = "
   ]
  },
  {
   "cell_type": "code",
   "execution_count": null,
   "id": "529ad3fb",
   "metadata": {},
   "outputs": [],
   "source": []
  },
  {
   "cell_type": "code",
   "execution_count": null,
   "id": "190b0b0a",
   "metadata": {},
   "outputs": [],
   "source": []
  },
  {
   "cell_type": "code",
   "execution_count": null,
   "id": "fcaac56e",
   "metadata": {},
   "outputs": [],
   "source": []
  },
  {
   "cell_type": "code",
   "execution_count": null,
   "id": "6c6afc8a",
   "metadata": {},
   "outputs": [],
   "source": []
  },
  {
   "cell_type": "code",
   "execution_count": null,
   "id": "c1bebdfa",
   "metadata": {},
   "outputs": [],
   "source": []
  }
 ],
 "metadata": {
  "kernelspec": {
   "display_name": "Python 3 (ipykernel)",
   "language": "python",
   "name": "python3"
  },
  "language_info": {
   "codemirror_mode": {
    "name": "ipython",
    "version": 3
   },
   "file_extension": ".py",
   "mimetype": "text/x-python",
   "name": "python",
   "nbconvert_exporter": "python",
   "pygments_lexer": "ipython3",
   "version": "3.9.16"
  }
 },
 "nbformat": 4,
 "nbformat_minor": 5
}
