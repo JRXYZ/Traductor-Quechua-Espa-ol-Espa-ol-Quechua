{
 "cells": [
  {
   "cell_type": "markdown",
   "id": "c2b31df6",
   "metadata": {},
   "source": [
    "<h1 style=\"color:gold; background-color:black; padding:20px\">Modificar el caracter separador de los archivos CSV</h1>"
   ]
  },
  {
   "cell_type": "markdown",
   "id": "907e56ed",
   "metadata": {},
   "source": [
    "<h1>Importar librerías necesarias</h1>"
   ]
  },
  {
   "cell_type": "code",
   "execution_count": 1,
   "id": "b6536638",
   "metadata": {},
   "outputs": [],
   "source": [
    "import os\n",
    "import pandas as pd"
   ]
  },
  {
   "cell_type": "markdown",
   "id": "d0180540",
   "metadata": {},
   "source": [
    "<h1>Importar y guardar archivo</h1>"
   ]
  },
  {
   "cell_type": "code",
   "execution_count": 2,
   "id": "528dc0d3",
   "metadata": {},
   "outputs": [],
   "source": [
    "#arr_paths = [\"./old/\", \"../Grupos/\"]\n",
    "#arr_paths = [\"./old/\"]\n",
    "arr_paths = [\"../oraciones/\"]\n",
    "\n",
    "for arr_path in arr_paths:    \n",
    "    arr_archivos = os.listdir(arr_path)\n",
    "    \n",
    "    for archivo in arr_archivos:\n",
    "        if archivo.endswith(\"_old.csv\"):\n",
    "            file_name = \"{}{}\".format(arr_path, archivo)\n",
    "            df = pd.read_csv(file_name, names=[\"español\", \"quechua\"])\n",
    "            \n",
    "            new_name = archivo.replace(\"_old\",\"\")\n",
    "            df.to_csv(\"{}{}\".format(arr_path, new_name), encoding=\"utf-8\", sep=\"\\t\", \n",
    "                      index=False)"
   ]
  },
  {
   "cell_type": "code",
   "execution_count": 6,
   "id": "4b3dec89",
   "metadata": {},
   "outputs": [
    {
     "data": {
      "text/html": [
       "<div>\n",
       "<style scoped>\n",
       "    .dataframe tbody tr th:only-of-type {\n",
       "        vertical-align: middle;\n",
       "    }\n",
       "\n",
       "    .dataframe tbody tr th {\n",
       "        vertical-align: top;\n",
       "    }\n",
       "\n",
       "    .dataframe thead th {\n",
       "        text-align: right;\n",
       "    }\n",
       "</style>\n",
       "<table border=\"1\" class=\"dataframe\">\n",
       "  <thead>\n",
       "    <tr style=\"text-align: right;\">\n",
       "      <th></th>\n",
       "      <th>español</th>\n",
       "      <th>quechua</th>\n",
       "    </tr>\n",
       "  </thead>\n",
       "  <tbody>\n",
       "    <tr>\n",
       "      <th>0</th>\n",
       "      <td>ácido</td>\n",
       "      <td>ácido nisqa</td>\n",
       "    </tr>\n",
       "    <tr>\n",
       "      <th>1</th>\n",
       "      <td>agradable</td>\n",
       "      <td>munasqa</td>\n",
       "    </tr>\n",
       "    <tr>\n",
       "      <th>2</th>\n",
       "      <td>agrícola</td>\n",
       "      <td>chakra llamk’aymanta</td>\n",
       "    </tr>\n",
       "    <tr>\n",
       "      <th>3</th>\n",
       "      <td>algún</td>\n",
       "      <td>wakin</td>\n",
       "    </tr>\n",
       "    <tr>\n",
       "      <th>4</th>\n",
       "      <td>amable</td>\n",
       "      <td>kuyakuq</td>\n",
       "    </tr>\n",
       "    <tr>\n",
       "      <th>...</th>\n",
       "      <td>...</td>\n",
       "      <td>...</td>\n",
       "    </tr>\n",
       "    <tr>\n",
       "      <th>115</th>\n",
       "      <td>valiente</td>\n",
       "      <td>piña</td>\n",
       "    </tr>\n",
       "    <tr>\n",
       "      <th>116</th>\n",
       "      <td>vanguardista</td>\n",
       "      <td>vanguardia nisqa</td>\n",
       "    </tr>\n",
       "    <tr>\n",
       "      <th>117</th>\n",
       "      <td>varios</td>\n",
       "      <td>achka</td>\n",
       "    </tr>\n",
       "    <tr>\n",
       "      <th>118</th>\n",
       "      <td>verde</td>\n",
       "      <td>qumir</td>\n",
       "    </tr>\n",
       "    <tr>\n",
       "      <th>119</th>\n",
       "      <td>vuestra</td>\n",
       "      <td>qampaq</td>\n",
       "    </tr>\n",
       "  </tbody>\n",
       "</table>\n",
       "<p>120 rows × 2 columns</p>\n",
       "</div>"
      ],
      "text/plain": [
       "          español               quechua\n",
       "0           ácido           ácido nisqa\n",
       "1       agradable               munasqa\n",
       "2        agrícola  chakra llamk’aymanta\n",
       "3           algún                 wakin\n",
       "4          amable               kuyakuq\n",
       "..            ...                   ...\n",
       "115      valiente                  piña\n",
       "116  vanguardista      vanguardia nisqa\n",
       "117        varios                 achka\n",
       "118         verde                 qumir\n",
       "119       vuestra                qampaq\n",
       "\n",
       "[120 rows x 2 columns]"
      ]
     },
     "execution_count": 6,
     "metadata": {},
     "output_type": "execute_result"
    }
   ],
   "source": [
    "#df = pd.read_csv(\"./adjetivos.csv\", encoding=\"utf-8\", sep=\"\\t\")\n",
    "df = pd.read_csv(\"./oraciones/oraciones_p8.csv\", encoding=\"utf-8\", sep=\"\\t\")\n",
    "df"
   ]
  }
 ],
 "metadata": {
  "kernelspec": {
   "display_name": "Python 3 (ipykernel)",
   "language": "python",
   "name": "python3"
  },
  "language_info": {
   "codemirror_mode": {
    "name": "ipython",
    "version": 3
   },
   "file_extension": ".py",
   "mimetype": "text/x-python",
   "name": "python",
   "nbconvert_exporter": "python",
   "pygments_lexer": "ipython3",
   "version": "3.9.16"
  }
 },
 "nbformat": 4,
 "nbformat_minor": 5
}
