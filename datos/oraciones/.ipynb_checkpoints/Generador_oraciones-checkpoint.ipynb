{
 "cells": [
  {
   "cell_type": "markdown",
   "id": "deb1e3b5",
   "metadata": {},
   "source": [
    "<p>\n",
    "    Este libro de Python generará archivos CSV en base a las noticias descargadas\n",
    "    <br>\n",
    "    Se segregará por género de noticia.\n",
    "    <br>\n",
    "    Dentro de cada archivo generado se tokenizará el contenido por oraciones\n",
    "</p>"
   ]
  },
  {
   "cell_type": "markdown",
   "id": "52b111a2",
   "metadata": {},
   "source": [
    "<h1>Definir parámetros globales</h1>"
   ]
  },
  {
   "cell_type": "code",
   "execution_count": 1,
   "id": "829f84e6",
   "metadata": {},
   "outputs": [],
   "source": [
    "file_compilado = \"D:/NLP Clasificador Noticias/super_compilado.csv\""
   ]
  },
  {
   "cell_type": "code",
   "execution_count": 2,
   "id": "f0a30bea",
   "metadata": {},
   "outputs": [],
   "source": [
    "# mes --> día --> fecha-hora\n",
    "file_generico = \"D:/NLP Clasificador Noticias/{}/{}/{}.txt\""
   ]
  },
  {
   "cell_type": "code",
   "execution_count": 3,
   "id": "a6e33853",
   "metadata": {},
   "outputs": [],
   "source": [
    "# Por motivos prácticos sólo se traajará con las 10 categorías más comunes\n",
    "mas_comunes = [\"espectaculos\", \"lima\", \"mundo\",\n",
    "               \"deportes\", \"politica\", \"peru\",\n",
    "                \"cheka\",\"economia\"]"
   ]
  },
  {
   "cell_type": "markdown",
   "id": "1c241d9f",
   "metadata": {},
   "source": [
    "<h1>Importar librerías necesarias</h1>"
   ]
  },
  {
   "cell_type": "code",
   "execution_count": 4,
   "id": "a391ed88",
   "metadata": {},
   "outputs": [],
   "source": [
    "import pandas as pd"
   ]
  },
  {
   "cell_type": "markdown",
   "id": "a8400e1a",
   "metadata": {},
   "source": [
    "<h1>Importar DataFrame</h1>"
   ]
  },
  {
   "cell_type": "code",
   "execution_count": 5,
   "id": "02d240a0",
   "metadata": {},
   "outputs": [],
   "source": [
    "df_compilado = pd.read_csv(file_compilado, encoding=\"utf-8\")"
   ]
  },
  {
   "cell_type": "code",
   "execution_count": 6,
   "id": "10b2435a",
   "metadata": {},
   "outputs": [
    {
     "data": {
      "text/html": [
       "<div>\n",
       "<style scoped>\n",
       "    .dataframe tbody tr th:only-of-type {\n",
       "        vertical-align: middle;\n",
       "    }\n",
       "\n",
       "    .dataframe tbody tr th {\n",
       "        vertical-align: top;\n",
       "    }\n",
       "\n",
       "    .dataframe thead th {\n",
       "        text-align: right;\n",
       "    }\n",
       "</style>\n",
       "<table border=\"1\" class=\"dataframe\">\n",
       "  <thead>\n",
       "    <tr style=\"text-align: right;\">\n",
       "      <th></th>\n",
       "      <th>index</th>\n",
       "      <th>Nombre</th>\n",
       "      <th>Clasificacion</th>\n",
       "      <th>Titulo</th>\n",
       "    </tr>\n",
       "  </thead>\n",
       "  <tbody>\n",
       "    <tr>\n",
       "      <th>0</th>\n",
       "      <td>0</td>\n",
       "      <td>2023-04-01 22-20-42</td>\n",
       "      <td>economia</td>\n",
       "      <td>¿A dónde apuntan las iniciativas de sostenibil...</td>\n",
       "    </tr>\n",
       "    <tr>\n",
       "      <th>1</th>\n",
       "      <td>1</td>\n",
       "      <td>2023-04-01 21-59-37</td>\n",
       "      <td>economia</td>\n",
       "      <td>Autos eléctricos: ¿cuáles son las perspectivas...</td>\n",
       "    </tr>\n",
       "    <tr>\n",
       "      <th>2</th>\n",
       "      <td>2</td>\n",
       "      <td>2023-04-01 21-54-55</td>\n",
       "      <td>espectaculos</td>\n",
       "      <td>¡No hay vuelta atrás! Shakira decide mudarse d...</td>\n",
       "    </tr>\n",
       "    <tr>\n",
       "      <th>3</th>\n",
       "      <td>3</td>\n",
       "      <td>2023-04-01 21-24-17</td>\n",
       "      <td>lima</td>\n",
       "      <td>San Martín de Porres: recuperan calles tomadas...</td>\n",
       "    </tr>\n",
       "    <tr>\n",
       "      <th>4</th>\n",
       "      <td>4</td>\n",
       "      <td>2023-04-01 21-10-42</td>\n",
       "      <td>lima</td>\n",
       "      <td>Senamhi pronostica fuertes lluvias durante la ...</td>\n",
       "    </tr>\n",
       "    <tr>\n",
       "      <th>...</th>\n",
       "      <td>...</td>\n",
       "      <td>...</td>\n",
       "      <td>...</td>\n",
       "      <td>...</td>\n",
       "    </tr>\n",
       "    <tr>\n",
       "      <th>14217</th>\n",
       "      <td>14217</td>\n",
       "      <td>2023-03-31 20-25-02</td>\n",
       "      <td>politica</td>\n",
       "      <td>Pleno votaría el martes 4 reconsiderar el arch...</td>\n",
       "    </tr>\n",
       "    <tr>\n",
       "      <th>14218</th>\n",
       "      <td>14218</td>\n",
       "      <td>2023-03-31 20-04-13</td>\n",
       "      <td>espectaculos</td>\n",
       "      <td>Andrés Hurtado presume su nuevo look, pero usu...</td>\n",
       "    </tr>\n",
       "    <tr>\n",
       "      <th>14219</th>\n",
       "      <td>14219</td>\n",
       "      <td>2023-03-31 19-36-42</td>\n",
       "      <td>economia</td>\n",
       "      <td>Semana Santa: ticket promedio de consumo por d...</td>\n",
       "    </tr>\n",
       "    <tr>\n",
       "      <th>14220</th>\n",
       "      <td>14220</td>\n",
       "      <td>2023-03-31 19-20-39</td>\n",
       "      <td>lima</td>\n",
       "      <td>El boom Axé Bahía abre segunda fecha en Perú, ...</td>\n",
       "    </tr>\n",
       "    <tr>\n",
       "      <th>14221</th>\n",
       "      <td>14221</td>\n",
       "      <td>2023-03-31 19-19-22</td>\n",
       "      <td>mundo</td>\n",
       "      <td>Bélgica: Hombre se suicida tras hablar varias ...</td>\n",
       "    </tr>\n",
       "  </tbody>\n",
       "</table>\n",
       "<p>14222 rows × 4 columns</p>\n",
       "</div>"
      ],
      "text/plain": [
       "       index               Nombre Clasificacion  \\\n",
       "0          0  2023-04-01 22-20-42      economia   \n",
       "1          1  2023-04-01 21-59-37      economia   \n",
       "2          2  2023-04-01 21-54-55  espectaculos   \n",
       "3          3  2023-04-01 21-24-17          lima   \n",
       "4          4  2023-04-01 21-10-42          lima   \n",
       "...      ...                  ...           ...   \n",
       "14217  14217  2023-03-31 20-25-02      politica   \n",
       "14218  14218  2023-03-31 20-04-13  espectaculos   \n",
       "14219  14219  2023-03-31 19-36-42      economia   \n",
       "14220  14220  2023-03-31 19-20-39          lima   \n",
       "14221  14221  2023-03-31 19-19-22         mundo   \n",
       "\n",
       "                                                  Titulo  \n",
       "0      ¿A dónde apuntan las iniciativas de sostenibil...  \n",
       "1      Autos eléctricos: ¿cuáles son las perspectivas...  \n",
       "2      ¡No hay vuelta atrás! Shakira decide mudarse d...  \n",
       "3      San Martín de Porres: recuperan calles tomadas...  \n",
       "4      Senamhi pronostica fuertes lluvias durante la ...  \n",
       "...                                                  ...  \n",
       "14217  Pleno votaría el martes 4 reconsiderar el arch...  \n",
       "14218  Andrés Hurtado presume su nuevo look, pero usu...  \n",
       "14219  Semana Santa: ticket promedio de consumo por d...  \n",
       "14220  El boom Axé Bahía abre segunda fecha en Perú, ...  \n",
       "14221  Bélgica: Hombre se suicida tras hablar varias ...  \n",
       "\n",
       "[14222 rows x 4 columns]"
      ]
     },
     "execution_count": 6,
     "metadata": {},
     "output_type": "execute_result"
    }
   ],
   "source": [
    "df_compilado"
   ]
  },
  {
   "cell_type": "markdown",
   "id": "659591f6",
   "metadata": {},
   "source": [
    "<h1>Implementar lógica del proyecto</h1>"
   ]
  },
  {
   "cell_type": "code",
   "execution_count": 7,
   "id": "269b7fbf",
   "metadata": {},
   "outputs": [],
   "source": [
    "#nxc = noticias por categorías\n",
    "dict_nxc = {}"
   ]
  },
  {
   "cell_type": "code",
   "execution_count": 8,
   "id": "3e8d8238",
   "metadata": {},
   "outputs": [],
   "source": [
    "# para evitar hacer iles de consultas if innecesarias, se inicializará los valores \n",
    "# del diccionario acá\n",
    "for r_clas in mas_comunes:\n",
    "    dict_nxc[r_clas] = []\n"
   ]
  },
  {
   "cell_type": "markdown",
   "id": "4a683d5a",
   "metadata": {},
   "source": [
    "<h3 style=\"color:crimson\">Tokenizar las oraciones y guardarlas en el diccionario</h3>"
   ]
  },
  {
   "cell_type": "code",
   "execution_count": 9,
   "id": "455b2758",
   "metadata": {
    "scrolled": true
   },
   "outputs": [],
   "source": [
    "for index, registro in df_compilado.iterrows():\n",
    "    # index(0) \t Nombre(1) \t Clasificacion(2) \t Titulo(3)\n",
    "    r_nom = registro[1]\n",
    "    r_clas = registro[2]\n",
    "    r_tit = registro[3]\n",
    "    \n",
    "    # En este archivo ya están filtradas únicamente las 8 categrías más comunes \n",
    "    \n",
    "    # .format(mes, dia, fecha-hora)\n",
    "    file_actual = file_generico.format(r_nom[:7],r_nom[:10],r_nom)\n",
    "    # vaciar los conntenidos del archivo según corresponda\n",
    "    with open(file_actual, mode=\"r\", encoding=\"utf-8\") as f:\n",
    "        titulo = f.readline()\n",
    "        dict_nxc[r_clas].append(titulo)\n",
    "        \n",
    "        contenido = f.readline().split(\".\")\n",
    "        dict_nxc[r_clas] += contenido"
   ]
  },
  {
   "cell_type": "code",
   "execution_count": null,
   "id": "d2d59eff",
   "metadata": {},
   "outputs": [],
   "source": []
  },
  {
   "cell_type": "code",
   "execution_count": null,
   "id": "7c76c1fe",
   "metadata": {},
   "outputs": [],
   "source": []
  },
  {
   "cell_type": "code",
   "execution_count": null,
   "id": "4268f096",
   "metadata": {},
   "outputs": [],
   "source": []
  },
  {
   "cell_type": "markdown",
   "id": "142f3c01",
   "metadata": {},
   "source": [
    "<h1>Guardar archivos</h1>"
   ]
  },
  {
   "cell_type": "code",
   "execution_count": 13,
   "id": "9e15211b",
   "metadata": {},
   "outputs": [],
   "source": [
    "for r_clas in mas_comunes:\n",
    "    pass"
   ]
  },
  {
   "cell_type": "code",
   "execution_count": null,
   "id": "a91258e3",
   "metadata": {},
   "outputs": [],
   "source": []
  },
  {
   "cell_type": "code",
   "execution_count": null,
   "id": "876cb936",
   "metadata": {},
   "outputs": [],
   "source": []
  },
  {
   "cell_type": "code",
   "execution_count": null,
   "id": "75728b01",
   "metadata": {},
   "outputs": [],
   "source": []
  },
  {
   "cell_type": "code",
   "execution_count": null,
   "id": "82aabf13",
   "metadata": {},
   "outputs": [],
   "source": []
  },
  {
   "cell_type": "markdown",
   "id": "9e0662a8",
   "metadata": {},
   "source": [
    "<h1 style=\"color:green\">Pruebas</h1>"
   ]
  },
  {
   "cell_type": "code",
   "execution_count": 10,
   "id": "61eb62fd",
   "metadata": {},
   "outputs": [
    {
     "name": "stdout",
     "output_type": "stream",
     "text": [
      "2023-04\n",
      "2023-04-01\n",
      "22-20-42\n"
     ]
    }
   ],
   "source": [
    "abc = \"2023-04-01 22-20-42\"\n",
    "print(abc[:7])\n",
    "print(abc[:10])\n",
    "print(abc[11:])"
   ]
  },
  {
   "cell_type": "code",
   "execution_count": 11,
   "id": "5c11820b",
   "metadata": {},
   "outputs": [
    {
     "data": {
      "text/plain": [
       "36093"
      ]
     },
     "execution_count": 11,
     "metadata": {},
     "output_type": "execute_result"
    }
   ],
   "source": [
    "len(dict_nxc[\"lima\"])"
   ]
  },
  {
   "cell_type": "code",
   "execution_count": 12,
   "id": "3f9da089",
   "metadata": {},
   "outputs": [],
   "source": [
    "#dict_nxc[\"lima\"]"
   ]
  },
  {
   "cell_type": "code",
   "execution_count": null,
   "id": "a85245e3",
   "metadata": {},
   "outputs": [],
   "source": []
  }
 ],
 "metadata": {
  "kernelspec": {
   "display_name": "Python 3 (ipykernel)",
   "language": "python",
   "name": "python3"
  },
  "language_info": {
   "codemirror_mode": {
    "name": "ipython",
    "version": 3
   },
   "file_extension": ".py",
   "mimetype": "text/x-python",
   "name": "python",
   "nbconvert_exporter": "python",
   "pygments_lexer": "ipython3",
   "version": "3.9.16"
  }
 },
 "nbformat": 4,
 "nbformat_minor": 5
}
