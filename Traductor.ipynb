{
 "cells": [
  {
   "cell_type": "markdown",
   "id": "170eadcf",
   "metadata": {},
   "source": [
    "<h1>Importar librerías ecesarias</h1>"
   ]
  },
  {
   "cell_type": "code",
   "execution_count": null,
   "id": "edecd776",
   "metadata": {},
   "outputs": [],
   "source": [
    "import json\n",
    "import pandas as pd\n",
    "\n",
    "import numpy as np\n",
    "import tensorflow as tf"
   ]
  },
  {
   "cell_type": "code",
   "execution_count": null,
   "id": "d51e507a",
   "metadata": {},
   "outputs": [],
   "source": [
    "#from tensorflow import keras\n",
    "from tensorflow.keras.layers import Input, LSTM, Dense\n",
    "from tensorflow.keras.models import Model, load_model\n",
    "from tensorflow.keras.utils import plot_model"
   ]
  },
  {
   "cell_type": "markdown",
   "id": "200f18aa",
   "metadata": {},
   "source": [
    "<h1>Cargar datos</h1>"
   ]
  },
  {
   "cell_type": "markdown",
   "id": "043875ec",
   "metadata": {},
   "source": [
    "<h3 style=\"color:crimson\">Cargar modelos</h3>"
   ]
  },
  {
   "cell_type": "code",
   "execution_count": null,
   "id": "b76cd51c",
   "metadata": {},
   "outputs": [],
   "source": [
    "model = load_model(\"../Modelos/s2q/spanish_to_quechua\")"
   ]
  },
  {
   "cell_type": "markdown",
   "id": "c5f6c899",
   "metadata": {},
   "source": [
    "<h3 style=\"color:crimson\">Cargar valores adicionales</h3>"
   ]
  },
  {
   "cell_type": "code",
   "execution_count": null,
   "id": "940f2d3d",
   "metadata": {},
   "outputs": [],
   "source": [
    "batch_size = 64 # tamño de los lotes para entrenamiento\n",
    "epochs = 100 # Número de epochs\n",
    "latent_dim = 256 # dimensión del espacio latente para el encoder\n",
    "num_samples = 10000\n",
    "#data_path = \"../Datos/spa-eng/spa.txt\" # 124548 lines"
   ]
  },
  {
   "cell_type": "code",
   "execution_count": null,
   "id": "f9ab8e3c",
   "metadata": {},
   "outputs": [],
   "source": [
    "with open(\"../Saved_Models/input_token_index.txt\", \"r\") as f:\n",
    "    input_token_index = json.load(f)\n",
    "\n",
    "with open(\"../Saved_Models/target_token_index.txt\", \"r\") as f:\n",
    "    target_token_index = json.load(f)\n",
    "\n",
    "with open(\"../Saved_Models/encoder_input_data.npy\", \"rb\") as f:\n",
    "    encoder_input_data = np.load(f)"
   ]
  },
  {
   "cell_type": "code",
   "execution_count": null,
   "id": "e6cbedcb",
   "metadata": {},
   "outputs": [],
   "source": [
    "df_input_texts = pd.read_csv(\"../Saved_Models/input_texts.csv\")\n",
    "\n",
    "input_texts = []\n",
    "for index, word in df_input_texts.iterrows():    \n",
    "    #input_texts.append(word[1])\n",
    "    input_texts.append(word)"
   ]
  },
  {
   "cell_type": "markdown",
   "id": "5dcc66f3",
   "metadata": {},
   "source": [
    "<h1>Modelo de inferencia</h1>"
   ]
  },
  {
   "cell_type": "code",
   "execution_count": null,
   "id": "1d101765",
   "metadata": {},
   "outputs": [],
   "source": [
    "encoder_inputs = model.input[0]  # input_1\n",
    "encoder_outputs, state_h_enc, state_c_enc = model.layers[2].output  # lstm_1\n",
    "encoder_states = [state_h_enc, state_c_enc]\n",
    "encoder_model = Model(encoder_inputs, encoder_states)\n",
    "\n",
    "decoder_inputs = model.input[1]  # input_2\n",
    "decoder_state_input_h = Input(shape=(latent_dim,), name=\"input_3\")\n",
    "decoder_state_input_c = Input(shape=(latent_dim,), name=\"input_4\")\n",
    "decoder_states_inputs = [decoder_state_input_h, decoder_state_input_c]\n",
    "\n",
    "decoder_lstm = model.layers[3]\n",
    "decoder_outputs, state_h_dec, state_c_dec = decoder_lstm(\n",
    "    decoder_inputs, initial_state=decoder_states_inputs\n",
    ")\n",
    "decoder_states = [state_h_dec, state_c_dec]\n",
    "\n",
    "decoder_dense = model.layers[4]\n",
    "decoder_outputs = decoder_dense(decoder_outputs)\n",
    "decoder_model = Model(\n",
    "    [decoder_inputs] + decoder_states_inputs, [decoder_outputs] + decoder_states\n",
    ")\n",
    "\n",
    "# Reverse-lookup taken index to decode sequences back to\n",
    "# something readable.\n",
    "reverse_input_char_index = dict((i, char) for char, i in input_token_index.items())\n",
    "reverse_target_char_index = dict((i, char) for char, i in target_token_index.items())"
   ]
  },
  {
   "cell_type": "code",
   "execution_count": null,
   "id": "ba1b5667",
   "metadata": {},
   "outputs": [],
   "source": [
    "def decode_sequence(input_seq):\n",
    "    # Encode the input as state vectors.\n",
    "    states_value = encoder_model.predict(input_seq)\n",
    "\n",
    "    # Generate empty target sequence of length 1.\n",
    "    target_seq = np.zeros((1, 1, num_decoder_tokens))\n",
    "    # Populate the first character of target sequence with the start character.\n",
    "    target_seq[0, 0, target_token_index[\"\\t\"]] = 1.0\n",
    "\n",
    "    # Sampling loop for a batch of sequences\n",
    "    # (to simplify, here we assume a batch of size 1).\n",
    "    stop_condition = False\n",
    "    decoded_sentence = \"\"\n",
    "    while not stop_condition:\n",
    "        output_tokens, h, c = decoder_model.predict([target_seq] + states_value)\n",
    "\n",
    "        # Sample a token\n",
    "        sampled_token_index = np.argmax(output_tokens[0, -1, :])\n",
    "        sampled_char = reverse_target_char_index[sampled_token_index]\n",
    "        decoded_sentence += sampled_char\n",
    "\n",
    "        # Exit condition: either hit max length\n",
    "        # or find stop character.\n",
    "        if sampled_char == \"\\n\" or len(decoded_sentence) > max_decoder_seq_length:\n",
    "            stop_condition = True\n",
    "\n",
    "        # Update the target sequence (of length 1).\n",
    "        target_seq = np.zeros((1, 1, num_decoder_tokens))\n",
    "        target_seq[0, 0, sampled_token_index] = 1.0\n",
    "\n",
    "        # Update states\n",
    "        states_value = [h, c]\n",
    "    return decoded_sentence"
   ]
  },
  {
   "cell_type": "markdown",
   "id": "a97bd2ee",
   "metadata": {},
   "source": [
    "<h1>Probar el modelo</h1>"
   ]
  },
  {
   "cell_type": "code",
   "execution_count": null,
   "id": "6fe5ab28",
   "metadata": {},
   "outputs": [],
   "source": [
    "for seq_index in range(100):\n",
    "    # Take one sequence (part of the training set)\n",
    "    # for trying out decoding.\n",
    "    input_seq = encoder_input_data[seq_index : seq_index + 1]\n",
    "    decoded_sentence = decode_sequence(input_seq)\n",
    "    print(\"-\")\n",
    "    print(\"Oración de entrada:\", input_texts[seq_index])\n",
    "    print(\"Oración decodificada:\", decoded_sentence)"
   ]
  }
 ],
 "metadata": {
  "kernelspec": {
   "display_name": "Python 3 (ipykernel)",
   "language": "python",
   "name": "python3"
  },
  "language_info": {
   "codemirror_mode": {
    "name": "ipython",
    "version": 3
   },
   "file_extension": ".py",
   "mimetype": "text/x-python",
   "name": "python",
   "nbconvert_exporter": "python",
   "pygments_lexer": "ipython3",
   "version": "3.9.16"
  }
 },
 "nbformat": 4,
 "nbformat_minor": 5
}
