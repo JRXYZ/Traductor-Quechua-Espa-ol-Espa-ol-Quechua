{
 "cells": [
  {
   "cell_type": "markdown",
   "id": "c2c67e2e",
   "metadata": {},
   "source": [
    "<h1 style=\"color:gold; background-color:black; padding:20px\">TRADUCTOR QUECHUA - ESPAÑOL / ESPAÑOL - QUECHUA</h1>"
   ]
  },
  {
   "cell_type": "markdown",
   "id": "e263aaa4",
   "metadata": {},
   "source": [
    "<h1>Importar librerias a utilizar</h1>"
   ]
  },
  {
   "cell_type": "code",
   "execution_count": null,
   "id": "7e9ecb12",
   "metadata": {},
   "outputs": [],
   "source": [
    "import keras\n",
    "import numpy as np\n",
    "#import openpyxl\n",
    "import pandas as pd"
   ]
  },
  {
   "cell_type": "code",
   "execution_count": null,
   "id": "acd6966f",
   "metadata": {},
   "outputs": [],
   "source": [
    "import tensorflow as tf\n",
    "from tensorflow.keras.layers import Input, LSTM, Dense\n",
    "from tensorflow.keras.models import Model\n",
    "from tensorflow.keras.utils import plot_model"
   ]
  },
  {
   "cell_type": "markdown",
   "id": "702e8751",
   "metadata": {},
   "source": [
    "<h1>Importar datos</h1>"
   ]
  },
  {
   "cell_type": "markdown",
   "id": "97a89f42",
   "metadata": {},
   "source": [
    "<p>Los archivos contienen palabras/oraciones paralelas\n",
    "<br>\n",
    "La primera columna está en español y la segunda en quechua</p>"
   ]
  },
  {
   "cell_type": "code",
   "execution_count": null,
   "id": "ef00fda7",
   "metadata": {},
   "outputs": [],
   "source": [
    "# Crear un dataframe vació que almacenará las traducciones \n",
    "df_trans = pd.DataFrame(columns=[\"Español\",\"Quechua\"])\n",
    "df_trans"
   ]
  },
  {
   "cell_type": "code",
   "execution_count": null,
   "id": "02f0b346",
   "metadata": {},
   "outputs": [],
   "source": [
    "arr_palabras = [\"adjetivos\", \"numeros\", \"pronombres\",\n",
    "                \"sustantivos\", \"verbos\"]\n",
    "\n",
    "arr_oraciones = [\"cheka\", \"deportes\", \"economia\", \n",
    "                 \"espectaculos\", \"lima\", \"mundo\",\n",
    "                \"politica\"]"
   ]
  },
  {
   "cell_type": "markdown",
   "id": "2b585202",
   "metadata": {},
   "source": [
    "<p>Se utilizó un tab (\"\\t\") como separador de columnas para evitar confusiones con las comas propias de las oraciones</p>"
   ]
  },
  {
   "cell_type": "code",
   "execution_count": null,
   "id": "2381e53b",
   "metadata": {},
   "outputs": [],
   "source": [
    "for item in arr_palabras:\n",
    "    file = \"./datos/palabras/{}.csv\".format(item)\n",
    "    df_temp = pd.read_csv(file, encoding=\"utf-8\", sep=\"\\t\")\n",
    "    df_trans.append(df_temp, ignore_index = True)"
   ]
  },
  {
   "cell_type": "code",
   "execution_count": null,
   "id": "322fd1bc",
   "metadata": {},
   "outputs": [],
   "source": [
    "for item in arr_oraciones:\n",
    "    file = \"./datos/oraciones/oraciones_{}.csv\".format(item)\n",
    "    df_temp = pd.read_csv(file, encoding=\"utf-8\", sep=\"\\t\")\n",
    "    df_trans.append(df_temp, ignore_index = True)"
   ]
  },
  {
   "cell_type": "markdown",
   "id": "c7fc2402",
   "metadata": {},
   "source": [
    "<h1>Definir funciones auxiliares</h1>"
   ]
  },
  {
   "cell_type": "code",
   "execution_count": null,
   "id": "eaf7020e",
   "metadata": {},
   "outputs": [],
   "source": []
  },
  {
   "cell_type": "code",
   "execution_count": null,
   "id": "fe030ee3",
   "metadata": {},
   "outputs": [],
   "source": []
  },
  {
   "cell_type": "code",
   "execution_count": null,
   "id": "a34ade38",
   "metadata": {},
   "outputs": [],
   "source": []
  },
  {
   "cell_type": "markdown",
   "id": "e2e7a6b1",
   "metadata": {},
   "source": [
    "<h1>Implementar lógica del proyecto</h1>"
   ]
  },
  {
   "cell_type": "code",
   "execution_count": null,
   "id": "1aa1b0f2",
   "metadata": {},
   "outputs": [],
   "source": []
  },
  {
   "cell_type": "code",
   "execution_count": null,
   "id": "5f2f0cf5",
   "metadata": {},
   "outputs": [],
   "source": []
  },
  {
   "cell_type": "code",
   "execution_count": null,
   "id": "89c9f63e",
   "metadata": {},
   "outputs": [],
   "source": []
  },
  {
   "cell_type": "code",
   "execution_count": null,
   "id": "4d12a6ca",
   "metadata": {},
   "outputs": [],
   "source": [
    "def traducir(texto, lg_sr, lg_dt):\n",
    "    # lg_sr = source language\n",
    "    # lg_dt = destine language\n",
    "    \n",
    "    pass"
   ]
  },
  {
   "cell_type": "code",
   "execution_count": null,
   "id": "c4169602",
   "metadata": {},
   "outputs": [],
   "source": []
  },
  {
   "cell_type": "markdown",
   "id": "6d482c31",
   "metadata": {},
   "source": [
    "<h1>Ejemplos</h1>"
   ]
  },
  {
   "cell_type": "markdown",
   "id": "ccd9bf58",
   "metadata": {},
   "source": [
    "<h3 style=\"color:crimson\">Español --&gt Quechua</h3>"
   ]
  },
  {
   "cell_type": "code",
   "execution_count": null,
   "id": "2150e0d0",
   "metadata": {},
   "outputs": [],
   "source": [
    "texto = \"\"\n",
    "traducir(texto, \"es\", \"qu\")"
   ]
  },
  {
   "cell_type": "code",
   "execution_count": null,
   "id": "b6e4ebba",
   "metadata": {},
   "outputs": [],
   "source": [
    "texto = \"\"\n",
    "traducir(texto, \"es\", \"qu\")"
   ]
  },
  {
   "cell_type": "code",
   "execution_count": null,
   "id": "cf26330d",
   "metadata": {},
   "outputs": [],
   "source": [
    "texto = \"\"\n",
    "traducir(texto, \"es\", \"qu\")"
   ]
  },
  {
   "cell_type": "markdown",
   "id": "6da28677",
   "metadata": {},
   "source": [
    "<h3 style=\"color:crimson\">Quechua --&gt Español</h3>"
   ]
  },
  {
   "cell_type": "code",
   "execution_count": null,
   "id": "a6d29bef",
   "metadata": {},
   "outputs": [],
   "source": [
    "texto = \"\"\n",
    "traducir(texto, \"qu\", \"es\")"
   ]
  },
  {
   "cell_type": "code",
   "execution_count": null,
   "id": "2009ca2e",
   "metadata": {},
   "outputs": [],
   "source": [
    "texto = \"\"\n",
    "traducir(texto, \"qu\", \"es\")"
   ]
  },
  {
   "cell_type": "code",
   "execution_count": null,
   "id": "b62f2908",
   "metadata": {},
   "outputs": [],
   "source": [
    "texto = \"\"\n",
    "traducir(texto, \"qu\", \"es\")"
   ]
  }
 ],
 "metadata": {
  "kernelspec": {
   "display_name": "Python 3 (ipykernel)",
   "language": "python",
   "name": "python3"
  },
  "language_info": {
   "codemirror_mode": {
    "name": "ipython",
    "version": 3
   },
   "file_extension": ".py",
   "mimetype": "text/x-python",
   "name": "python",
   "nbconvert_exporter": "python",
   "pygments_lexer": "ipython3",
   "version": "3.9.16"
  }
 },
 "nbformat": 4,
 "nbformat_minor": 5
}
