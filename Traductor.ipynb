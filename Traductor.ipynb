{
 "cells": [
  {
   "cell_type": "markdown",
   "id": "c0e55d39",
   "metadata": {},
   "source": [
    "<h1 style=\"color:gold; background-color:black; padding:20px\">TRADUCTOR QUECHUA - ESPAÑOL / ESPAÑOL - QUECHUA</h1>"
   ]
  },
  {
   "cell_type": "markdown",
   "id": "d2371d73",
   "metadata": {},
   "source": [
    "## Versiones de las librerias a importar"
   ]
  },
  {
   "cell_type": "markdown",
   "id": "53a9eff4",
   "metadata": {},
   "source": [
    "### pandas X.Y"
   ]
  },
  {
   "cell_type": "markdown",
   "id": "400fbee9",
   "metadata": {},
   "source": [
    "<h1>Importar librerias a utilizar</h1>"
   ]
  },
  {
   "cell_type": "code",
   "execution_count": null,
   "id": "7e9ecb12",
   "metadata": {},
   "outputs": [],
   "source": [
    "import pandas as pd\n",
    "import openpyxl"
   ]
  },
  {
   "cell_type": "code",
   "execution_count": null,
   "id": "6d35f553",
   "metadata": {},
   "outputs": [],
   "source": []
  },
  {
   "cell_type": "markdown",
   "id": "dcc54249",
   "metadata": {},
   "source": [
    "<h1>Importar datos</h1>"
   ]
  },
  {
   "cell_type": "markdown",
   "id": "781b4ce6",
   "metadata": {},
   "source": [
    "<p>Los archivos contienen palabras/oraciones paralelas\n",
    "<br>\n",
    "La primera columna está en español y la segunda en quechua</p>"
   ]
  },
  {
   "cell_type": "code",
   "execution_count": null,
   "id": "5b656c5a",
   "metadata": {},
   "outputs": [],
   "source": [
    "df_numeros = pd.read_csv(\"./datos/numeros.csv\")\n",
    "df_verbos = pd.read_csv(\"./datos/verbos.csv\")\n",
    "df_sustantivos = pd.read_csv(\"./datos/numeros.csv\")\n",
    "df_adjetivos = pd.read_csv(\"./datos/numeros.csv\")"
   ]
  },
  {
   "cell_type": "markdown",
   "id": "380325d9",
   "metadata": {},
   "source": [
    "<p>Se utilizó un tab como separador de columnas para evitar confusiones con las comas propias de las oraciones</p>"
   ]
  },
  {
   "cell_type": "code",
   "execution_count": null,
   "id": "b4245a5f",
   "metadata": {},
   "outputs": [],
   "source": [
    "df_oraciones = pd.read_csv(\"./datos/oracions.csv\")"
   ]
  },
  {
   "cell_type": "code",
   "execution_count": null,
   "id": "071531ae",
   "metadata": {},
   "outputs": [],
   "source": []
  },
  {
   "cell_type": "code",
   "execution_count": null,
   "id": "3c9103a0",
   "metadata": {},
   "outputs": [],
   "source": []
  },
  {
   "cell_type": "code",
   "execution_count": null,
   "id": "99fdb44c",
   "metadata": {},
   "outputs": [],
   "source": []
  },
  {
   "cell_type": "code",
   "execution_count": null,
   "id": "840cee8b",
   "metadata": {},
   "outputs": [],
   "source": []
  },
  {
   "cell_type": "code",
   "execution_count": null,
   "id": "e253f6d0",
   "metadata": {},
   "outputs": [],
   "source": []
  },
  {
   "cell_type": "code",
   "execution_count": null,
   "id": "9cca84f9",
   "metadata": {},
   "outputs": [],
   "source": []
  }
 ],
 "metadata": {
  "kernelspec": {
   "display_name": "Python 3 (ipykernel)",
   "language": "python",
   "name": "python3"
  },
  "language_info": {
   "codemirror_mode": {
    "name": "ipython",
    "version": 3
   },
   "file_extension": ".py",
   "mimetype": "text/x-python",
   "name": "python",
   "nbconvert_exporter": "python",
   "pygments_lexer": "ipython3",
   "version": "3.10.11"
  }
 },
 "nbformat": 4,
 "nbformat_minor": 5
}
